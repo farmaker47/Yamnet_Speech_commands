{
  "nbformat": 4,
  "nbformat_minor": 0,
  "metadata": {
    "colab": {
      "name": "Yamnet_Plain_Speech_commands.ipynb",
      "provenance": [],
      "collapsed_sections": []
    },
    "kernelspec": {
      "name": "python3",
      "display_name": "Python 3"
    },
    "language_info": {
      "name": "python"
    },
    "accelerator": "GPU"
  },
  "cells": [
    {
      "cell_type": "code",
      "metadata": {
        "id": "V4nBdvnZmbsL"
      },
      "source": [
        "!pip install -q tensorflow_io\n",
        "import tensorflow_io as tfio\n",
        "\n",
        "import os\n",
        "import pathlib\n",
        "\n",
        "import matplotlib.pyplot as plt\n",
        "import numpy as np\n",
        "import pandas as pd\n",
        "import tensorflow as tf\n",
        "from tensorflow import keras as keras\n",
        "import tensorflow_hub as hub\n",
        "\n",
        "from tensorflow.keras.layers.experimental import preprocessing\n",
        "from tensorflow.keras import layers\n",
        "from tensorflow.keras import models\n",
        "from IPython import display\n",
        "\n",
        "\n",
        "# Set seed for experiment reproducibility\n",
        "#seed = 42\n",
        "#tf.random.set_seed(seed)\n",
        "#np.random.seed(seed)"
      ],
      "execution_count": 1,
      "outputs": []
    },
    {
      "cell_type": "code",
      "metadata": {
        "colab": {
          "base_uri": "https://localhost:8080/"
        },
        "id": "hp27RunVmqAT",
        "outputId": "5791a96b-5ae1-4a27-fcd6-201d0dbf412e"
      },
      "source": [
        "print(tf.__version__)\n",
        "print(keras.__version__)"
      ],
      "execution_count": 2,
      "outputs": [
        {
          "output_type": "stream",
          "text": [
            "2.5.0\n",
            "2.5.0\n"
          ],
          "name": "stdout"
        }
      ]
    },
    {
      "cell_type": "code",
      "metadata": {
        "colab": {
          "base_uri": "https://localhost:8080/"
        },
        "id": "GKj9Pst_h_jY",
        "outputId": "38188f69-db1a-4c16-ba67-ae42a000b3ba"
      },
      "source": [
        "!nvidia-smi"
      ],
      "execution_count": 3,
      "outputs": [
        {
          "output_type": "stream",
          "text": [
            "Mon Jun 14 05:53:02 2021       \n",
            "+-----------------------------------------------------------------------------+\n",
            "| NVIDIA-SMI 465.27       Driver Version: 460.32.03    CUDA Version: 11.2     |\n",
            "|-------------------------------+----------------------+----------------------+\n",
            "| GPU  Name        Persistence-M| Bus-Id        Disp.A | Volatile Uncorr. ECC |\n",
            "| Fan  Temp  Perf  Pwr:Usage/Cap|         Memory-Usage | GPU-Util  Compute M. |\n",
            "|                               |                      |               MIG M. |\n",
            "|===============================+======================+======================|\n",
            "|   0  Tesla K80           Off  | 00000000:00:04.0 Off |                    0 |\n",
            "| N/A   47C    P8    31W / 149W |      0MiB / 11441MiB |      0%      Default |\n",
            "|                               |                      |                  N/A |\n",
            "+-------------------------------+----------------------+----------------------+\n",
            "                                                                               \n",
            "+-----------------------------------------------------------------------------+\n",
            "| Processes:                                                                  |\n",
            "|  GPU   GI   CI        PID   Type   Process name                  GPU Memory |\n",
            "|        ID   ID                                                   Usage      |\n",
            "|=============================================================================|\n",
            "|  No running processes found                                                 |\n",
            "+-----------------------------------------------------------------------------+\n"
          ],
          "name": "stdout"
        }
      ]
    },
    {
      "cell_type": "code",
      "metadata": {
        "colab": {
          "base_uri": "https://localhost:8080/"
        },
        "id": "muTu3WVDmtZ3",
        "outputId": "cf8dfd90-c07b-4724-d010-f6bb0de34810"
      },
      "source": [
        "# Download folder and unzip it\n",
        "data_dir = pathlib.Path('data/mini_speech_commands')\n",
        "if not data_dir.exists():\n",
        "  tf.keras.utils.get_file(\n",
        "      'mini_speech_commands.zip',\n",
        "      origin=\"http://storage.googleapis.com/download.tensorflow.org/data/mini_speech_commands.zip\",\n",
        "      extract=True,\n",
        "      cache_dir='.', cache_subdir='data')\n"
      ],
      "execution_count": 4,
      "outputs": [
        {
          "output_type": "stream",
          "text": [
            "Downloading data from http://storage.googleapis.com/download.tensorflow.org/data/mini_speech_commands.zip\n",
            "182083584/182082353 [==============================] - 5s 0us/step\n"
          ],
          "name": "stdout"
        }
      ]
    },
    {
      "cell_type": "code",
      "metadata": {
        "colab": {
          "base_uri": "https://localhost:8080/"
        },
        "id": "fLtzkqMZoriw",
        "outputId": "7e1510e0-fd2d-4543-d99c-4667c4497b45"
      },
      "source": [
        "# Print commands\n",
        "commands = []\n",
        "commands.append('down')\n",
        "commands.append('go')\n",
        "commands.append('left')\n",
        "commands.append('no')\n",
        "commands.append('right')\n",
        "commands.append('stop')\n",
        "commands.append('up')\n",
        "commands.append('yes')\n",
        "\n",
        "commands = np.array(commands)#np.array(tf.io.gfile.listdir(str(data_dir)))\n",
        "#commands = commands[commands != 'README.md']\n",
        "print('Commands:', commands)\n",
        "\n",
        "# Shuffle audio samples and print some info\n",
        "filenames = tf.io.gfile.glob(str(data_dir) + '/*/*')\n",
        "filenames = tf.random.shuffle(filenames)\n",
        "print(type(filenames))\n",
        "num_samples = len(filenames)\n",
        "print('Number of total examples:', num_samples)\n",
        "print('Number of examples per label:', len(tf.io.gfile.listdir(str(data_dir/commands[0]))))\n",
        "print('Example file tensor:', filenames[0])"
      ],
      "execution_count": 5,
      "outputs": [
        {
          "output_type": "stream",
          "text": [
            "Commands: ['down' 'go' 'left' 'no' 'right' 'stop' 'up' 'yes']\n",
            "<class 'tensorflow.python.framework.ops.EagerTensor'>\n",
            "Number of total examples: 8000\n",
            "Number of examples per label: 1000\n",
            "Example file tensor: tf.Tensor(b'data/mini_speech_commands/left/97f4c236_nohash_0.wav', shape=(), dtype=string)\n"
          ],
          "name": "stdout"
        }
      ]
    },
    {
      "cell_type": "code",
      "metadata": {
        "id": "xplb9y16nWbV"
      },
      "source": [
        "'''\n",
        "The audio file will initially be read as a binary file, which you'll want to convert into a numerical tensor.\n",
        "To load an audio file, you will use tf.audio.decode_wav, which returns the WAV-encoded audio as a Tensor and the sample rate.\n",
        "A WAV file contains time series data with a set number of samples per second. Each sample represents the amplitude of the audio signal at that specific time.\n",
        "In a 16-bit system, like the files in mini_speech_commands, the values range from -32768 to 32767. The sample rate for this dataset is 16kHz. \n",
        "Note that tf.audio.decode_wav will normalize the values to the range [-1.0, 1.0].\n",
        "'''\n",
        "def decode_audio(audio_binary):\n",
        "  audio, _ = tf.audio.decode_wav(audio_binary)\n",
        "  return tf.squeeze(audio, axis=-1)\n",
        "\n",
        "def get_label(file_path):\n",
        "  parts = tf.strings.split(file_path, os.path.sep)\n",
        "\n",
        "  # Note: You'll use indexing here instead of tuple unpacking to enable this \n",
        "  # to work in a TensorFlow graph.\n",
        "  return parts[-2]\n",
        "\n",
        "def get_waveform_and_label_in_integer(file_path):\n",
        "  label = get_label(file_path)\n",
        "  #print(label.numpy().decode('utf-8'))\n",
        "  label = tf.argmax(label == commands)\n",
        "  label = tf.cast(label, tf.int32)  \n",
        "  audio_binary = tf.io.read_file(file_path)\n",
        "  waveform = decode_audio(audio_binary)\n",
        "  return waveform, label\n",
        "\n",
        "# We need the waveforms to have a similar length.\n",
        "# This can be done by simply zero padding the audio clips that are shorter than one second.\n",
        "\n",
        "def zero_pad_the_waveforms(waveform):\n",
        "  # Padding for files with less than 16000 samples\n",
        "  zero_padding = tf.zeros([16000] - tf.shape(waveform), dtype=tf.float32)\n",
        "\n",
        "  # Concatenate audio with padding so that all audio clips will be of the \n",
        "  # same length\n",
        "  waveform = tf.cast(waveform, tf.float32)\n",
        "  equal_length = tf.concat([waveform, zero_padding], 0)\n",
        "\n",
        "  return equal_length"
      ],
      "execution_count": 7,
      "outputs": []
    },
    {
      "cell_type": "code",
      "metadata": {
        "id": "MHS1Q10dRHFa"
      },
      "source": [
        "train_x = []\n",
        "train_y = []\n",
        "\n",
        "for i in filenames:\n",
        "  #print(i)\n",
        "  train_x.append(zero_pad_the_waveforms(get_waveform_and_label_in_integer(i)[0]))\n",
        "  train_y.append(get_waveform_and_label_in_integer(i)[1])"
      ],
      "execution_count": 8,
      "outputs": []
    },
    {
      "cell_type": "code",
      "metadata": {
        "colab": {
          "base_uri": "https://localhost:8080/"
        },
        "id": "iYeDiCuiRGCz",
        "outputId": "2fc20d42-a957-4dde-dd9c-dc9612d77693"
      },
      "source": [
        "print(len(train_x))\n",
        "print(filenames[:7])\n",
        "print(train_x[:7])\n",
        "print(train_y[:7])"
      ],
      "execution_count": 10,
      "outputs": [
        {
          "output_type": "stream",
          "text": [
            "8000\n",
            "tf.Tensor(\n",
            "[b'data/mini_speech_commands/left/97f4c236_nohash_0.wav'\n",
            " b'data/mini_speech_commands/stop/2903efb3_nohash_0.wav'\n",
            " b'data/mini_speech_commands/stop/fd395b74_nohash_3.wav'\n",
            " b'data/mini_speech_commands/up/1c3f50ad_nohash_0.wav'\n",
            " b'data/mini_speech_commands/yes/a6d586b7_nohash_1.wav'\n",
            " b'data/mini_speech_commands/left/d7ca14ef_nohash_0.wav'\n",
            " b'data/mini_speech_commands/go/36de13e1_nohash_0.wav'], shape=(7,), dtype=string)\n",
            "[<tf.Tensor: shape=(16000,), dtype=float32, numpy=\n",
            "array([0.03152466, 0.02905273, 0.03045654, ..., 0.01751709, 0.02120972,\n",
            "       0.03109741], dtype=float32)>, <tf.Tensor: shape=(16000,), dtype=float32, numpy=array([0., 0., 0., ..., 0., 0., 0.], dtype=float32)>, <tf.Tensor: shape=(16000,), dtype=float32, numpy=\n",
            "array([0.00036621, 0.00082397, 0.0005188 , ..., 0.00076294, 0.00054932,\n",
            "       0.00079346], dtype=float32)>, <tf.Tensor: shape=(16000,), dtype=float32, numpy=\n",
            "array([ 0.00115967,  0.0012207 ,  0.00100708, ..., -0.00158691,\n",
            "       -0.0017395 , -0.00152588], dtype=float32)>, <tf.Tensor: shape=(16000,), dtype=float32, numpy=\n",
            "array([-3.0517578e-05,  1.2207031e-04,  1.2207031e-04, ...,\n",
            "        6.1035156e-05, -6.1035156e-05,  2.1362305e-04], dtype=float32)>, <tf.Tensor: shape=(16000,), dtype=float32, numpy=\n",
            "array([ 0.00473022,  0.00762939,  0.00845337, ..., -0.00665283,\n",
            "       -0.00631714, -0.00610352], dtype=float32)>, <tf.Tensor: shape=(16000,), dtype=float32, numpy=\n",
            "array([-0.00079346, -0.00408936, -0.00411987, ..., -0.00354004,\n",
            "       -0.00357056, -0.00408936], dtype=float32)>]\n",
            "[<tf.Tensor: shape=(), dtype=int32, numpy=2>, <tf.Tensor: shape=(), dtype=int32, numpy=5>, <tf.Tensor: shape=(), dtype=int32, numpy=5>, <tf.Tensor: shape=(), dtype=int32, numpy=6>, <tf.Tensor: shape=(), dtype=int32, numpy=7>, <tf.Tensor: shape=(), dtype=int32, numpy=2>, <tf.Tensor: shape=(), dtype=int32, numpy=1>]\n"
          ],
          "name": "stdout"
        }
      ]
    },
    {
      "cell_type": "code",
      "metadata": {
        "id": "nomHM4a9GJ-D"
      },
      "source": [
        "train_x_slice = train_x[:6400]\n",
        "train_y_slice = train_y[:6400]\n",
        "\n",
        "val_x_slice = train_x[6400:]\n",
        "val_y_slice = train_y[6400:]"
      ],
      "execution_count": 11,
      "outputs": []
    },
    {
      "cell_type": "code",
      "metadata": {
        "id": "9jMgq56WUAQ-",
        "colab": {
          "base_uri": "https://localhost:8080/"
        },
        "outputId": "e425a6bd-94a4-4962-b376-bcba4be55531"
      },
      "source": [
        "train_x = tf.convert_to_tensor(train_x_slice)\n",
        "train_y = tf.convert_to_tensor(train_y_slice)\n",
        "print(len(train_x))\n",
        "print(len(train_y))\n",
        "val_x =  tf.convert_to_tensor(val_x_slice)\n",
        "val_y =  tf.convert_to_tensor(val_y_slice)\n",
        "print(len(val_x))\n",
        "print(len(val_y))"
      ],
      "execution_count": 12,
      "outputs": [
        {
          "output_type": "stream",
          "text": [
            "6400\n",
            "6400\n",
            "1600\n",
            "1600\n"
          ],
          "name": "stdout"
        }
      ]
    },
    {
      "cell_type": "code",
      "metadata": {
        "colab": {
          "base_uri": "https://localhost:8080/"
        },
        "id": "WxaPgjMf04zL",
        "outputId": "534112ff-046c-4068-cb62-526f728325b4"
      },
      "source": [
        "print(train_x[:4])\n",
        "print(train_y[:4])"
      ],
      "execution_count": 13,
      "outputs": [
        {
          "output_type": "stream",
          "text": [
            "tf.Tensor(\n",
            "[[ 0.03152466  0.02905273  0.03045654 ...  0.01751709  0.02120972\n",
            "   0.03109741]\n",
            " [ 0.          0.          0.         ...  0.          0.\n",
            "   0.        ]\n",
            " [ 0.00036621  0.00082397  0.0005188  ...  0.00076294  0.00054932\n",
            "   0.00079346]\n",
            " [ 0.00115967  0.0012207   0.00100708 ... -0.00158691 -0.0017395\n",
            "  -0.00152588]], shape=(4, 16000), dtype=float32)\n",
            "tf.Tensor([2 5 5 6], shape=(4,), dtype=int32)\n"
          ],
          "name": "stdout"
        }
      ]
    },
    {
      "cell_type": "code",
      "metadata": {
        "colab": {
          "base_uri": "https://localhost:8080/"
        },
        "id": "ALVQ0IHQHApJ",
        "outputId": "455b0d6c-904e-451d-98ae-571e0c00339d"
      },
      "source": [
        "print(val_x[:4])\n",
        "print(val_y[:4])"
      ],
      "execution_count": 14,
      "outputs": [
        {
          "output_type": "stream",
          "text": [
            "tf.Tensor(\n",
            "[[ 0.00024414  0.00039673  0.00045776 ...  0.00091553  0.00094604\n",
            "   0.00054932]\n",
            " [-0.00387573 -0.00463867 -0.00549316 ... -0.00531006 -0.003479\n",
            "  -0.0050354 ]\n",
            " [-0.00027466 -0.00076294 -0.00082397 ... -0.00167847 -0.00149536\n",
            "  -0.00067139]\n",
            " [-0.00509644 -0.01043701 -0.01034546 ...  0.01113892  0.00811768\n",
            "   0.00698853]], shape=(4, 16000), dtype=float32)\n",
            "tf.Tensor([7 1 6 2], shape=(4,), dtype=int32)\n"
          ],
          "name": "stdout"
        }
      ]
    },
    {
      "cell_type": "code",
      "metadata": {
        "colab": {
          "base_uri": "https://localhost:8080/"
        },
        "id": "zh1OZUrJw07a",
        "outputId": "2fe100ff-4d6f-4e1e-ffa4-9d09306a9f84"
      },
      "source": [
        "numpy_y = train_y.numpy()\n",
        "print(numpy_y)\n",
        "print(tf.convert_to_tensor(numpy_y[:4]))"
      ],
      "execution_count": null,
      "outputs": [
        {
          "output_type": "stream",
          "text": [
            "[5 4 0 ... 3 3 7]\n",
            "tf.Tensor([5 4 0 3], shape=(4,), dtype=int32)\n"
          ],
          "name": "stdout"
        }
      ]
    },
    {
      "cell_type": "markdown",
      "metadata": {
        "id": "4O-t_navYRMz"
      },
      "source": [
        "# Yamnet"
      ]
    },
    {
      "cell_type": "code",
      "metadata": {
        "id": "YgVIlfJbYS7x"
      },
      "source": [
        "# Download the model from TFHub\n",
        "yamnet_model_handle = 'https://tfhub.dev/google/yamnet/1'\n",
        "yamnet_model = hub.load(yamnet_model_handle)"
      ],
      "execution_count": 15,
      "outputs": []
    },
    {
      "cell_type": "code",
      "metadata": {
        "colab": {
          "base_uri": "https://localhost:8080/"
        },
        "id": "uTaogiDRYTiT",
        "outputId": "8de7a54f-3b7d-4c18-a7e9-abc6601b0861"
      },
      "source": [
        "# Print the classes\n",
        "class_map_path = yamnet_model.class_map_path().numpy().decode('utf-8')\n",
        "class_names =list(pd.read_csv(class_map_path)['display_name'])\n",
        "\n",
        "for name in class_names[:20]:\n",
        "  print(name)\n",
        "print('...')"
      ],
      "execution_count": 16,
      "outputs": [
        {
          "output_type": "stream",
          "text": [
            "Speech\n",
            "Child speech, kid speaking\n",
            "Conversation\n",
            "Narration, monologue\n",
            "Babbling\n",
            "Speech synthesizer\n",
            "Shout\n",
            "Bellow\n",
            "Whoop\n",
            "Yell\n",
            "Children shouting\n",
            "Screaming\n",
            "Whispering\n",
            "Laughter\n",
            "Baby laughter\n",
            "Giggle\n",
            "Snicker\n",
            "Belly laugh\n",
            "Chuckle, chortle\n",
            "Crying, sobbing\n",
            "...\n"
          ],
          "name": "stdout"
        }
      ]
    },
    {
      "cell_type": "code",
      "metadata": {
        "id": "3P29qsVHWSoh"
      },
      "source": [
        "# applies the embedding extraction model to a wav data\n",
        "def extract_embedding_data(wav_data):\n",
        "  ''' run YAMNet to extract embedding from the wav data '''\n",
        "  #print(len(wav_data))\n",
        "  scores, embeddings, spectrogram = yamnet_model(wav_data)\n",
        "  #num_embeddings = tf.shape(embeddings)[0]\n",
        "  return embeddings\n",
        "\n",
        "# applies the embedding extraction model to a wav data\n",
        "def extract_embedding_data_one_output(wav_data):\n",
        "  ''' run YAMNet to extract embedding from the wav data '''\n",
        "  scores, embeddings, spectrogram = yamnet_model(wav_data)\n",
        "  embeddings = tf.reduce_mean(embeddings, 0)\n",
        "  return embeddings\n",
        "\n",
        "# Convert train_x with yamnet\n",
        "new_array_train_x = []\n",
        "\n",
        "for i in train_x:\n",
        "  #print(len(i))\n",
        "  new_array_train_x.append(extract_embedding_data_one_output(i))\n",
        "  #new_array.append(extract_embedding_data(i))\n",
        "\n",
        "yamnet_train_x = tf.convert_to_tensor(new_array_train_x)\n",
        "\n",
        "# Convert val_x with yamnet\n",
        "new_array_val_x = []\n",
        "\n",
        "for i in val_x:\n",
        "  #print(len(i))\n",
        "  new_array_val_x.append(extract_embedding_data_one_output(i))\n",
        "  #new_array.append(extract_embedding_data(i))\n",
        "\n",
        "yamnet_val_x = tf.convert_to_tensor(new_array_val_x)"
      ],
      "execution_count": 17,
      "outputs": []
    },
    {
      "cell_type": "code",
      "metadata": {
        "colab": {
          "base_uri": "https://localhost:8080/"
        },
        "id": "eZC8Cxh3YEV0",
        "outputId": "e3313d9a-b824-4903-a5c2-1de983089809"
      },
      "source": [
        "print(len(yamnet_train_x))\n",
        "print(yamnet_train_x[:1])\n",
        "print(len(yamnet_val_x))\n",
        "print(yamnet_val_x[:1])"
      ],
      "execution_count": 18,
      "outputs": [
        {
          "output_type": "stream",
          "text": [
            "6400\n",
            "tf.Tensor([[0.         0.23515083 0.2921302  ... 0.0163921  0.         0.        ]], shape=(1, 1024), dtype=float32)\n",
            "1600\n",
            "tf.Tensor([[0.         0.12064028 0.62147903 ... 0.         0.         0.        ]], shape=(1, 1024), dtype=float32)\n"
          ],
          "name": "stdout"
        }
      ]
    },
    {
      "cell_type": "code",
      "metadata": {
        "colab": {
          "base_uri": "https://localhost:8080/"
        },
        "id": "nMtM8rRJcKv2",
        "outputId": "e812138f-51af-4b7d-8535-f807ccd8128a"
      },
      "source": [
        "my_model = tf.keras.Sequential([\n",
        "    tf.keras.layers.Input(shape=(1024), dtype=tf.float32,\n",
        "                          name='input_embedding'),\n",
        "    tf.keras.layers.Dense(512, activation='relu'),\n",
        "    tf.keras.layers.Dense(len(commands))\n",
        "], name='my_model')\n",
        "\n",
        "my_model.summary()"
      ],
      "execution_count": 19,
      "outputs": [
        {
          "output_type": "stream",
          "text": [
            "WARNING:tensorflow:Please add `keras.layers.InputLayer` instead of `keras.Input` to Sequential model. `keras.Input` is intended to be used by Functional model.\n"
          ],
          "name": "stdout"
        },
        {
          "output_type": "stream",
          "text": [
            "WARNING:tensorflow:Please add `keras.layers.InputLayer` instead of `keras.Input` to Sequential model. `keras.Input` is intended to be used by Functional model.\n"
          ],
          "name": "stderr"
        },
        {
          "output_type": "stream",
          "text": [
            "Model: \"my_model\"\n",
            "_________________________________________________________________\n",
            "Layer (type)                 Output Shape              Param #   \n",
            "=================================================================\n",
            "dense (Dense)                (None, 512)               524800    \n",
            "_________________________________________________________________\n",
            "dense_1 (Dense)              (None, 8)                 4104      \n",
            "=================================================================\n",
            "Total params: 528,904\n",
            "Trainable params: 528,904\n",
            "Non-trainable params: 0\n",
            "_________________________________________________________________\n"
          ],
          "name": "stdout"
        }
      ]
    },
    {
      "cell_type": "code",
      "metadata": {
        "id": "U2NRLuW4cobr"
      },
      "source": [
        "my_model.compile(loss=tf.keras.losses.SparseCategoricalCrossentropy(from_logits=True),\n",
        "                 optimizer=\"adam\",\n",
        "                 metrics=['accuracy'])\n",
        "\n",
        "callback = tf.keras.callbacks.EarlyStopping(monitor='loss',\n",
        "                                            patience=3,\n",
        "                                            restore_best_weights=True)"
      ],
      "execution_count": 20,
      "outputs": []
    },
    {
      "cell_type": "code",
      "metadata": {
        "colab": {
          "base_uri": "https://localhost:8080/"
        },
        "id": "h6xPZ0iTctvK",
        "outputId": "c0d42932-59cc-4a1e-f1f6-366208487811"
      },
      "source": [
        "history = my_model.fit(yamnet_train_x,train_y,\n",
        "                       validation_data=(yamnet_val_x, val_y),\n",
        "                       epochs=40,\n",
        "                       callbacks=callback,\n",
        "                       batch_size=32,\n",
        "                       verbose=1)"
      ],
      "execution_count": 22,
      "outputs": [
        {
          "output_type": "stream",
          "text": [
            "Epoch 1/40\n",
            "200/200 [==============================] - 1s 4ms/step - loss: 1.8310 - accuracy: 0.3261 - val_loss: 1.5858 - val_accuracy: 0.4194\n",
            "Epoch 2/40\n",
            "200/200 [==============================] - 1s 3ms/step - loss: 1.5207 - accuracy: 0.4517 - val_loss: 1.4404 - val_accuracy: 0.4913\n",
            "Epoch 3/40\n",
            "200/200 [==============================] - 1s 3ms/step - loss: 1.4081 - accuracy: 0.4909 - val_loss: 1.3875 - val_accuracy: 0.4981\n",
            "Epoch 4/40\n",
            "200/200 [==============================] - 1s 3ms/step - loss: 1.3161 - accuracy: 0.5269 - val_loss: 1.3898 - val_accuracy: 0.4750\n",
            "Epoch 5/40\n",
            "200/200 [==============================] - 1s 3ms/step - loss: 1.2565 - accuracy: 0.5492 - val_loss: 1.2957 - val_accuracy: 0.5169\n",
            "Epoch 6/40\n",
            "200/200 [==============================] - 1s 3ms/step - loss: 1.2006 - accuracy: 0.5652 - val_loss: 1.2997 - val_accuracy: 0.5288\n",
            "Epoch 7/40\n",
            "200/200 [==============================] - 1s 3ms/step - loss: 1.1411 - accuracy: 0.5931 - val_loss: 1.2713 - val_accuracy: 0.5350\n",
            "Epoch 8/40\n",
            "200/200 [==============================] - 1s 3ms/step - loss: 1.0970 - accuracy: 0.6044 - val_loss: 1.2577 - val_accuracy: 0.5362\n",
            "Epoch 9/40\n",
            "200/200 [==============================] - 1s 3ms/step - loss: 1.0408 - accuracy: 0.6333 - val_loss: 1.2883 - val_accuracy: 0.5206\n",
            "Epoch 10/40\n",
            "200/200 [==============================] - 1s 3ms/step - loss: 1.0056 - accuracy: 0.6452 - val_loss: 1.2785 - val_accuracy: 0.5206\n",
            "Epoch 11/40\n",
            "200/200 [==============================] - 1s 3ms/step - loss: 0.9483 - accuracy: 0.6669 - val_loss: 1.2674 - val_accuracy: 0.5312\n",
            "Epoch 12/40\n",
            "200/200 [==============================] - 1s 3ms/step - loss: 0.9029 - accuracy: 0.6872 - val_loss: 1.2422 - val_accuracy: 0.5431\n",
            "Epoch 13/40\n",
            "200/200 [==============================] - 1s 3ms/step - loss: 0.8513 - accuracy: 0.7039 - val_loss: 1.2557 - val_accuracy: 0.5387\n",
            "Epoch 14/40\n",
            "200/200 [==============================] - 1s 3ms/step - loss: 0.8031 - accuracy: 0.7214 - val_loss: 1.3124 - val_accuracy: 0.5387\n",
            "Epoch 15/40\n",
            "200/200 [==============================] - 1s 3ms/step - loss: 0.7665 - accuracy: 0.7442 - val_loss: 1.3016 - val_accuracy: 0.5356\n",
            "Epoch 16/40\n",
            "200/200 [==============================] - 1s 3ms/step - loss: 0.7267 - accuracy: 0.7503 - val_loss: 1.3512 - val_accuracy: 0.5369\n",
            "Epoch 17/40\n",
            "200/200 [==============================] - 1s 3ms/step - loss: 0.6801 - accuracy: 0.7742 - val_loss: 1.3179 - val_accuracy: 0.5337\n",
            "Epoch 18/40\n",
            "200/200 [==============================] - 1s 3ms/step - loss: 0.6443 - accuracy: 0.7861 - val_loss: 1.3245 - val_accuracy: 0.5362\n",
            "Epoch 19/40\n",
            "200/200 [==============================] - 1s 3ms/step - loss: 0.6056 - accuracy: 0.8058 - val_loss: 1.4315 - val_accuracy: 0.5319\n",
            "Epoch 20/40\n",
            "200/200 [==============================] - 1s 3ms/step - loss: 0.5782 - accuracy: 0.8105 - val_loss: 1.3099 - val_accuracy: 0.5581\n",
            "Epoch 21/40\n",
            "200/200 [==============================] - 1s 3ms/step - loss: 0.5475 - accuracy: 0.8294 - val_loss: 1.4236 - val_accuracy: 0.5394\n",
            "Epoch 22/40\n",
            "200/200 [==============================] - 1s 3ms/step - loss: 0.4978 - accuracy: 0.8388 - val_loss: 1.4443 - val_accuracy: 0.5381\n",
            "Epoch 23/40\n",
            "200/200 [==============================] - 1s 3ms/step - loss: 0.4628 - accuracy: 0.8650 - val_loss: 1.3861 - val_accuracy: 0.5487\n",
            "Epoch 24/40\n",
            "200/200 [==============================] - 1s 3ms/step - loss: 0.4253 - accuracy: 0.8736 - val_loss: 1.4037 - val_accuracy: 0.5562\n",
            "Epoch 25/40\n",
            "200/200 [==============================] - 1s 3ms/step - loss: 0.4085 - accuracy: 0.8803 - val_loss: 1.4840 - val_accuracy: 0.5263\n",
            "Epoch 26/40\n",
            "200/200 [==============================] - 1s 3ms/step - loss: 0.3777 - accuracy: 0.8925 - val_loss: 1.4836 - val_accuracy: 0.5375\n",
            "Epoch 27/40\n",
            "200/200 [==============================] - 1s 3ms/step - loss: 0.3526 - accuracy: 0.9019 - val_loss: 1.4406 - val_accuracy: 0.5519\n",
            "Epoch 28/40\n",
            "200/200 [==============================] - 1s 3ms/step - loss: 0.3250 - accuracy: 0.9106 - val_loss: 1.4894 - val_accuracy: 0.5469\n",
            "Epoch 29/40\n",
            "200/200 [==============================] - 1s 3ms/step - loss: 0.2984 - accuracy: 0.9220 - val_loss: 1.5210 - val_accuracy: 0.5369\n",
            "Epoch 30/40\n",
            "200/200 [==============================] - 1s 3ms/step - loss: 0.2800 - accuracy: 0.9247 - val_loss: 1.5343 - val_accuracy: 0.5406\n",
            "Epoch 31/40\n",
            "200/200 [==============================] - 1s 3ms/step - loss: 0.2623 - accuracy: 0.9358 - val_loss: 1.5256 - val_accuracy: 0.5475\n",
            "Epoch 32/40\n",
            "200/200 [==============================] - 1s 3ms/step - loss: 0.2350 - accuracy: 0.9434 - val_loss: 1.5647 - val_accuracy: 0.5512\n",
            "Epoch 33/40\n",
            "200/200 [==============================] - 1s 3ms/step - loss: 0.2255 - accuracy: 0.9486 - val_loss: 1.6160 - val_accuracy: 0.5525\n",
            "Epoch 34/40\n",
            "200/200 [==============================] - 1s 3ms/step - loss: 0.2090 - accuracy: 0.9497 - val_loss: 1.6575 - val_accuracy: 0.5381\n",
            "Epoch 35/40\n",
            "200/200 [==============================] - 1s 3ms/step - loss: 0.1978 - accuracy: 0.9523 - val_loss: 1.6335 - val_accuracy: 0.5394\n",
            "Epoch 36/40\n",
            "200/200 [==============================] - 1s 3ms/step - loss: 0.1806 - accuracy: 0.9566 - val_loss: 1.6526 - val_accuracy: 0.5469\n",
            "Epoch 37/40\n",
            "200/200 [==============================] - 1s 3ms/step - loss: 0.1743 - accuracy: 0.9588 - val_loss: 1.6726 - val_accuracy: 0.5556\n",
            "Epoch 38/40\n",
            "200/200 [==============================] - 1s 3ms/step - loss: 0.1587 - accuracy: 0.9622 - val_loss: 1.7572 - val_accuracy: 0.5469\n",
            "Epoch 39/40\n",
            "200/200 [==============================] - 1s 3ms/step - loss: 0.1404 - accuracy: 0.9672 - val_loss: 1.7524 - val_accuracy: 0.5462\n",
            "Epoch 40/40\n",
            "200/200 [==============================] - 1s 3ms/step - loss: 0.1371 - accuracy: 0.9666 - val_loss: 1.7666 - val_accuracy: 0.5512\n"
          ],
          "name": "stdout"
        }
      ]
    },
    {
      "cell_type": "code",
      "metadata": {
        "colab": {
          "base_uri": "https://localhost:8080/",
          "height": 265
        },
        "id": "hVc_95bRgKvQ",
        "outputId": "5f952084-af6e-4709-b170-fa76486de750"
      },
      "source": [
        "metrics = history.history\n",
        "plt.plot(history.epoch, metrics['loss'], metrics['val_loss'])\n",
        "plt.legend(['loss', 'val_loss'])\n",
        "plt.show()"
      ],
      "execution_count": 23,
      "outputs": [
        {
          "output_type": "display_data",
          "data": {
            "image/png": "[encoded data removed]",
            "text/plain": [
              "<Figure size 432x288 with 1 Axes>"
            ]
          },
          "metadata": {
            "tags": [],
            "needs_background": "light"
          }
        }
      ]
    },
    {
      "cell_type": "code",
      "metadata": {
        "colab": {
          "base_uri": "https://localhost:8080/"
        },
        "id": "DJ6LBJPdcx_q",
        "outputId": "ce34042a-2e26-437e-cdc9-4ed9355e94ae"
      },
      "source": [
        "scores, embeddings, spectrogram = yamnet_model(zero_pad_the_waveforms(get_waveform_and_label_in_integer('/content/data/mini_speech_commands/no/012c8314_nohash_0.wav')[0]))\n",
        "print(embeddings)\n",
        "embeddings = tf.reduce_mean(embeddings, 0)\n",
        "print(embeddings)\n",
        "embeddings = tf.expand_dims(embeddings, axis=0)\n",
        "print(embeddings)\n",
        "result = my_model(embeddings).numpy()\n",
        "print(result)\n",
        "\n",
        "infered_class = commands[result.mean(axis=0).argmax()]\n",
        "print(f'The main sound is: {infered_class}')"
      ],
      "execution_count": 29,
      "outputs": [
        {
          "output_type": "stream",
          "text": [
            "tf.Tensor(\n",
            "[[0.         0.2360028  0.51518303 ... 0.         0.26753262 0.        ]\n",
            " [0.00774101 0.6715796  0.31164944 ... 0.09001482 0.         0.        ]], shape=(2, 1024), dtype=float32)\n",
            "tf.Tensor(\n",
            "[[0.         0.2360028  0.51518303 ... 0.         0.26753262 0.        ]\n",
            " [0.00774101 0.6715796  0.31164944 ... 0.09001482 0.         0.        ]], shape=(2, 1024), dtype=float32)\n",
            "tf.Tensor(\n",
            "[[0.         0.2360028  0.51518303 ... 0.         0.26753262 0.        ]\n",
            " [0.00774101 0.6715796  0.31164944 ... 0.09001482 0.         0.        ]], shape=(2, 1024), dtype=float32)\n",
            "[[ -3.1560376   -6.4273343   -0.5014332  -13.306528    -4.720627\n",
            "  -18.714273    -7.607716    -3.1340108 ]\n",
            " [-11.228477    -7.3820434  -12.326491     2.8644817   -4.6122074\n",
            "   -1.7762355   -0.90695983   1.8887188 ]]\n",
            "The main sound is: yes\n"
          ],
          "name": "stdout"
        }
      ]
    },
    {
      "cell_type": "code",
      "metadata": {
        "id": "LmTApLvd2T71"
      },
      "source": [
        "# Include reduce mean and expansion inside model\n",
        "class ReduceMeanLayer(tf.keras.layers.Layer):\n",
        "  def __init__(self, axis=0, **kwargs):\n",
        "    super(ReduceMeanLayer, self).__init__(**kwargs)\n",
        "    self.axis = axis\n",
        "\n",
        "  def call(self, input):\n",
        "    input = tf.math.reduce_mean(input, axis=self.axis)\n",
        "    input = tf.expand_dims(input, axis=self.axis)\n",
        "    return input"
      ],
      "execution_count": 30,
      "outputs": []
    },
    {
      "cell_type": "code",
      "metadata": {
        "colab": {
          "base_uri": "https://localhost:8080/"
        },
        "id": "tNB7Kvw9NE75",
        "outputId": "4e47da4c-ef24-441e-f609-f79b7adc13ba"
      },
      "source": [
        "saved_model_path = './speech_commands_yamnet'\n",
        "\n",
        "input_segment = tf.keras.layers.Input(shape=(), dtype=tf.float32, name='audio')\n",
        "embedding_extraction_layer = hub.KerasLayer(yamnet_model_handle,\n",
        "                                            trainable=False, name='yamnet')\n",
        "_, embeddings_output, _ = embedding_extraction_layer(input_segment)\n",
        "serving_outputs = ReduceMeanLayer(axis=0, name='classifier')(embeddings_output)\n",
        "serving_outputs = my_model(serving_outputs)\n",
        "serving_model = tf.keras.Model(input_segment, serving_outputs)\n",
        "serving_model.save(saved_model_path, include_optimizer=False)"
      ],
      "execution_count": 31,
      "outputs": [
        {
          "output_type": "stream",
          "text": [
            "WARNING:tensorflow:Compiled the loaded model, but the compiled metrics have yet to be built. `model.compile_metrics` will be empty until you train or evaluate the model.\n"
          ],
          "name": "stdout"
        },
        {
          "output_type": "stream",
          "text": [
            "WARNING:tensorflow:Compiled the loaded model, but the compiled metrics have yet to be built. `model.compile_metrics` will be empty until you train or evaluate the model.\n"
          ],
          "name": "stderr"
        },
        {
          "output_type": "stream",
          "text": [
            "INFO:tensorflow:Assets written to: ./speech_commands_yamnet/assets\n"
          ],
          "name": "stdout"
        },
        {
          "output_type": "stream",
          "text": [
            "INFO:tensorflow:Assets written to: ./speech_commands_yamnet/assets\n"
          ],
          "name": "stderr"
        }
      ]
    },
    {
      "cell_type": "code",
      "metadata": {
        "colab": {
          "base_uri": "https://localhost:8080/",
          "height": 369
        },
        "id": "LSLgmHqxNxcO",
        "outputId": "602af907-4aa5-4ee1-c589-00cb6d6778f3"
      },
      "source": [
        "tf.keras.utils.plot_model(serving_model)"
      ],
      "execution_count": 32,
      "outputs": [
        {
          "output_type": "execute_result",
          "data": {
            "image/png": "[encoded data removed]",
            "text/plain": [
              "<IPython.core.display.Image object>"
            ]
          },
          "metadata": {
            "tags": []
          },
          "execution_count": 32
        }
      ]
    },
    {
      "cell_type": "code",
      "metadata": {
        "colab": {
          "base_uri": "https://localhost:8080/"
        },
        "id": "DFQbDRbDNx3v",
        "outputId": "fa26db4a-ad75-4136-881a-5d6c24d75a22"
      },
      "source": [
        "reloaded_model = tf.saved_model.load(saved_model_path)"
      ],
      "execution_count": 102,
      "outputs": [
        {
          "output_type": "stream",
          "text": [
            "Exception ignored in: <function Wave_write.__del__ at 0x7f43e8889170>\n",
            "Traceback (most recent call last):\n",
            "  File \"/usr/lib/python3.7/wave.py\", line 327, in __del__\n",
            "    self.close()\n",
            "  File \"/usr/lib/python3.7/wave.py\", line 445, in close\n",
            "    self._ensure_header_written(0)\n",
            "  File \"/usr/lib/python3.7/wave.py\", line 468, in _ensure_header_written\n",
            "    self._write_header(datasize)\n",
            "  File \"/usr/lib/python3.7/wave.py\", line 485, in _write_header\n",
            "    self._sampwidth * 8, b'data'))\n",
            "struct.error: ushort format requires 0 <= number <= (0x7fff * 2 + 1)\n"
          ],
          "name": "stderr"
        }
      ]
    },
    {
      "cell_type": "code",
      "metadata": {
        "colab": {
          "base_uri": "https://localhost:8080/",
          "height": 289
        },
        "id": "iGKnZEKwN6Ru",
        "outputId": "9718f963-f55a-4a41-c810-45d5ef798e18"
      },
      "source": [
        "reloaded_results = reloaded_model(zero_pad_the_waveforms(get_waveform_and_label_in_integer('/content/data/mini_speech_commands/right/012c8314_nohash_1.wav')[0]))\n",
        "print(tf.squeeze(reloaded_results).numpy())\n",
        "result = commands[tf.argmax(tf.squeeze(reloaded_results))]\n",
        "result = commands[tf.argmax(reloaded_results[0])]\n",
        "print(f'The main sound is: {result}')"
      ],
      "execution_count": 103,
      "outputs": [
        {
          "output_type": "error",
          "ename": "InvalidArgumentError",
          "evalue": "ignored",
          "traceback": [
            "\u001b[0;31m---------------------------------------------------------------------------\u001b[0m",
            "\u001b[0;31mInvalidArgumentError\u001b[0m                      Traceback (most recent call last)",
            "\u001b[0;32m<ipython-input-103-5943d18906d3>\u001b[0m in \u001b[0;36m<module>\u001b[0;34m()\u001b[0m\n\u001b[0;32m----> 1\u001b[0;31m \u001b[0mreloaded_results\u001b[0m \u001b[0;34m=\u001b[0m \u001b[0mreloaded_model\u001b[0m\u001b[0;34m(\u001b[0m\u001b[0mzero_pad_the_waveforms\u001b[0m\u001b[0;34m(\u001b[0m\u001b[0mget_waveform_and_label_in_integer\u001b[0m\u001b[0;34m(\u001b[0m\u001b[0;34m'/content/data/mini_speech_commands/right/012c8314_nohash_1.wav'\u001b[0m\u001b[0;34m)\u001b[0m\u001b[0;34m[\u001b[0m\u001b[0;36m0\u001b[0m\u001b[0;34m]\u001b[0m\u001b[0;34m)\u001b[0m\u001b[0;34m)\u001b[0m\u001b[0;34m\u001b[0m\u001b[0;34m\u001b[0m\u001b[0m\n\u001b[0m\u001b[1;32m      2\u001b[0m \u001b[0mprint\u001b[0m\u001b[0;34m(\u001b[0m\u001b[0mtf\u001b[0m\u001b[0;34m.\u001b[0m\u001b[0msqueeze\u001b[0m\u001b[0;34m(\u001b[0m\u001b[0mreloaded_results\u001b[0m\u001b[0;34m)\u001b[0m\u001b[0;34m.\u001b[0m\u001b[0mnumpy\u001b[0m\u001b[0;34m(\u001b[0m\u001b[0;34m)\u001b[0m\u001b[0;34m)\u001b[0m\u001b[0;34m\u001b[0m\u001b[0;34m\u001b[0m\u001b[0m\n\u001b[1;32m      3\u001b[0m \u001b[0mresult\u001b[0m \u001b[0;34m=\u001b[0m \u001b[0mcommands\u001b[0m\u001b[0;34m[\u001b[0m\u001b[0mtf\u001b[0m\u001b[0;34m.\u001b[0m\u001b[0margmax\u001b[0m\u001b[0;34m(\u001b[0m\u001b[0mtf\u001b[0m\u001b[0;34m.\u001b[0m\u001b[0msqueeze\u001b[0m\u001b[0;34m(\u001b[0m\u001b[0mreloaded_results\u001b[0m\u001b[0;34m)\u001b[0m\u001b[0;34m)\u001b[0m\u001b[0;34m]\u001b[0m\u001b[0;34m\u001b[0m\u001b[0;34m\u001b[0m\u001b[0m\n\u001b[1;32m      4\u001b[0m \u001b[0mresult\u001b[0m \u001b[0;34m=\u001b[0m \u001b[0mcommands\u001b[0m\u001b[0;34m[\u001b[0m\u001b[0mtf\u001b[0m\u001b[0;34m.\u001b[0m\u001b[0margmax\u001b[0m\u001b[0;34m(\u001b[0m\u001b[0mreloaded_results\u001b[0m\u001b[0;34m[\u001b[0m\u001b[0;36m0\u001b[0m\u001b[0;34m]\u001b[0m\u001b[0;34m)\u001b[0m\u001b[0;34m]\u001b[0m\u001b[0;34m\u001b[0m\u001b[0;34m\u001b[0m\u001b[0m\n\u001b[1;32m      5\u001b[0m \u001b[0mprint\u001b[0m\u001b[0;34m(\u001b[0m\u001b[0;34mf'The main sound is: {result}'\u001b[0m\u001b[0;34m)\u001b[0m\u001b[0;34m\u001b[0m\u001b[0;34m\u001b[0m\u001b[0m\n",
            "\u001b[0;32m<ipython-input-7-ec29926ac3ad>\u001b[0m in \u001b[0;36mzero_pad_the_waveforms\u001b[0;34m(waveform)\u001b[0m\n\u001b[1;32m     36\u001b[0m   \u001b[0;31m# same length\u001b[0m\u001b[0;34m\u001b[0m\u001b[0;34m\u001b[0m\u001b[0;34m\u001b[0m\u001b[0m\n\u001b[1;32m     37\u001b[0m   \u001b[0mwaveform\u001b[0m \u001b[0;34m=\u001b[0m \u001b[0mtf\u001b[0m\u001b[0;34m.\u001b[0m\u001b[0mcast\u001b[0m\u001b[0;34m(\u001b[0m\u001b[0mwaveform\u001b[0m\u001b[0;34m,\u001b[0m \u001b[0mtf\u001b[0m\u001b[0;34m.\u001b[0m\u001b[0mfloat32\u001b[0m\u001b[0;34m)\u001b[0m\u001b[0;34m\u001b[0m\u001b[0;34m\u001b[0m\u001b[0m\n\u001b[0;32m---> 38\u001b[0;31m   \u001b[0mequal_length\u001b[0m \u001b[0;34m=\u001b[0m \u001b[0mtf\u001b[0m\u001b[0;34m.\u001b[0m\u001b[0mconcat\u001b[0m\u001b[0;34m(\u001b[0m\u001b[0;34m[\u001b[0m\u001b[0mwaveform\u001b[0m\u001b[0;34m,\u001b[0m \u001b[0mzero_padding\u001b[0m\u001b[0;34m]\u001b[0m\u001b[0;34m,\u001b[0m \u001b[0;36m0\u001b[0m\u001b[0;34m)\u001b[0m\u001b[0;34m\u001b[0m\u001b[0;34m\u001b[0m\u001b[0m\n\u001b[0m\u001b[1;32m     39\u001b[0m \u001b[0;34m\u001b[0m\u001b[0m\n\u001b[1;32m     40\u001b[0m   \u001b[0;32mreturn\u001b[0m \u001b[0mequal_length\u001b[0m\u001b[0;34m\u001b[0m\u001b[0;34m\u001b[0m\u001b[0m\n",
            "\u001b[0;32m/usr/local/lib/python3.7/dist-packages/tensorflow/python/util/dispatch.py\u001b[0m in \u001b[0;36mwrapper\u001b[0;34m(*args, **kwargs)\u001b[0m\n\u001b[1;32m    204\u001b[0m     \u001b[0;34m\"\"\"Call target, and fall back on dispatchers if there is a TypeError.\"\"\"\u001b[0m\u001b[0;34m\u001b[0m\u001b[0;34m\u001b[0m\u001b[0m\n\u001b[1;32m    205\u001b[0m     \u001b[0;32mtry\u001b[0m\u001b[0;34m:\u001b[0m\u001b[0;34m\u001b[0m\u001b[0;34m\u001b[0m\u001b[0m\n\u001b[0;32m--> 206\u001b[0;31m       \u001b[0;32mreturn\u001b[0m \u001b[0mtarget\u001b[0m\u001b[0;34m(\u001b[0m\u001b[0;34m*\u001b[0m\u001b[0margs\u001b[0m\u001b[0;34m,\u001b[0m \u001b[0;34m**\u001b[0m\u001b[0mkwargs\u001b[0m\u001b[0;34m)\u001b[0m\u001b[0;34m\u001b[0m\u001b[0;34m\u001b[0m\u001b[0m\n\u001b[0m\u001b[1;32m    207\u001b[0m     \u001b[0;32mexcept\u001b[0m \u001b[0;34m(\u001b[0m\u001b[0mTypeError\u001b[0m\u001b[0;34m,\u001b[0m \u001b[0mValueError\u001b[0m\u001b[0;34m)\u001b[0m\u001b[0;34m:\u001b[0m\u001b[0;34m\u001b[0m\u001b[0;34m\u001b[0m\u001b[0m\n\u001b[1;32m    208\u001b[0m       \u001b[0;31m# Note: convert_to_eager_tensor currently raises a ValueError, not a\u001b[0m\u001b[0;34m\u001b[0m\u001b[0;34m\u001b[0m\u001b[0;34m\u001b[0m\u001b[0m\n",
            "\u001b[0;32m/usr/local/lib/python3.7/dist-packages/tensorflow/python/ops/array_ops.py\u001b[0m in \u001b[0;36mconcat\u001b[0;34m(values, axis, name)\u001b[0m\n\u001b[1;32m   1766\u001b[0m           dtype=dtypes.int32).get_shape().assert_has_rank(0)\n\u001b[1;32m   1767\u001b[0m       \u001b[0;32mreturn\u001b[0m \u001b[0midentity\u001b[0m\u001b[0;34m(\u001b[0m\u001b[0mvalues\u001b[0m\u001b[0;34m[\u001b[0m\u001b[0;36m0\u001b[0m\u001b[0;34m]\u001b[0m\u001b[0;34m,\u001b[0m \u001b[0mname\u001b[0m\u001b[0;34m=\u001b[0m\u001b[0mname\u001b[0m\u001b[0;34m)\u001b[0m\u001b[0;34m\u001b[0m\u001b[0;34m\u001b[0m\u001b[0m\n\u001b[0;32m-> 1768\u001b[0;31m   \u001b[0;32mreturn\u001b[0m \u001b[0mgen_array_ops\u001b[0m\u001b[0;34m.\u001b[0m\u001b[0mconcat_v2\u001b[0m\u001b[0;34m(\u001b[0m\u001b[0mvalues\u001b[0m\u001b[0;34m=\u001b[0m\u001b[0mvalues\u001b[0m\u001b[0;34m,\u001b[0m \u001b[0maxis\u001b[0m\u001b[0;34m=\u001b[0m\u001b[0maxis\u001b[0m\u001b[0;34m,\u001b[0m \u001b[0mname\u001b[0m\u001b[0;34m=\u001b[0m\u001b[0mname\u001b[0m\u001b[0;34m)\u001b[0m\u001b[0;34m\u001b[0m\u001b[0;34m\u001b[0m\u001b[0m\n\u001b[0m\u001b[1;32m   1769\u001b[0m \u001b[0;34m\u001b[0m\u001b[0m\n\u001b[1;32m   1770\u001b[0m \u001b[0;34m\u001b[0m\u001b[0m\n",
            "\u001b[0;32m/usr/local/lib/python3.7/dist-packages/tensorflow/python/ops/gen_array_ops.py\u001b[0m in \u001b[0;36mconcat_v2\u001b[0;34m(values, axis, name)\u001b[0m\n\u001b[1;32m   1211\u001b[0m       \u001b[0;32mreturn\u001b[0m \u001b[0m_result\u001b[0m\u001b[0;34m\u001b[0m\u001b[0;34m\u001b[0m\u001b[0m\n\u001b[1;32m   1212\u001b[0m     \u001b[0;32mexcept\u001b[0m \u001b[0m_core\u001b[0m\u001b[0;34m.\u001b[0m\u001b[0m_NotOkStatusException\u001b[0m \u001b[0;32mas\u001b[0m \u001b[0me\u001b[0m\u001b[0;34m:\u001b[0m\u001b[0;34m\u001b[0m\u001b[0;34m\u001b[0m\u001b[0m\n\u001b[0;32m-> 1213\u001b[0;31m       \u001b[0m_ops\u001b[0m\u001b[0;34m.\u001b[0m\u001b[0mraise_from_not_ok_status\u001b[0m\u001b[0;34m(\u001b[0m\u001b[0me\u001b[0m\u001b[0;34m,\u001b[0m \u001b[0mname\u001b[0m\u001b[0;34m)\u001b[0m\u001b[0;34m\u001b[0m\u001b[0;34m\u001b[0m\u001b[0m\n\u001b[0m\u001b[1;32m   1214\u001b[0m     \u001b[0;32mexcept\u001b[0m \u001b[0m_core\u001b[0m\u001b[0;34m.\u001b[0m\u001b[0m_FallbackException\u001b[0m\u001b[0;34m:\u001b[0m\u001b[0;34m\u001b[0m\u001b[0;34m\u001b[0m\u001b[0m\n\u001b[1;32m   1215\u001b[0m       \u001b[0;32mpass\u001b[0m\u001b[0;34m\u001b[0m\u001b[0;34m\u001b[0m\u001b[0m\n",
            "\u001b[0;32m/usr/local/lib/python3.7/dist-packages/tensorflow/python/framework/ops.py\u001b[0m in \u001b[0;36mraise_from_not_ok_status\u001b[0;34m(e, name)\u001b[0m\n\u001b[1;32m   6895\u001b[0m   \u001b[0mmessage\u001b[0m \u001b[0;34m=\u001b[0m \u001b[0me\u001b[0m\u001b[0;34m.\u001b[0m\u001b[0mmessage\u001b[0m \u001b[0;34m+\u001b[0m \u001b[0;34m(\u001b[0m\u001b[0;34m\" name: \"\u001b[0m \u001b[0;34m+\u001b[0m \u001b[0mname\u001b[0m \u001b[0;32mif\u001b[0m \u001b[0mname\u001b[0m \u001b[0;32mis\u001b[0m \u001b[0;32mnot\u001b[0m \u001b[0;32mNone\u001b[0m \u001b[0;32melse\u001b[0m \u001b[0;34m\"\"\u001b[0m\u001b[0;34m)\u001b[0m\u001b[0;34m\u001b[0m\u001b[0;34m\u001b[0m\u001b[0m\n\u001b[1;32m   6896\u001b[0m   \u001b[0;31m# pylint: disable=protected-access\u001b[0m\u001b[0;34m\u001b[0m\u001b[0;34m\u001b[0m\u001b[0;34m\u001b[0m\u001b[0m\n\u001b[0;32m-> 6897\u001b[0;31m   \u001b[0msix\u001b[0m\u001b[0;34m.\u001b[0m\u001b[0mraise_from\u001b[0m\u001b[0;34m(\u001b[0m\u001b[0mcore\u001b[0m\u001b[0;34m.\u001b[0m\u001b[0m_status_to_exception\u001b[0m\u001b[0;34m(\u001b[0m\u001b[0me\u001b[0m\u001b[0;34m.\u001b[0m\u001b[0mcode\u001b[0m\u001b[0;34m,\u001b[0m \u001b[0mmessage\u001b[0m\u001b[0;34m)\u001b[0m\u001b[0;34m,\u001b[0m \u001b[0;32mNone\u001b[0m\u001b[0;34m)\u001b[0m\u001b[0;34m\u001b[0m\u001b[0;34m\u001b[0m\u001b[0m\n\u001b[0m\u001b[1;32m   6898\u001b[0m   \u001b[0;31m# pylint: enable=protected-access\u001b[0m\u001b[0;34m\u001b[0m\u001b[0;34m\u001b[0m\u001b[0;34m\u001b[0m\u001b[0m\n\u001b[1;32m   6899\u001b[0m \u001b[0;34m\u001b[0m\u001b[0m\n",
            "\u001b[0;32m/usr/local/lib/python3.7/dist-packages/six.py\u001b[0m in \u001b[0;36mraise_from\u001b[0;34m(value, from_value)\u001b[0m\n",
            "\u001b[0;31mInvalidArgumentError\u001b[0m: ConcatOp : Dimensions of inputs should match: shape[0] = [16000,1] vs. shape[1] = [0,15999] [Op:ConcatV2] name: concat"
          ]
        }
      ]
    },
    {
      "cell_type": "markdown",
      "metadata": {
        "id": "ipMxsZnyQbV3"
      },
      "source": [
        "# Test recorded audio"
      ]
    },
    {
      "cell_type": "code",
      "metadata": {
        "id": "8npzXxM-YnK_"
      },
      "source": [
        "@tf.function\n",
        "def load_wav_16k_mono(filename):\n",
        "    \"\"\" read in a waveform file and convert to 16 kHz mono \"\"\"\n",
        "    file_contents = tf.io.read_file(filename)\n",
        "    wav, sample_rate = tf.audio.decode_wav(\n",
        "          file_contents,\n",
        "          desired_channels=1)\n",
        "    print(sample_rate)\n",
        "    wav = tf.squeeze(wav, axis=-1)\n",
        "    sample_rate = tf.cast(sample_rate, dtype=tf.int64)\n",
        "    wav = tfio.audio.resample(wav, rate_in=sample_rate, rate_out=16000)\n",
        "    return wav"
      ],
      "execution_count": 92,
      "outputs": []
    },
    {
      "cell_type": "code",
      "metadata": {
        "colab": {
          "base_uri": "https://localhost:8080/"
        },
        "id": "0UE1Dma3ZQrI",
        "outputId": "49576a83-3efc-4a0c-e3b1-675b586c5db8"
      },
      "source": [
        "input = load_wav_16k_mono('/content/stop.wav')"
      ],
      "execution_count": 93,
      "outputs": [
        {
          "output_type": "stream",
          "text": [
            "Tensor(\"DecodeWav:1\", shape=(), dtype=int32)\n",
            "WARNING:tensorflow:Using a while_loop for converting IO>AudioResample\n"
          ],
          "name": "stdout"
        },
        {
          "output_type": "stream",
          "text": [
            "WARNING:tensorflow:Using a while_loop for converting IO>AudioResample\n"
          ],
          "name": "stderr"
        }
      ]
    },
    {
      "cell_type": "code",
      "metadata": {
        "colab": {
          "base_uri": "https://localhost:8080/"
        },
        "id": "nbZtgjfQZYSY",
        "outputId": "e74b67d2-f4dd-4cee-d86a-40990dc5260d"
      },
      "source": [
        "print(type(input))\n",
        "print(input)"
      ],
      "execution_count": 94,
      "outputs": [
        {
          "output_type": "stream",
          "text": [
            "<class 'tensorflow.python.framework.ops.EagerTensor'>\n",
            "tf.Tensor(\n",
            "[ 0.00000000e+00  0.00000000e+00  0.00000000e+00 ...  1.09407985e-04\n",
            " -1.83284064e-05  3.29587841e-04], shape=(35840,), dtype=float32)\n"
          ],
          "name": "stdout"
        }
      ]
    },
    {
      "cell_type": "code",
      "metadata": {
        "colab": {
          "base_uri": "https://localhost:8080/",
          "height": 75
        },
        "id": "BOIz7In8ZtGg",
        "outputId": "696bc020-5055-4b0f-d5d6-1f7c7470bfe0"
      },
      "source": [
        "display.Audio(input, rate=16000)"
      ],
      "execution_count": 99,
      "outputs": [
        {
          "output_type": "execute_result",
          "data": {
            "text/html": [
              "\n",
              "                <audio controls=\"controls\" >\n",
              "                    <source src=\"data:audio/wav;base64,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\" type=\"audio/wav\" />\n",
              "                    Your browser does not support the audio element.\n",
              "                </audio>\n",
              "              "
            ],
            "text/plain": [
              "<IPython.lib.display.Audio object>"
            ]
          },
          "metadata": {
            "tags": []
          },
          "execution_count": 99
        }
      ]
    },
    {
      "cell_type": "code",
      "metadata": {
        "colab": {
          "base_uri": "https://localhost:8080/"
        },
        "id": "wA_EXn7kaN_L",
        "outputId": "ebf3ca07-0531-499c-a402-93104de9bdcf"
      },
      "source": [
        "test_result = reloaded_model(input)\n",
        "print(test_result)\n",
        "print(tf.squeeze(test_result).numpy())\n",
        "result = commands[tf.argmax(tf.squeeze(test_result))]\n",
        "result = commands[tf.argmax(test_result[0])]\n",
        "print(f'The main sound is: {result}')"
      ],
      "execution_count": 104,
      "outputs": [
        {
          "output_type": "stream",
          "text": [
            "tf.Tensor(\n",
            "[[-0.6943027   0.0029235  -0.2422309   0.07353395 -0.42634177  0.07051673\n",
            "  -1.7935004   0.28185815]], shape=(1, 8), dtype=float32)\n",
            "[-0.6943027   0.0029235  -0.2422309   0.07353395 -0.42634177  0.07051673\n",
            " -1.7935004   0.28185815]\n",
            "The main sound is: yes\n"
          ],
          "name": "stdout"
        }
      ]
    },
    {
      "cell_type": "code",
      "metadata": {
        "id": "MLqSSYULam4d"
      },
      "source": [
        ""
      ],
      "execution_count": null,
      "outputs": []
    }
  ]
}