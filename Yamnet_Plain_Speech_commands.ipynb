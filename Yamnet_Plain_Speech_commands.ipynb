{
  "nbformat": 4,
  "nbformat_minor": 0,
  "metadata": {
    "colab": {
      "name": "Yamnet_Plain_Speech_commands.ipynb",
      "provenance": [],
      "collapsed_sections": []
    },
    "kernelspec": {
      "name": "python3",
      "display_name": "Python 3"
    },
    "language_info": {
      "name": "python"
    },
    "accelerator": "GPU"
  },
  "cells": [
    {
      "cell_type": "code",
      "metadata": {
        "id": "V4nBdvnZmbsL"
      },
      "source": [
        "import os\n",
        "import pathlib\n",
        "\n",
        "import matplotlib.pyplot as plt\n",
        "import numpy as np\n",
        "import pandas as pd\n",
        "import seaborn as sns\n",
        "import tensorflow as tf\n",
        "from tensorflow import keras as keras\n",
        "import tensorflow_hub as hub\n",
        "\n",
        "from tensorflow.keras.layers.experimental import preprocessing\n",
        "from tensorflow.keras import layers\n",
        "from tensorflow.keras import models\n",
        "from IPython import display\n",
        "\n",
        "\n",
        "# Set seed for experiment reproducibility\n",
        "#seed = 42\n",
        "#tf.random.set_seed(seed)\n",
        "#np.random.seed(seed)"
      ],
      "execution_count": 1,
      "outputs": []
    },
    {
      "cell_type": "code",
      "metadata": {
        "colab": {
          "base_uri": "https://localhost:8080/"
        },
        "id": "hp27RunVmqAT",
        "outputId": "9305dc3d-b6cd-4821-8b78-7607c7b8fbef"
      },
      "source": [
        "print(tf.__version__)\n",
        "print(keras.__version__)"
      ],
      "execution_count": 2,
      "outputs": [
        {
          "output_type": "stream",
          "text": [
            "2.5.0\n",
            "2.5.0\n"
          ],
          "name": "stdout"
        }
      ]
    },
    {
      "cell_type": "code",
      "metadata": {
        "colab": {
          "base_uri": "https://localhost:8080/"
        },
        "id": "GKj9Pst_h_jY",
        "outputId": "b8c838ab-06a5-4f57-80b9-376f110b425e"
      },
      "source": [
        "!nvidia-smi"
      ],
      "execution_count": 3,
      "outputs": [
        {
          "output_type": "stream",
          "text": [
            "Sun Jun 13 15:06:46 2021       \n",
            "+-----------------------------------------------------------------------------+\n",
            "| NVIDIA-SMI 465.27       Driver Version: 460.32.03    CUDA Version: 11.2     |\n",
            "|-------------------------------+----------------------+----------------------+\n",
            "| GPU  Name        Persistence-M| Bus-Id        Disp.A | Volatile Uncorr. ECC |\n",
            "| Fan  Temp  Perf  Pwr:Usage/Cap|         Memory-Usage | GPU-Util  Compute M. |\n",
            "|                               |                      |               MIG M. |\n",
            "|===============================+======================+======================|\n",
            "|   0  Tesla P4            Off  | 00000000:00:04.0 Off |                    0 |\n",
            "| N/A   37C    P8     7W /  75W |      0MiB /  7611MiB |      0%      Default |\n",
            "|                               |                      |                  N/A |\n",
            "+-------------------------------+----------------------+----------------------+\n",
            "                                                                               \n",
            "+-----------------------------------------------------------------------------+\n",
            "| Processes:                                                                  |\n",
            "|  GPU   GI   CI        PID   Type   Process name                  GPU Memory |\n",
            "|        ID   ID                                                   Usage      |\n",
            "|=============================================================================|\n",
            "|  No running processes found                                                 |\n",
            "+-----------------------------------------------------------------------------+\n"
          ],
          "name": "stdout"
        }
      ]
    },
    {
      "cell_type": "code",
      "metadata": {
        "colab": {
          "base_uri": "https://localhost:8080/"
        },
        "id": "muTu3WVDmtZ3",
        "outputId": "2c2cb588-3388-4f0e-d39c-5cef5b611c45"
      },
      "source": [
        "# Download folder and unzip it\n",
        "data_dir = pathlib.Path('data/mini_speech_commands')\n",
        "if not data_dir.exists():\n",
        "  tf.keras.utils.get_file(\n",
        "      'mini_speech_commands.zip',\n",
        "      origin=\"http://storage.googleapis.com/download.tensorflow.org/data/mini_speech_commands.zip\",\n",
        "      extract=True,\n",
        "      cache_dir='.', cache_subdir='data')\n"
      ],
      "execution_count": 4,
      "outputs": [
        {
          "output_type": "stream",
          "text": [
            "Downloading data from http://storage.googleapis.com/download.tensorflow.org/data/mini_speech_commands.zip\n",
            "182083584/182082353 [==============================] - 1s 0us/step\n"
          ],
          "name": "stdout"
        }
      ]
    },
    {
      "cell_type": "code",
      "metadata": {
        "colab": {
          "base_uri": "https://localhost:8080/"
        },
        "id": "fLtzkqMZoriw",
        "outputId": "bf1d3b93-9519-4966-b781-f49ebce3a570"
      },
      "source": [
        "# Print commands\n",
        "commands = []\n",
        "commands.append('down')\n",
        "commands.append('go')\n",
        "commands.append('left')\n",
        "commands.append('no')\n",
        "commands.append('right')\n",
        "commands.append('stop')\n",
        "commands.append('up')\n",
        "commands.append('yes')\n",
        "\n",
        "commands = np.array(commands)#np.array(tf.io.gfile.listdir(str(data_dir)))\n",
        "#commands = commands[commands != 'README.md']\n",
        "print('Commands:', commands)\n",
        "\n",
        "# Shuffle audio samples and print some info\n",
        "filenames = tf.io.gfile.glob(str(data_dir) + '/*/*')\n",
        "filenames = tf.random.shuffle(filenames)\n",
        "print(type(filenames))\n",
        "num_samples = len(filenames)\n",
        "print('Number of total examples:', num_samples)\n",
        "print('Number of examples per label:', len(tf.io.gfile.listdir(str(data_dir/commands[0]))))\n",
        "print('Example file tensor:', filenames[0])"
      ],
      "execution_count": 5,
      "outputs": [
        {
          "output_type": "stream",
          "text": [
            "Commands: ['down' 'go' 'left' 'no' 'right' 'stop' 'up' 'yes']\n",
            "<class 'tensorflow.python.framework.ops.EagerTensor'>\n",
            "Number of total examples: 8000\n",
            "Number of examples per label: 1000\n",
            "Example file tensor: tf.Tensor(b'data/mini_speech_commands/no/c103a2d5_nohash_1.wav', shape=(), dtype=string)\n"
          ],
          "name": "stdout"
        }
      ]
    },
    {
      "cell_type": "code",
      "metadata": {
        "id": "xplb9y16nWbV"
      },
      "source": [
        "'''\n",
        "The audio file will initially be read as a binary file, which you'll want to convert into a numerical tensor.\n",
        "To load an audio file, you will use tf.audio.decode_wav, which returns the WAV-encoded audio as a Tensor and the sample rate.\n",
        "A WAV file contains time series data with a set number of samples per second. Each sample represents the amplitude of the audio signal at that specific time.\n",
        "In a 16-bit system, like the files in mini_speech_commands, the values range from -32768 to 32767. The sample rate for this dataset is 16kHz. \n",
        "Note that tf.audio.decode_wav will normalize the values to the range [-1.0, 1.0].\n",
        "'''\n",
        "def decode_audio(audio_binary):\n",
        "  audio, _ = tf.audio.decode_wav(audio_binary)\n",
        "  return tf.squeeze(audio, axis=-1)\n",
        "\n",
        "def get_label(file_path):\n",
        "  parts = tf.strings.split(file_path, os.path.sep)\n",
        "\n",
        "  # Note: You'll use indexing here instead of tuple unpacking to enable this \n",
        "  # to work in a TensorFlow graph.\n",
        "  return parts[-2]\n",
        "\n",
        "def get_waveform_and_label_in_integer(file_path):\n",
        "  label = get_label(file_path)\n",
        "  #print(label.numpy().decode('utf-8'))\n",
        "  label = tf.argmax(label == commands)\n",
        "  label = tf.cast(label, tf.int32)  \n",
        "  audio_binary = tf.io.read_file(file_path)\n",
        "  waveform = decode_audio(audio_binary)\n",
        "  return waveform, label\n",
        "\n",
        "# We need the waveforms to have a similar length.\n",
        "# This can be done by simply zero padding the audio clips that are shorter than one second.\n",
        "\n",
        "def zero_pad_the_waveforms(waveform):\n",
        "  # Padding for files with less than 16000 samples\n",
        "  zero_padding = tf.zeros([16000] - tf.shape(waveform), dtype=tf.float32)\n",
        "\n",
        "  # Concatenate audio with padding so that all audio clips will be of the \n",
        "  # same length\n",
        "  waveform = tf.cast(waveform, tf.float32)\n",
        "  equal_length = tf.concat([waveform, zero_padding], 0)\n",
        "\n",
        "  return equal_length"
      ],
      "execution_count": 6,
      "outputs": []
    },
    {
      "cell_type": "code",
      "metadata": {
        "id": "MHS1Q10dRHFa"
      },
      "source": [
        "train_x = []\n",
        "train_y = []\n",
        "\n",
        "for i in filenames:\n",
        "  #print(i)\n",
        "  train_x.append(zero_pad_the_waveforms(get_waveform_and_label_in_integer(i)[0]))\n",
        "  train_y.append(get_waveform_and_label_in_integer(i)[1])"
      ],
      "execution_count": 7,
      "outputs": []
    },
    {
      "cell_type": "code",
      "metadata": {
        "colab": {
          "base_uri": "https://localhost:8080/"
        },
        "id": "iYeDiCuiRGCz",
        "outputId": "8aa03728-06cd-45ce-8edc-97287b0c55a0"
      },
      "source": [
        "print(len(train_x))\n",
        "print(filenames[:7])\n",
        "print(train_x[:7])\n",
        "print(train_y[:7])"
      ],
      "execution_count": 8,
      "outputs": [
        {
          "output_type": "stream",
          "text": [
            "8000\n",
            "tf.Tensor(\n",
            "[b'data/mini_speech_commands/no/c103a2d5_nohash_1.wav'\n",
            " b'data/mini_speech_commands/left/b087aa0e_nohash_0.wav'\n",
            " b'data/mini_speech_commands/left/c37a72d3_nohash_2.wav'\n",
            " b'data/mini_speech_commands/left/11b1df78_nohash_1.wav'\n",
            " b'data/mini_speech_commands/down/0132a06d_nohash_1.wav'\n",
            " b'data/mini_speech_commands/down/b19f7f5f_nohash_1.wav'\n",
            " b'data/mini_speech_commands/yes/4f2be90f_nohash_0.wav'], shape=(7,), dtype=string)\n",
            "[<tf.Tensor: shape=(16000,), dtype=float32, numpy=\n",
            "array([-0.0050354 , -0.0067749 , -0.00576782, ...,  0.00259399,\n",
            "        0.00476074,  0.00680542], dtype=float32)>, <tf.Tensor: shape=(16000,), dtype=float32, numpy=\n",
            "array([-0.0005188 , -0.00091553, -0.00064087, ...,  0.        ,\n",
            "        0.        ,  0.        ], dtype=float32)>, <tf.Tensor: shape=(16000,), dtype=float32, numpy=\n",
            "array([ 3.0517578e-05, -1.5258789e-04, -1.8310547e-04, ...,\n",
            "        1.1901855e-03,  1.2207031e-03,  1.4038086e-03], dtype=float32)>, <tf.Tensor: shape=(16000,), dtype=float32, numpy=\n",
            "array([-0.00939941, -0.00985718, -0.01089478, ..., -0.01184082,\n",
            "       -0.00939941, -0.00997925], dtype=float32)>, <tf.Tensor: shape=(16000,), dtype=float32, numpy=\n",
            "array([ 1.5258789e-04,  1.5258789e-04,  9.1552734e-05, ...,\n",
            "       -1.8310547e-04, -1.8310547e-04, -1.5258789e-04], dtype=float32)>, <tf.Tensor: shape=(16000,), dtype=float32, numpy=\n",
            "array([ 0.0000000e+00,  2.1362305e-04,  0.0000000e+00, ...,\n",
            "        9.1552734e-05,  3.0517578e-05, -2.7465820e-04], dtype=float32)>, <tf.Tensor: shape=(16000,), dtype=float32, numpy=\n",
            "array([-0.0017395 , -0.00314331, -0.00256348, ..., -0.00933838,\n",
            "       -0.00683594, -0.00283813], dtype=float32)>]\n",
            "[<tf.Tensor: shape=(), dtype=int32, numpy=3>, <tf.Tensor: shape=(), dtype=int32, numpy=2>, <tf.Tensor: shape=(), dtype=int32, numpy=2>, <tf.Tensor: shape=(), dtype=int32, numpy=2>, <tf.Tensor: shape=(), dtype=int32, numpy=0>, <tf.Tensor: shape=(), dtype=int32, numpy=0>, <tf.Tensor: shape=(), dtype=int32, numpy=7>]\n"
          ],
          "name": "stdout"
        }
      ]
    },
    {
      "cell_type": "code",
      "metadata": {
        "id": "9jMgq56WUAQ-",
        "colab": {
          "base_uri": "https://localhost:8080/"
        },
        "outputId": "2673825e-012e-4450-a442-8c127126add4"
      },
      "source": [
        "train_x = tf.convert_to_tensor(train_x)\n",
        "train_y = tf.convert_to_tensor(train_y)\n",
        "print(len(train_x))\n",
        "print(len(train_y))"
      ],
      "execution_count": 9,
      "outputs": [
        {
          "output_type": "stream",
          "text": [
            "8000\n",
            "8000\n"
          ],
          "name": "stdout"
        }
      ]
    },
    {
      "cell_type": "code",
      "metadata": {
        "colab": {
          "base_uri": "https://localhost:8080/"
        },
        "id": "WxaPgjMf04zL",
        "outputId": "90bc8ce0-1167-4f1d-c1cc-fbea5bd398f0"
      },
      "source": [
        "print(train_x[:4])\n",
        "print(train_y[:4])"
      ],
      "execution_count": 10,
      "outputs": [
        {
          "output_type": "stream",
          "text": [
            "tf.Tensor(\n",
            "[[-5.0354004e-03 -6.7749023e-03 -5.7678223e-03 ...  2.5939941e-03\n",
            "   4.7607422e-03  6.8054199e-03]\n",
            " [-5.1879883e-04 -9.1552734e-04 -6.4086914e-04 ...  0.0000000e+00\n",
            "   0.0000000e+00  0.0000000e+00]\n",
            " [ 3.0517578e-05 -1.5258789e-04 -1.8310547e-04 ...  1.1901855e-03\n",
            "   1.2207031e-03  1.4038086e-03]\n",
            " [-9.3994141e-03 -9.8571777e-03 -1.0894775e-02 ... -1.1840820e-02\n",
            "  -9.3994141e-03 -9.9792480e-03]], shape=(4, 16000), dtype=float32)\n",
            "tf.Tensor([3 2 2 2], shape=(4,), dtype=int32)\n"
          ],
          "name": "stdout"
        }
      ]
    },
    {
      "cell_type": "code",
      "metadata": {
        "colab": {
          "base_uri": "https://localhost:8080/"
        },
        "id": "zh1OZUrJw07a",
        "outputId": "2fe100ff-4d6f-4e1e-ffa4-9d09306a9f84"
      },
      "source": [
        "numpy_y = train_y.numpy()\n",
        "print(numpy_y)\n",
        "print(tf.convert_to_tensor(numpy_y[:4]))"
      ],
      "execution_count": null,
      "outputs": [
        {
          "output_type": "stream",
          "text": [
            "[5 4 0 ... 3 3 7]\n",
            "tf.Tensor([5 4 0 3], shape=(4,), dtype=int32)\n"
          ],
          "name": "stdout"
        }
      ]
    },
    {
      "cell_type": "markdown",
      "metadata": {
        "id": "4O-t_navYRMz"
      },
      "source": [
        "# Yamnet"
      ]
    },
    {
      "cell_type": "code",
      "metadata": {
        "id": "YgVIlfJbYS7x"
      },
      "source": [
        "# Download the model from TFHub\n",
        "yamnet_model_handle = 'https://tfhub.dev/google/yamnet/1'\n",
        "yamnet_model = hub.load(yamnet_model_handle)"
      ],
      "execution_count": 11,
      "outputs": []
    },
    {
      "cell_type": "code",
      "metadata": {
        "colab": {
          "base_uri": "https://localhost:8080/"
        },
        "id": "uTaogiDRYTiT",
        "outputId": "af7e3ec6-022d-40be-8ea9-ae8a2d70f0fc"
      },
      "source": [
        "# Print the classes\n",
        "class_map_path = yamnet_model.class_map_path().numpy().decode('utf-8')\n",
        "class_names =list(pd.read_csv(class_map_path)['display_name'])\n",
        "\n",
        "for name in class_names[:20]:\n",
        "  print(name)\n",
        "print('...')"
      ],
      "execution_count": 12,
      "outputs": [
        {
          "output_type": "stream",
          "text": [
            "Speech\n",
            "Child speech, kid speaking\n",
            "Conversation\n",
            "Narration, monologue\n",
            "Babbling\n",
            "Speech synthesizer\n",
            "Shout\n",
            "Bellow\n",
            "Whoop\n",
            "Yell\n",
            "Children shouting\n",
            "Screaming\n",
            "Whispering\n",
            "Laughter\n",
            "Baby laughter\n",
            "Giggle\n",
            "Snicker\n",
            "Belly laugh\n",
            "Chuckle, chortle\n",
            "Crying, sobbing\n",
            "...\n"
          ],
          "name": "stdout"
        }
      ]
    },
    {
      "cell_type": "code",
      "metadata": {
        "id": "3P29qsVHWSoh"
      },
      "source": [
        "# applies the embedding extraction model to a wav data\n",
        "def extract_embedding_data(wav_data):\n",
        "  ''' run YAMNet to extract embedding from the wav data '''\n",
        "  #print(len(wav_data))\n",
        "  scores, embeddings, spectrogram = yamnet_model(wav_data)\n",
        "  #num_embeddings = tf.shape(embeddings)[0]\n",
        "  return embeddings\n",
        "\n",
        "# applies the embedding extraction model to a wav data\n",
        "def extract_embedding_data_one_output(wav_data):\n",
        "  ''' run YAMNet to extract embedding from the wav data '''\n",
        "  scores, embeddings, spectrogram = yamnet_model(wav_data)\n",
        "  embeddings = tf.reduce_mean(embeddings, 0)\n",
        "  return embeddings\n",
        "\n",
        "new_array = []\n",
        "\n",
        "for i in train_x:\n",
        "  #print(len(i))\n",
        "  new_array.append(extract_embedding_data_one_output(i))\n",
        "  #new_array.append(extract_embedding_data(i))\n",
        "\n",
        "yamnet_train_x = tf.convert_to_tensor(new_array)\n"
      ],
      "execution_count": 18,
      "outputs": []
    },
    {
      "cell_type": "code",
      "metadata": {
        "colab": {
          "base_uri": "https://localhost:8080/"
        },
        "id": "eZC8Cxh3YEV0",
        "outputId": "eed28535-83eb-412b-9a75-a917c4c2a00d"
      },
      "source": [
        "print(len(yamnet_train_x))\n",
        "print(yamnet_train_x[:1])"
      ],
      "execution_count": 19,
      "outputs": [
        {
          "output_type": "stream",
          "text": [
            "8000\n",
            "tf.Tensor([[0.03142092 0.39526838 0.13033617 ... 0.3167366  0.0062078  0.        ]], shape=(1, 1024), dtype=float32)\n"
          ],
          "name": "stdout"
        }
      ]
    },
    {
      "cell_type": "code",
      "metadata": {
        "colab": {
          "base_uri": "https://localhost:8080/"
        },
        "id": "nMtM8rRJcKv2",
        "outputId": "2e7ac5f1-acc6-480c-f514-8178376e301d"
      },
      "source": [
        "my_model = tf.keras.Sequential([\n",
        "    tf.keras.layers.Input(shape=(1024), dtype=tf.float32,\n",
        "                          name='input_embedding'),\n",
        "    tf.keras.layers.Dense(512, activation='relu'),\n",
        "    tf.keras.layers.Dense(len(commands))\n",
        "], name='my_model')\n",
        "\n",
        "my_model.summary()"
      ],
      "execution_count": 20,
      "outputs": [
        {
          "output_type": "stream",
          "text": [
            "WARNING:tensorflow:Please add `keras.layers.InputLayer` instead of `keras.Input` to Sequential model. `keras.Input` is intended to be used by Functional model.\n"
          ],
          "name": "stdout"
        },
        {
          "output_type": "stream",
          "text": [
            "WARNING:tensorflow:Please add `keras.layers.InputLayer` instead of `keras.Input` to Sequential model. `keras.Input` is intended to be used by Functional model.\n"
          ],
          "name": "stderr"
        },
        {
          "output_type": "stream",
          "text": [
            "Model: \"my_model\"\n",
            "_________________________________________________________________\n",
            "Layer (type)                 Output Shape              Param #   \n",
            "=================================================================\n",
            "dense_2 (Dense)              (None, 512)               524800    \n",
            "_________________________________________________________________\n",
            "dense_3 (Dense)              (None, 8)                 4104      \n",
            "=================================================================\n",
            "Total params: 528,904\n",
            "Trainable params: 528,904\n",
            "Non-trainable params: 0\n",
            "_________________________________________________________________\n"
          ],
          "name": "stdout"
        }
      ]
    },
    {
      "cell_type": "code",
      "metadata": {
        "id": "U2NRLuW4cobr"
      },
      "source": [
        "my_model.compile(loss=tf.keras.losses.SparseCategoricalCrossentropy(from_logits=True),\n",
        "                 optimizer=\"adam\",\n",
        "                 metrics=['accuracy'])\n",
        "\n",
        "callback = tf.keras.callbacks.EarlyStopping(monitor='loss',\n",
        "                                            patience=3,\n",
        "                                            restore_best_weights=True)"
      ],
      "execution_count": 21,
      "outputs": []
    },
    {
      "cell_type": "code",
      "metadata": {
        "colab": {
          "base_uri": "https://localhost:8080/"
        },
        "id": "h6xPZ0iTctvK",
        "outputId": "62c9535f-40db-42f3-beeb-f93b2d4ecca4"
      },
      "source": [
        "history = my_model.fit(yamnet_train_x,train_y,\n",
        "                       epochs=40,\n",
        "                       validation_split=0.2,\n",
        "                       callbacks=callback,\n",
        "                       batch_size=32,\n",
        "                       verbose=1)"
      ],
      "execution_count": 22,
      "outputs": [
        {
          "output_type": "stream",
          "text": [
            "Epoch 1/40\n",
            "200/200 [==============================] - 1s 3ms/step - loss: 1.8171 - accuracy: 0.3327 - val_loss: 1.6459 - val_accuracy: 0.4375\n",
            "Epoch 2/40\n",
            "200/200 [==============================] - 0s 2ms/step - loss: 1.5309 - accuracy: 0.4447 - val_loss: 1.4570 - val_accuracy: 0.4800\n",
            "Epoch 3/40\n",
            "200/200 [==============================] - 0s 2ms/step - loss: 1.3991 - accuracy: 0.4972 - val_loss: 1.4453 - val_accuracy: 0.4725\n",
            "Epoch 4/40\n",
            "200/200 [==============================] - 0s 2ms/step - loss: 1.3278 - accuracy: 0.5300 - val_loss: 1.3791 - val_accuracy: 0.5138\n",
            "Epoch 5/40\n",
            "200/200 [==============================] - 0s 2ms/step - loss: 1.2625 - accuracy: 0.5461 - val_loss: 1.3292 - val_accuracy: 0.5131\n",
            "Epoch 6/40\n",
            "200/200 [==============================] - 0s 2ms/step - loss: 1.1963 - accuracy: 0.5698 - val_loss: 1.2915 - val_accuracy: 0.5294\n",
            "Epoch 7/40\n",
            "200/200 [==============================] - 0s 2ms/step - loss: 1.1404 - accuracy: 0.5881 - val_loss: 1.3006 - val_accuracy: 0.5256\n",
            "Epoch 8/40\n",
            "200/200 [==============================] - 0s 2ms/step - loss: 1.0843 - accuracy: 0.6089 - val_loss: 1.3362 - val_accuracy: 0.5138\n",
            "Epoch 9/40\n",
            "200/200 [==============================] - 0s 2ms/step - loss: 1.0426 - accuracy: 0.6244 - val_loss: 1.3364 - val_accuracy: 0.5194\n",
            "Epoch 10/40\n",
            "200/200 [==============================] - 0s 2ms/step - loss: 0.9877 - accuracy: 0.6483 - val_loss: 1.2950 - val_accuracy: 0.5281\n",
            "Epoch 11/40\n",
            "200/200 [==============================] - 0s 2ms/step - loss: 0.9500 - accuracy: 0.6620 - val_loss: 1.2608 - val_accuracy: 0.5444\n",
            "Epoch 12/40\n",
            "200/200 [==============================] - 0s 2ms/step - loss: 0.8911 - accuracy: 0.6900 - val_loss: 1.3058 - val_accuracy: 0.5437\n",
            "Epoch 13/40\n",
            "200/200 [==============================] - 0s 2ms/step - loss: 0.8443 - accuracy: 0.7061 - val_loss: 1.3444 - val_accuracy: 0.5163\n",
            "Epoch 14/40\n",
            "200/200 [==============================] - 0s 2ms/step - loss: 0.8000 - accuracy: 0.7205 - val_loss: 1.2748 - val_accuracy: 0.5431\n",
            "Epoch 15/40\n",
            "200/200 [==============================] - 0s 2ms/step - loss: 0.7451 - accuracy: 0.7470 - val_loss: 1.3007 - val_accuracy: 0.5494\n",
            "Epoch 16/40\n",
            "200/200 [==============================] - 0s 2ms/step - loss: 0.7102 - accuracy: 0.7613 - val_loss: 1.3281 - val_accuracy: 0.5356\n",
            "Epoch 17/40\n",
            "200/200 [==============================] - 0s 2ms/step - loss: 0.6685 - accuracy: 0.7784 - val_loss: 1.3031 - val_accuracy: 0.5362\n",
            "Epoch 18/40\n",
            "200/200 [==============================] - 0s 2ms/step - loss: 0.6168 - accuracy: 0.7967 - val_loss: 1.3427 - val_accuracy: 0.5394\n",
            "Epoch 19/40\n",
            "200/200 [==============================] - 0s 2ms/step - loss: 0.6022 - accuracy: 0.8072 - val_loss: 1.4254 - val_accuracy: 0.5250\n",
            "Epoch 20/40\n",
            "200/200 [==============================] - 0s 2ms/step - loss: 0.5526 - accuracy: 0.8228 - val_loss: 1.3892 - val_accuracy: 0.5475\n",
            "Epoch 21/40\n",
            "200/200 [==============================] - 0s 2ms/step - loss: 0.5083 - accuracy: 0.8394 - val_loss: 1.3982 - val_accuracy: 0.5425\n",
            "Epoch 22/40\n",
            "200/200 [==============================] - 0s 2ms/step - loss: 0.4745 - accuracy: 0.8528 - val_loss: 1.4524 - val_accuracy: 0.5150\n",
            "Epoch 23/40\n",
            "200/200 [==============================] - 0s 2ms/step - loss: 0.4360 - accuracy: 0.8670 - val_loss: 1.4448 - val_accuracy: 0.5325\n",
            "Epoch 24/40\n",
            "200/200 [==============================] - 0s 2ms/step - loss: 0.4208 - accuracy: 0.8766 - val_loss: 1.4472 - val_accuracy: 0.5381\n",
            "Epoch 25/40\n",
            "200/200 [==============================] - 0s 2ms/step - loss: 0.3843 - accuracy: 0.8873 - val_loss: 1.4788 - val_accuracy: 0.5444\n",
            "Epoch 26/40\n",
            "200/200 [==============================] - 0s 2ms/step - loss: 0.3537 - accuracy: 0.9028 - val_loss: 1.5586 - val_accuracy: 0.5213\n",
            "Epoch 27/40\n",
            "200/200 [==============================] - 0s 2ms/step - loss: 0.3305 - accuracy: 0.9130 - val_loss: 1.5236 - val_accuracy: 0.5437\n",
            "Epoch 28/40\n",
            "200/200 [==============================] - 0s 2ms/step - loss: 0.3065 - accuracy: 0.9178 - val_loss: 1.5665 - val_accuracy: 0.5500\n",
            "Epoch 29/40\n",
            "200/200 [==============================] - 0s 2ms/step - loss: 0.2849 - accuracy: 0.9261 - val_loss: 1.6297 - val_accuracy: 0.5394\n",
            "Epoch 30/40\n",
            "200/200 [==============================] - 0s 2ms/step - loss: 0.2666 - accuracy: 0.9294 - val_loss: 1.5961 - val_accuracy: 0.5362\n",
            "Epoch 31/40\n",
            "200/200 [==============================] - 0s 2ms/step - loss: 0.2430 - accuracy: 0.9384 - val_loss: 1.6735 - val_accuracy: 0.5431\n",
            "Epoch 32/40\n",
            "200/200 [==============================] - 0s 2ms/step - loss: 0.2369 - accuracy: 0.9425 - val_loss: 1.6584 - val_accuracy: 0.5356\n",
            "Epoch 33/40\n",
            "200/200 [==============================] - 0s 2ms/step - loss: 0.2126 - accuracy: 0.9488 - val_loss: 1.7203 - val_accuracy: 0.5275\n",
            "Epoch 34/40\n",
            "200/200 [==============================] - 0s 2ms/step - loss: 0.1919 - accuracy: 0.9567 - val_loss: 1.8000 - val_accuracy: 0.5312\n",
            "Epoch 35/40\n",
            "200/200 [==============================] - 0s 2ms/step - loss: 0.1781 - accuracy: 0.9605 - val_loss: 1.7961 - val_accuracy: 0.5350\n",
            "Epoch 36/40\n",
            "200/200 [==============================] - 0s 2ms/step - loss: 0.1692 - accuracy: 0.9605 - val_loss: 1.8155 - val_accuracy: 0.5331\n",
            "Epoch 37/40\n",
            "200/200 [==============================] - 0s 2ms/step - loss: 0.1660 - accuracy: 0.9608 - val_loss: 1.8197 - val_accuracy: 0.5344\n",
            "Epoch 38/40\n",
            "200/200 [==============================] - 0s 2ms/step - loss: 0.1515 - accuracy: 0.9639 - val_loss: 1.8930 - val_accuracy: 0.5244\n",
            "Epoch 39/40\n",
            "200/200 [==============================] - 0s 2ms/step - loss: 0.1392 - accuracy: 0.9681 - val_loss: 1.8671 - val_accuracy: 0.5375\n",
            "Epoch 40/40\n",
            "200/200 [==============================] - 0s 2ms/step - loss: 0.1385 - accuracy: 0.9669 - val_loss: 1.9375 - val_accuracy: 0.5294\n"
          ],
          "name": "stdout"
        }
      ]
    },
    {
      "cell_type": "code",
      "metadata": {
        "colab": {
          "base_uri": "https://localhost:8080/",
          "height": 266
        },
        "id": "hVc_95bRgKvQ",
        "outputId": "e4d9a28b-6baa-4a1b-f4ea-3fdad947e480"
      },
      "source": [
        "metrics = history.history\n",
        "plt.plot(history.epoch, metrics['loss'], metrics['val_loss'])\n",
        "plt.legend(['loss', 'val_loss'])\n",
        "plt.show()"
      ],
      "execution_count": 23,
      "outputs": [
        {
          "output_type": "display_data",
          "data": {
            "image/png": "[encoded data removed]",
            "text/plain": [
              "<Figure size 432x288 with 1 Axes>"
            ]
          },
          "metadata": {
            "tags": [],
            "needs_background": "light"
          }
        }
      ]
    },
    {
      "cell_type": "code",
      "metadata": {
        "colab": {
          "base_uri": "https://localhost:8080/",
          "height": 425
        },
        "id": "DJ6LBJPdcx_q",
        "outputId": "6a1d873a-5043-41f2-fb84-9c533b58c51a"
      },
      "source": [
        "scores, embeddings, spectrogram = yamnet_model(zero_pad_the_waveforms(get_waveform_and_label_in_integer('/content/data/mini_speech_commands/right/0227998e_nohash_0.wav')[0]))\n",
        "print(embeddings)\n",
        "embeddings = tf.reduce_mean(embeddings, 0)\n",
        "result = my_model(embeddings).numpy()\n",
        "print(result)\n",
        "\n",
        "#infered_class = commands[result.mean(axis=0).argmax()]\n",
        "#print(f'The main sound is: {infered_class}')"
      ],
      "execution_count": 25,
      "outputs": [
        {
          "output_type": "stream",
          "text": [
            "tf.Tensor(\n",
            "[[0.05651987 0.07747456 0.         ... 0.         0.03957902 0.        ]\n",
            " [0.10405616 0.13227785 0.3524423  ... 0.22695433 0.         0.        ]], shape=(2, 1024), dtype=float32)\n"
          ],
          "name": "stdout"
        },
        {
          "output_type": "error",
          "ename": "ValueError",
          "evalue": "ignored",
          "traceback": [
            "\u001b[0;31m---------------------------------------------------------------------------\u001b[0m",
            "\u001b[0;31mValueError\u001b[0m                                Traceback (most recent call last)",
            "\u001b[0;32m<ipython-input-25-a2526e334f0d>\u001b[0m in \u001b[0;36m<module>\u001b[0;34m()\u001b[0m\n\u001b[1;32m      2\u001b[0m \u001b[0mprint\u001b[0m\u001b[0;34m(\u001b[0m\u001b[0membeddings\u001b[0m\u001b[0;34m)\u001b[0m\u001b[0;34m\u001b[0m\u001b[0;34m\u001b[0m\u001b[0m\n\u001b[1;32m      3\u001b[0m \u001b[0membeddings\u001b[0m \u001b[0;34m=\u001b[0m \u001b[0mtf\u001b[0m\u001b[0;34m.\u001b[0m\u001b[0mreduce_mean\u001b[0m\u001b[0;34m(\u001b[0m\u001b[0membeddings\u001b[0m\u001b[0;34m,\u001b[0m \u001b[0;36m0\u001b[0m\u001b[0;34m)\u001b[0m\u001b[0;34m\u001b[0m\u001b[0;34m\u001b[0m\u001b[0m\n\u001b[0;32m----> 4\u001b[0;31m \u001b[0mresult\u001b[0m \u001b[0;34m=\u001b[0m \u001b[0mmy_model\u001b[0m\u001b[0;34m(\u001b[0m\u001b[0membeddings\u001b[0m\u001b[0;34m)\u001b[0m\u001b[0;34m.\u001b[0m\u001b[0mnumpy\u001b[0m\u001b[0;34m(\u001b[0m\u001b[0;34m)\u001b[0m\u001b[0;34m\u001b[0m\u001b[0;34m\u001b[0m\u001b[0m\n\u001b[0m\u001b[1;32m      5\u001b[0m \u001b[0mprint\u001b[0m\u001b[0;34m(\u001b[0m\u001b[0mresult\u001b[0m\u001b[0;34m)\u001b[0m\u001b[0;34m\u001b[0m\u001b[0;34m\u001b[0m\u001b[0m\n\u001b[1;32m      6\u001b[0m \u001b[0;34m\u001b[0m\u001b[0m\n",
            "\u001b[0;32m/usr/local/lib/python3.7/dist-packages/tensorflow/python/keras/engine/base_layer.py\u001b[0m in \u001b[0;36m__call__\u001b[0;34m(self, *args, **kwargs)\u001b[0m\n\u001b[1;32m   1011\u001b[0m         training=training_mode):\n\u001b[1;32m   1012\u001b[0m \u001b[0;34m\u001b[0m\u001b[0m\n\u001b[0;32m-> 1013\u001b[0;31m       \u001b[0minput_spec\u001b[0m\u001b[0;34m.\u001b[0m\u001b[0massert_input_compatibility\u001b[0m\u001b[0;34m(\u001b[0m\u001b[0mself\u001b[0m\u001b[0;34m.\u001b[0m\u001b[0minput_spec\u001b[0m\u001b[0;34m,\u001b[0m \u001b[0minputs\u001b[0m\u001b[0;34m,\u001b[0m \u001b[0mself\u001b[0m\u001b[0;34m.\u001b[0m\u001b[0mname\u001b[0m\u001b[0;34m)\u001b[0m\u001b[0;34m\u001b[0m\u001b[0;34m\u001b[0m\u001b[0m\n\u001b[0m\u001b[1;32m   1014\u001b[0m       \u001b[0;32mif\u001b[0m \u001b[0meager\u001b[0m\u001b[0;34m:\u001b[0m\u001b[0;34m\u001b[0m\u001b[0;34m\u001b[0m\u001b[0m\n\u001b[1;32m   1015\u001b[0m         \u001b[0mcall_fn\u001b[0m \u001b[0;34m=\u001b[0m \u001b[0mself\u001b[0m\u001b[0;34m.\u001b[0m\u001b[0mcall\u001b[0m\u001b[0;34m\u001b[0m\u001b[0;34m\u001b[0m\u001b[0m\n",
            "\u001b[0;32m/usr/local/lib/python3.7/dist-packages/tensorflow/python/keras/engine/input_spec.py\u001b[0m in \u001b[0;36massert_input_compatibility\u001b[0;34m(input_spec, inputs, layer_name)\u001b[0m\n\u001b[1;32m    233\u001b[0m                          \u001b[0;34m', found ndim='\u001b[0m \u001b[0;34m+\u001b[0m \u001b[0mstr\u001b[0m\u001b[0;34m(\u001b[0m\u001b[0mndim\u001b[0m\u001b[0;34m)\u001b[0m \u001b[0;34m+\u001b[0m\u001b[0;34m\u001b[0m\u001b[0;34m\u001b[0m\u001b[0m\n\u001b[1;32m    234\u001b[0m                          \u001b[0;34m'. Full shape received: '\u001b[0m \u001b[0;34m+\u001b[0m\u001b[0;34m\u001b[0m\u001b[0;34m\u001b[0m\u001b[0m\n\u001b[0;32m--> 235\u001b[0;31m                          str(tuple(shape)))\n\u001b[0m\u001b[1;32m    236\u001b[0m     \u001b[0;31m# Check dtype.\u001b[0m\u001b[0;34m\u001b[0m\u001b[0;34m\u001b[0m\u001b[0;34m\u001b[0m\u001b[0m\n\u001b[1;32m    237\u001b[0m     \u001b[0;32mif\u001b[0m \u001b[0mspec\u001b[0m\u001b[0;34m.\u001b[0m\u001b[0mdtype\u001b[0m \u001b[0;32mis\u001b[0m \u001b[0;32mnot\u001b[0m \u001b[0;32mNone\u001b[0m\u001b[0;34m:\u001b[0m\u001b[0;34m\u001b[0m\u001b[0;34m\u001b[0m\u001b[0m\n",
            "\u001b[0;31mValueError\u001b[0m: Input 0 of layer my_model is incompatible with the layer: : expected min_ndim=2, found ndim=1. Full shape received: (1024,)"
          ]
        }
      ]
    },
    {
      "cell_type": "code",
      "metadata": {
        "id": "LmTApLvd2T71"
      },
      "source": [
        ""
      ],
      "execution_count": null,
      "outputs": []
    }
  ]
}