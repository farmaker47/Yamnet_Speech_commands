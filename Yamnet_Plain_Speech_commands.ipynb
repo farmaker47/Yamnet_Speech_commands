{
  "nbformat": 4,
  "nbformat_minor": 0,
  "metadata": {
    "colab": {
      "name": "Yamnet_Plain_Speech_commands.ipynb",
      "provenance": [],
      "collapsed_sections": []
    },
    "kernelspec": {
      "name": "python3",
      "display_name": "Python 3"
    },
    "language_info": {
      "name": "python"
    },
    "accelerator": "GPU"
  },
  "cells": [
    {
      "cell_type": "code",
      "metadata": {
        "colab": {
          "base_uri": "https://localhost:8080/"
        },
        "id": "X3Wv0E91VkvB",
        "outputId": "be063bb5-f1c5-4ee3-e1a5-0a5f68a3be4c"
      },
      "source": [
        "#!pip install tensorflow==2.4.1"
      ],
      "execution_count": null,
      "outputs": [
        {
          "output_type": "stream",
          "text": [
            "Collecting tensorflow==2.4.1\n",
            "\u001b[?25l  Downloading https://files.pythonhosted.org/packages/70/dc/e8c5e7983866fa4ef3fd619faa35f660b95b01a2ab62b3884f038ccab542/tensorflow-2.4.1-cp37-cp37m-manylinux2010_x86_64.whl (394.3MB)\n",
            "\u001b[K     |████████████████████████████████| 394.3MB 43kB/s \n",
            "\u001b[?25hRequirement already satisfied: termcolor~=1.1.0 in /usr/local/lib/python3.7/dist-packages (from tensorflow==2.4.1) (1.1.0)\n",
            "Requirement already satisfied: google-pasta~=0.2 in /usr/local/lib/python3.7/dist-packages (from tensorflow==2.4.1) (0.2.0)\n",
            "Requirement already satisfied: wheel~=0.35 in /usr/local/lib/python3.7/dist-packages (from tensorflow==2.4.1) (0.36.2)\n",
            "Collecting grpcio~=1.32.0\n",
            "\u001b[?25l  Downloading https://files.pythonhosted.org/packages/06/54/1c8be62beafe7fb1548d2968e518ca040556b46b0275399d4f3186c56d79/grpcio-1.32.0-cp37-cp37m-manylinux2014_x86_64.whl (3.8MB)\n",
            "\u001b[K     |████████████████████████████████| 3.8MB 29.0MB/s \n",
            "\u001b[?25hCollecting h5py~=2.10.0\n",
            "\u001b[?25l  Downloading https://files.pythonhosted.org/packages/3f/c0/abde58b837e066bca19a3f7332d9d0493521d7dd6b48248451a9e3fe2214/h5py-2.10.0-cp37-cp37m-manylinux1_x86_64.whl (2.9MB)\n",
            "\u001b[K     |████████████████████████████████| 2.9MB 39.2MB/s \n",
            "\u001b[?25hRequirement already satisfied: six~=1.15.0 in /usr/local/lib/python3.7/dist-packages (from tensorflow==2.4.1) (1.15.0)\n",
            "Requirement already satisfied: flatbuffers~=1.12.0 in /usr/local/lib/python3.7/dist-packages (from tensorflow==2.4.1) (1.12)\n",
            "Requirement already satisfied: astunparse~=1.6.3 in /usr/local/lib/python3.7/dist-packages (from tensorflow==2.4.1) (1.6.3)\n",
            "Collecting tensorflow-estimator<2.5.0,>=2.4.0\n",
            "\u001b[?25l  Downloading https://files.pythonhosted.org/packages/74/7e/622d9849abf3afb81e482ffc170758742e392ee129ce1540611199a59237/tensorflow_estimator-2.4.0-py2.py3-none-any.whl (462kB)\n",
            "\u001b[K     |████████████████████████████████| 471kB 52.2MB/s \n",
            "\u001b[?25hRequirement already satisfied: typing-extensions~=3.7.4 in /usr/local/lib/python3.7/dist-packages (from tensorflow==2.4.1) (3.7.4.3)\n",
            "Requirement already satisfied: absl-py~=0.10 in /usr/local/lib/python3.7/dist-packages (from tensorflow==2.4.1) (0.12.0)\n",
            "Requirement already satisfied: numpy~=1.19.2 in /usr/local/lib/python3.7/dist-packages (from tensorflow==2.4.1) (1.19.5)\n",
            "Collecting gast==0.3.3\n",
            "  Downloading https://files.pythonhosted.org/packages/d6/84/759f5dd23fec8ba71952d97bcc7e2c9d7d63bdc582421f3cd4be845f0c98/gast-0.3.3-py2.py3-none-any.whl\n",
            "Requirement already satisfied: tensorboard~=2.4 in /usr/local/lib/python3.7/dist-packages (from tensorflow==2.4.1) (2.5.0)\n",
            "Requirement already satisfied: opt-einsum~=3.3.0 in /usr/local/lib/python3.7/dist-packages (from tensorflow==2.4.1) (3.3.0)\n",
            "Requirement already satisfied: wrapt~=1.12.1 in /usr/local/lib/python3.7/dist-packages (from tensorflow==2.4.1) (1.12.1)\n",
            "Requirement already satisfied: keras-preprocessing~=1.1.2 in /usr/local/lib/python3.7/dist-packages (from tensorflow==2.4.1) (1.1.2)\n",
            "Requirement already satisfied: protobuf>=3.9.2 in /usr/local/lib/python3.7/dist-packages (from tensorflow==2.4.1) (3.12.4)\n",
            "Requirement already satisfied: requests<3,>=2.21.0 in /usr/local/lib/python3.7/dist-packages (from tensorboard~=2.4->tensorflow==2.4.1) (2.23.0)\n",
            "Requirement already satisfied: werkzeug>=0.11.15 in /usr/local/lib/python3.7/dist-packages (from tensorboard~=2.4->tensorflow==2.4.1) (1.0.1)\n",
            "Requirement already satisfied: setuptools>=41.0.0 in /usr/local/lib/python3.7/dist-packages (from tensorboard~=2.4->tensorflow==2.4.1) (57.0.0)\n",
            "Requirement already satisfied: tensorboard-data-server<0.7.0,>=0.6.0 in /usr/local/lib/python3.7/dist-packages (from tensorboard~=2.4->tensorflow==2.4.1) (0.6.1)\n",
            "Requirement already satisfied: google-auth-oauthlib<0.5,>=0.4.1 in /usr/local/lib/python3.7/dist-packages (from tensorboard~=2.4->tensorflow==2.4.1) (0.4.4)\n",
            "Requirement already satisfied: google-auth<2,>=1.6.3 in /usr/local/lib/python3.7/dist-packages (from tensorboard~=2.4->tensorflow==2.4.1) (1.31.0)\n",
            "Requirement already satisfied: tensorboard-plugin-wit>=1.6.0 in /usr/local/lib/python3.7/dist-packages (from tensorboard~=2.4->tensorflow==2.4.1) (1.8.0)\n",
            "Requirement already satisfied: markdown>=2.6.8 in /usr/local/lib/python3.7/dist-packages (from tensorboard~=2.4->tensorflow==2.4.1) (3.3.4)\n",
            "Requirement already satisfied: certifi>=2017.4.17 in /usr/local/lib/python3.7/dist-packages (from requests<3,>=2.21.0->tensorboard~=2.4->tensorflow==2.4.1) (2021.5.30)\n",
            "Requirement already satisfied: idna<3,>=2.5 in /usr/local/lib/python3.7/dist-packages (from requests<3,>=2.21.0->tensorboard~=2.4->tensorflow==2.4.1) (2.10)\n",
            "Requirement already satisfied: chardet<4,>=3.0.2 in /usr/local/lib/python3.7/dist-packages (from requests<3,>=2.21.0->tensorboard~=2.4->tensorflow==2.4.1) (3.0.4)\n",
            "Requirement already satisfied: urllib3!=1.25.0,!=1.25.1,<1.26,>=1.21.1 in /usr/local/lib/python3.7/dist-packages (from requests<3,>=2.21.0->tensorboard~=2.4->tensorflow==2.4.1) (1.24.3)\n",
            "Requirement already satisfied: requests-oauthlib>=0.7.0 in /usr/local/lib/python3.7/dist-packages (from google-auth-oauthlib<0.5,>=0.4.1->tensorboard~=2.4->tensorflow==2.4.1) (1.3.0)\n",
            "Requirement already satisfied: cachetools<5.0,>=2.0.0 in /usr/local/lib/python3.7/dist-packages (from google-auth<2,>=1.6.3->tensorboard~=2.4->tensorflow==2.4.1) (4.2.2)\n",
            "Requirement already satisfied: rsa<5,>=3.1.4; python_version >= \"3.6\" in /usr/local/lib/python3.7/dist-packages (from google-auth<2,>=1.6.3->tensorboard~=2.4->tensorflow==2.4.1) (4.7.2)\n",
            "Requirement already satisfied: pyasn1-modules>=0.2.1 in /usr/local/lib/python3.7/dist-packages (from google-auth<2,>=1.6.3->tensorboard~=2.4->tensorflow==2.4.1) (0.2.8)\n",
            "Requirement already satisfied: importlib-metadata; python_version < \"3.8\" in /usr/local/lib/python3.7/dist-packages (from markdown>=2.6.8->tensorboard~=2.4->tensorflow==2.4.1) (4.5.0)\n",
            "Requirement already satisfied: oauthlib>=3.0.0 in /usr/local/lib/python3.7/dist-packages (from requests-oauthlib>=0.7.0->google-auth-oauthlib<0.5,>=0.4.1->tensorboard~=2.4->tensorflow==2.4.1) (3.1.1)\n",
            "Requirement already satisfied: pyasn1>=0.1.3 in /usr/local/lib/python3.7/dist-packages (from rsa<5,>=3.1.4; python_version >= \"3.6\"->google-auth<2,>=1.6.3->tensorboard~=2.4->tensorflow==2.4.1) (0.4.8)\n",
            "Requirement already satisfied: zipp>=0.5 in /usr/local/lib/python3.7/dist-packages (from importlib-metadata; python_version < \"3.8\"->markdown>=2.6.8->tensorboard~=2.4->tensorflow==2.4.1) (3.4.1)\n",
            "Installing collected packages: grpcio, h5py, tensorflow-estimator, gast, tensorflow\n",
            "  Found existing installation: grpcio 1.34.1\n",
            "    Uninstalling grpcio-1.34.1:\n",
            "      Successfully uninstalled grpcio-1.34.1\n",
            "  Found existing installation: h5py 3.1.0\n",
            "    Uninstalling h5py-3.1.0:\n",
            "      Successfully uninstalled h5py-3.1.0\n",
            "  Found existing installation: tensorflow-estimator 2.5.0\n",
            "    Uninstalling tensorflow-estimator-2.5.0:\n",
            "      Successfully uninstalled tensorflow-estimator-2.5.0\n",
            "  Found existing installation: gast 0.4.0\n",
            "    Uninstalling gast-0.4.0:\n",
            "      Successfully uninstalled gast-0.4.0\n",
            "  Found existing installation: tensorflow 2.5.0\n",
            "    Uninstalling tensorflow-2.5.0:\n",
            "      Successfully uninstalled tensorflow-2.5.0\n",
            "Successfully installed gast-0.3.3 grpcio-1.32.0 h5py-2.10.0 tensorflow-2.4.1 tensorflow-estimator-2.4.0\n"
          ],
          "name": "stdout"
        }
      ]
    },
    {
      "cell_type": "code",
      "metadata": {
        "id": "V4nBdvnZmbsL",
        "colab": {
          "base_uri": "https://localhost:8080/"
        },
        "outputId": "97f71256-7832-4b7d-dfc5-753d79428f28"
      },
      "source": [
        "!pip install -q tensorflow_io\n",
        "import tensorflow_io as tfio\n",
        "\n",
        "import os\n",
        "import pathlib\n",
        "\n",
        "import matplotlib.pyplot as plt\n",
        "import numpy as np\n",
        "import pandas as pd\n",
        "import tensorflow as tf\n",
        "from tensorflow import keras as keras\n",
        "import tensorflow_hub as hub\n",
        "\n",
        "from tensorflow.keras.layers.experimental import preprocessing\n",
        "from tensorflow.keras import layers\n",
        "from tensorflow.keras import models\n",
        "from IPython import display\n",
        "\n",
        "\n",
        "# Set seed for experiment reproducibility\n",
        "#seed = 42\n",
        "#tf.random.set_seed(seed)\n",
        "#np.random.seed(seed)"
      ],
      "execution_count": 1,
      "outputs": [
        {
          "output_type": "stream",
          "text": [
            "\u001b[K     |████████████████████████████████| 24.1MB 124kB/s \n",
            "\u001b[K     |████████████████████████████████| 2.5MB 37.9MB/s \n",
            "\u001b[?25h"
          ],
          "name": "stdout"
        }
      ]
    },
    {
      "cell_type": "code",
      "metadata": {
        "colab": {
          "base_uri": "https://localhost:8080/"
        },
        "id": "hp27RunVmqAT",
        "outputId": "9aa6095a-cbc9-46d6-c416-e4224d35902d"
      },
      "source": [
        "print(tf.__version__)\n",
        "print(keras.__version__)"
      ],
      "execution_count": 2,
      "outputs": [
        {
          "output_type": "stream",
          "text": [
            "2.5.0\n",
            "2.5.0\n"
          ],
          "name": "stdout"
        }
      ]
    },
    {
      "cell_type": "code",
      "metadata": {
        "colab": {
          "base_uri": "https://localhost:8080/"
        },
        "id": "GKj9Pst_h_jY",
        "outputId": "bd1871b6-33ad-4c8b-fb79-a1062dc6e242"
      },
      "source": [
        "!nvidia-smi"
      ],
      "execution_count": 3,
      "outputs": [
        {
          "output_type": "stream",
          "text": [
            "Tue Jun 15 14:47:56 2021       \n",
            "+-----------------------------------------------------------------------------+\n",
            "| NVIDIA-SMI 465.27       Driver Version: 460.32.03    CUDA Version: 11.2     |\n",
            "|-------------------------------+----------------------+----------------------+\n",
            "| GPU  Name        Persistence-M| Bus-Id        Disp.A | Volatile Uncorr. ECC |\n",
            "| Fan  Temp  Perf  Pwr:Usage/Cap|         Memory-Usage | GPU-Util  Compute M. |\n",
            "|                               |                      |               MIG M. |\n",
            "|===============================+======================+======================|\n",
            "|   0  Tesla K80           Off  | 00000000:00:04.0 Off |                    0 |\n",
            "| N/A   53C    P8    33W / 149W |      0MiB / 11441MiB |      0%      Default |\n",
            "|                               |                      |                  N/A |\n",
            "+-------------------------------+----------------------+----------------------+\n",
            "                                                                               \n",
            "+-----------------------------------------------------------------------------+\n",
            "| Processes:                                                                  |\n",
            "|  GPU   GI   CI        PID   Type   Process name                  GPU Memory |\n",
            "|        ID   ID                                                   Usage      |\n",
            "|=============================================================================|\n",
            "|  No running processes found                                                 |\n",
            "+-----------------------------------------------------------------------------+\n"
          ],
          "name": "stdout"
        }
      ]
    },
    {
      "cell_type": "code",
      "metadata": {
        "colab": {
          "base_uri": "https://localhost:8080/"
        },
        "id": "muTu3WVDmtZ3",
        "outputId": "0564078a-1de7-4c12-b6ca-35ec448acc0c"
      },
      "source": [
        "# Download folder and unzip it\n",
        "data_dir = pathlib.Path('data/mini_speech_commands')\n",
        "if not data_dir.exists():\n",
        "  tf.keras.utils.get_file(\n",
        "      'mini_speech_commands.zip',\n",
        "      origin=\"http://storage.googleapis.com/download.tensorflow.org/data/mini_speech_commands.zip\",\n",
        "      extract=True,\n",
        "      cache_dir='.', cache_subdir='data')\n"
      ],
      "execution_count": 4,
      "outputs": [
        {
          "output_type": "stream",
          "text": [
            "Downloading data from http://storage.googleapis.com/download.tensorflow.org/data/mini_speech_commands.zip\n",
            "182083584/182082353 [==============================] - 2s 0us/step\n"
          ],
          "name": "stdout"
        }
      ]
    },
    {
      "cell_type": "code",
      "metadata": {
        "colab": {
          "base_uri": "https://localhost:8080/"
        },
        "id": "fLtzkqMZoriw",
        "outputId": "34e2668f-abd0-4b86-9f4e-de3dafcb655c"
      },
      "source": [
        "# Print commands\n",
        "commands = []\n",
        "commands.append('down')\n",
        "commands.append('go')\n",
        "commands.append('left')\n",
        "commands.append('no')\n",
        "commands.append('right')\n",
        "commands.append('stop')\n",
        "commands.append('up')\n",
        "commands.append('yes')\n",
        "\n",
        "commands = np.array(commands)#np.array(tf.io.gfile.listdir(str(data_dir)))\n",
        "#commands = commands[commands != 'README.md']\n",
        "print('Commands:', commands)\n",
        "\n",
        "# Shuffle audio samples and print some info\n",
        "filenames = tf.io.gfile.glob(str(data_dir) + '/*/*')\n",
        "filenames = tf.random.shuffle(filenames)\n",
        "print(type(filenames))\n",
        "num_samples = len(filenames)\n",
        "print('Number of total examples:', num_samples)\n",
        "print('Number of examples per label:', len(tf.io.gfile.listdir(str(data_dir/commands[0]))))\n",
        "print('Example file tensor:', filenames[0])"
      ],
      "execution_count": 5,
      "outputs": [
        {
          "output_type": "stream",
          "text": [
            "Commands: ['down' 'go' 'left' 'no' 'right' 'stop' 'up' 'yes']\n",
            "<class 'tensorflow.python.framework.ops.EagerTensor'>\n",
            "Number of total examples: 8000\n",
            "Number of examples per label: 1000\n",
            "Example file tensor: tf.Tensor(b'data/mini_speech_commands/no/f21893dc_nohash_0.wav', shape=(), dtype=string)\n"
          ],
          "name": "stdout"
        }
      ]
    },
    {
      "cell_type": "code",
      "metadata": {
        "id": "xplb9y16nWbV"
      },
      "source": [
        "'''\n",
        "The audio file will initially be read as a binary file, which you'll want to convert into a numerical tensor.\n",
        "To load an audio file, you will use tf.audio.decode_wav, which returns the WAV-encoded audio as a Tensor and the sample rate.\n",
        "A WAV file contains time series data with a set number of samples per second. Each sample represents the amplitude of the audio signal at that specific time.\n",
        "In a 16-bit system, like the files in mini_speech_commands, the values range from -32768 to 32767. The sample rate for this dataset is 16kHz. \n",
        "Note that tf.audio.decode_wav will normalize the values to the range [-1.0, 1.0].\n",
        "'''\n",
        "def decode_audio(audio_binary):\n",
        "  audio, _ = tf.audio.decode_wav(audio_binary)\n",
        "  return tf.squeeze(audio, axis=-1)\n",
        "\n",
        "def get_label(file_path):\n",
        "  parts = tf.strings.split(file_path, os.path.sep)\n",
        "\n",
        "  # Note: You'll use indexing here instead of tuple unpacking to enable this \n",
        "  # to work in a TensorFlow graph.\n",
        "  return parts[-2]\n",
        "\n",
        "def get_waveform_and_label_in_integer(file_path):\n",
        "  label = get_label(file_path)\n",
        "  #print(label.numpy().decode('utf-8'))\n",
        "  label = tf.argmax(label == commands)\n",
        "  label = tf.cast(label, tf.int32)  \n",
        "  audio_binary = tf.io.read_file(file_path)\n",
        "  waveform = decode_audio(audio_binary)\n",
        "  return waveform, label\n",
        "\n",
        "# We need the waveforms to have a similar length.\n",
        "# This can be done by simply zero padding the audio clips that are shorter than one second.\n",
        "\n",
        "def zero_pad_the_waveforms(waveform):\n",
        "  # Padding for files with less than 16000 samples\n",
        "  zero_padding = tf.zeros([16000] - tf.shape(waveform), dtype=tf.float32)\n",
        "\n",
        "  # Concatenate audio with padding so that all audio clips will be of the \n",
        "  # same length\n",
        "  waveform = tf.cast(waveform, tf.float32)\n",
        "  equal_length = tf.concat([waveform, zero_padding], 0)\n",
        "\n",
        "  return equal_length"
      ],
      "execution_count": 6,
      "outputs": []
    },
    {
      "cell_type": "code",
      "metadata": {
        "id": "MHS1Q10dRHFa"
      },
      "source": [
        "train_x = []\n",
        "train_y = []\n",
        "\n",
        "for i in filenames:\n",
        "  #print(i)\n",
        "  train_x.append(zero_pad_the_waveforms(get_waveform_and_label_in_integer(i)[0]))\n",
        "  train_y.append(get_waveform_and_label_in_integer(i)[1])"
      ],
      "execution_count": 7,
      "outputs": []
    },
    {
      "cell_type": "code",
      "metadata": {
        "colab": {
          "base_uri": "https://localhost:8080/"
        },
        "id": "iYeDiCuiRGCz",
        "outputId": "50f6956e-18d3-49bb-bb71-91295229cb11"
      },
      "source": [
        "print(len(train_x))\n",
        "print(filenames[:7])\n",
        "print(train_x[:7])\n",
        "print(train_y[:7])"
      ],
      "execution_count": 8,
      "outputs": [
        {
          "output_type": "stream",
          "text": [
            "8000\n",
            "tf.Tensor(\n",
            "[b'data/mini_speech_commands/no/f21893dc_nohash_0.wav'\n",
            " b'data/mini_speech_commands/left/6c968bd9_nohash_3.wav'\n",
            " b'data/mini_speech_commands/stop/c0fb6812_nohash_0.wav'\n",
            " b'data/mini_speech_commands/yes/686d030b_nohash_2.wav'\n",
            " b'data/mini_speech_commands/yes/b52bd596_nohash_0.wav'\n",
            " b'data/mini_speech_commands/no/e57d35bc_nohash_0.wav'\n",
            " b'data/mini_speech_commands/yes/7846fd85_nohash_4.wav'], shape=(7,), dtype=string)\n",
            "[<tf.Tensor: shape=(16000,), dtype=float32, numpy=\n",
            "array([-0.0005188 , -0.00045776, -0.00088501, ...,  0.        ,\n",
            "        0.        ,  0.        ], dtype=float32)>, <tf.Tensor: shape=(16000,), dtype=float32, numpy=\n",
            "array([-9.1552734e-05,  4.8828125e-04,  4.8828125e-04, ...,\n",
            "        3.9672852e-04,  6.1035156e-04,  4.2724609e-04], dtype=float32)>, <tf.Tensor: shape=(16000,), dtype=float32, numpy=\n",
            "array([ 0.00839233,  0.00970459,  0.0118103 , ..., -0.00970459,\n",
            "       -0.0090332 , -0.00854492], dtype=float32)>, <tf.Tensor: shape=(16000,), dtype=float32, numpy=\n",
            "array([-9.1552734e-05, -2.4414062e-04, -4.2724609e-04, ...,\n",
            "       -9.1552734e-04,  3.0517578e-05,  0.0000000e+00], dtype=float32)>, <tf.Tensor: shape=(16000,), dtype=float32, numpy=\n",
            "array([ 0.00045776,  0.00015259, -0.00033569, ..., -0.00247192,\n",
            "       -0.00219727, -0.00210571], dtype=float32)>, <tf.Tensor: shape=(16000,), dtype=float32, numpy=\n",
            "array([-0.00033569, -0.00057983, -0.00061035, ...,  0.        ,\n",
            "        0.        ,  0.        ], dtype=float32)>, <tf.Tensor: shape=(16000,), dtype=float32, numpy=\n",
            "array([-0.00039673, -0.00057983, -0.00067139, ...,  0.00109863,\n",
            "        0.00109863,  0.0010376 ], dtype=float32)>]\n",
            "[<tf.Tensor: shape=(), dtype=int32, numpy=3>, <tf.Tensor: shape=(), dtype=int32, numpy=2>, <tf.Tensor: shape=(), dtype=int32, numpy=5>, <tf.Tensor: shape=(), dtype=int32, numpy=7>, <tf.Tensor: shape=(), dtype=int32, numpy=7>, <tf.Tensor: shape=(), dtype=int32, numpy=3>, <tf.Tensor: shape=(), dtype=int32, numpy=7>]\n"
          ],
          "name": "stdout"
        }
      ]
    },
    {
      "cell_type": "code",
      "metadata": {
        "id": "nomHM4a9GJ-D"
      },
      "source": [
        "train_x_slice = train_x[:6400]\n",
        "train_y_slice = train_y[:6400]\n",
        "\n",
        "val_x_slice = train_x[6400:]\n",
        "val_y_slice = train_y[6400:]"
      ],
      "execution_count": 9,
      "outputs": []
    },
    {
      "cell_type": "code",
      "metadata": {
        "id": "9jMgq56WUAQ-",
        "colab": {
          "base_uri": "https://localhost:8080/"
        },
        "outputId": "b7fdbda8-20c8-4ffc-aa83-f5ef3e008587"
      },
      "source": [
        "train_x = tf.convert_to_tensor(train_x_slice)\n",
        "train_y = tf.convert_to_tensor(train_y_slice)\n",
        "print(len(train_x))\n",
        "print(len(train_y))\n",
        "val_x =  tf.convert_to_tensor(val_x_slice)\n",
        "val_y =  tf.convert_to_tensor(val_y_slice)\n",
        "print(len(val_x))\n",
        "print(len(val_y))"
      ],
      "execution_count": 10,
      "outputs": [
        {
          "output_type": "stream",
          "text": [
            "6400\n",
            "6400\n",
            "1600\n",
            "1600\n"
          ],
          "name": "stdout"
        }
      ]
    },
    {
      "cell_type": "code",
      "metadata": {
        "colab": {
          "base_uri": "https://localhost:8080/"
        },
        "id": "WxaPgjMf04zL",
        "outputId": "2b88b433-1fa8-4743-af9f-cbaaa954439a"
      },
      "source": [
        "print(train_x[:4])\n",
        "print(train_y[:4])"
      ],
      "execution_count": 11,
      "outputs": [
        {
          "output_type": "stream",
          "text": [
            "tf.Tensor(\n",
            "[[-5.1879883e-04 -4.5776367e-04 -8.8500977e-04 ...  0.0000000e+00\n",
            "   0.0000000e+00  0.0000000e+00]\n",
            " [-9.1552734e-05  4.8828125e-04  4.8828125e-04 ...  3.9672852e-04\n",
            "   6.1035156e-04  4.2724609e-04]\n",
            " [ 8.3923340e-03  9.7045898e-03  1.1810303e-02 ... -9.7045898e-03\n",
            "  -9.0332031e-03 -8.5449219e-03]\n",
            " [-9.1552734e-05 -2.4414062e-04 -4.2724609e-04 ... -9.1552734e-04\n",
            "   3.0517578e-05  0.0000000e+00]], shape=(4, 16000), dtype=float32)\n",
            "tf.Tensor([3 2 5 7], shape=(4,), dtype=int32)\n"
          ],
          "name": "stdout"
        }
      ]
    },
    {
      "cell_type": "code",
      "metadata": {
        "colab": {
          "base_uri": "https://localhost:8080/"
        },
        "id": "ALVQ0IHQHApJ",
        "outputId": "73514437-7061-4823-c067-9918fe6ec107"
      },
      "source": [
        "print(val_x[:4])\n",
        "print(val_y[:4])"
      ],
      "execution_count": 12,
      "outputs": [
        {
          "output_type": "stream",
          "text": [
            "tf.Tensor(\n",
            "[[ 0.0000000e+00  0.0000000e+00  0.0000000e+00 ...  5.1879883e-04\n",
            "   3.6621094e-04  1.8310547e-04]\n",
            " [-3.0517578e-05 -3.0517578e-05 -3.0517578e-05 ...  0.0000000e+00\n",
            "   3.0517578e-05  6.1035156e-05]\n",
            " [-3.0517578e-05  9.1552734e-05  0.0000000e+00 ...  0.0000000e+00\n",
            "   0.0000000e+00  0.0000000e+00]\n",
            " [ 2.0751953e-03  2.8991699e-03  2.5939941e-03 ...  2.7160645e-03\n",
            "   3.5705566e-03  3.6315918e-03]], shape=(4, 16000), dtype=float32)\n",
            "tf.Tensor([5 5 3 1], shape=(4,), dtype=int32)\n"
          ],
          "name": "stdout"
        }
      ]
    },
    {
      "cell_type": "code",
      "metadata": {
        "colab": {
          "base_uri": "https://localhost:8080/"
        },
        "id": "zh1OZUrJw07a",
        "outputId": "5d30101a-d593-444d-9beb-10ed6d66cb9a"
      },
      "source": [
        "numpy_y = train_y.numpy()\n",
        "print(numpy_y)\n",
        "print(tf.convert_to_tensor(numpy_y[:4]))"
      ],
      "execution_count": 13,
      "outputs": [
        {
          "output_type": "stream",
          "text": [
            "[3 2 5 ... 6 5 3]\n",
            "tf.Tensor([3 2 5 7], shape=(4,), dtype=int32)\n"
          ],
          "name": "stdout"
        }
      ]
    },
    {
      "cell_type": "markdown",
      "metadata": {
        "id": "4O-t_navYRMz"
      },
      "source": [
        "# Yamnet"
      ]
    },
    {
      "cell_type": "code",
      "metadata": {
        "id": "YgVIlfJbYS7x"
      },
      "source": [
        "# Download the model from TFHub\n",
        "yamnet_model_handle = 'https://tfhub.dev/google/yamnet/1'\n",
        "yamnet_model = hub.load(yamnet_model_handle)"
      ],
      "execution_count": 14,
      "outputs": []
    },
    {
      "cell_type": "code",
      "metadata": {
        "colab": {
          "base_uri": "https://localhost:8080/"
        },
        "id": "uTaogiDRYTiT",
        "outputId": "f487fc13-9051-4ddf-b944-d51731988aab"
      },
      "source": [
        "# Print the classes\n",
        "class_map_path = yamnet_model.class_map_path().numpy().decode('utf-8')\n",
        "class_names =list(pd.read_csv(class_map_path)['display_name'])\n",
        "\n",
        "for name in class_names[:20]:\n",
        "  print(name)\n",
        "print('...')"
      ],
      "execution_count": 15,
      "outputs": [
        {
          "output_type": "stream",
          "text": [
            "Speech\n",
            "Child speech, kid speaking\n",
            "Conversation\n",
            "Narration, monologue\n",
            "Babbling\n",
            "Speech synthesizer\n",
            "Shout\n",
            "Bellow\n",
            "Whoop\n",
            "Yell\n",
            "Children shouting\n",
            "Screaming\n",
            "Whispering\n",
            "Laughter\n",
            "Baby laughter\n",
            "Giggle\n",
            "Snicker\n",
            "Belly laugh\n",
            "Chuckle, chortle\n",
            "Crying, sobbing\n",
            "...\n"
          ],
          "name": "stdout"
        }
      ]
    },
    {
      "cell_type": "code",
      "metadata": {
        "id": "3P29qsVHWSoh"
      },
      "source": [
        "# applies the embedding extraction model to a wav data\n",
        "def extract_embedding_data(wav_data):\n",
        "  ''' run YAMNet to extract embedding from the wav data '''\n",
        "  #print(len(wav_data))\n",
        "  scores, embeddings, spectrogram = yamnet_model(wav_data)\n",
        "  #num_embeddings = tf.shape(embeddings)[0]\n",
        "  return embeddings\n",
        "\n",
        "# applies the embedding extraction model to a wav data\n",
        "def extract_embedding_data_one_output(wav_data):\n",
        "  ''' run YAMNet to extract embedding from the wav data '''\n",
        "  scores, embeddings, spectrogram = yamnet_model(wav_data)\n",
        "  embeddings = tf.reduce_mean(embeddings, 0)\n",
        "  return embeddings\n",
        "\n",
        "# Convert train_x with yamnet\n",
        "new_array_train_x = []\n",
        "\n",
        "for i in train_x:\n",
        "  #print(len(i))\n",
        "  new_array_train_x.append(extract_embedding_data_one_output(i))\n",
        "  #new_array.append(extract_embedding_data(i))\n",
        "\n",
        "yamnet_train_x = tf.convert_to_tensor(new_array_train_x)\n",
        "\n",
        "# Convert val_x with yamnet\n",
        "new_array_val_x = []\n",
        "\n",
        "for i in val_x:\n",
        "  #print(len(i))\n",
        "  new_array_val_x.append(extract_embedding_data_one_output(i))\n",
        "  #new_array.append(extract_embedding_data(i))\n",
        "\n",
        "yamnet_val_x = tf.convert_to_tensor(new_array_val_x)"
      ],
      "execution_count": 16,
      "outputs": []
    },
    {
      "cell_type": "code",
      "metadata": {
        "colab": {
          "base_uri": "https://localhost:8080/"
        },
        "id": "eZC8Cxh3YEV0",
        "outputId": "8b579d90-879a-4167-ae19-3578685265aa"
      },
      "source": [
        "print(len(yamnet_train_x))\n",
        "print(yamnet_train_x[:1])\n",
        "print(len(yamnet_val_x))\n",
        "print(yamnet_val_x[:1])"
      ],
      "execution_count": 17,
      "outputs": [
        {
          "output_type": "stream",
          "text": [
            "6400\n",
            "tf.Tensor([[0.04714317 0.47872466 0.01293328 ... 0.         0.         0.        ]], shape=(1, 1024), dtype=float32)\n",
            "1600\n",
            "tf.Tensor([[0.12304293 0.5806775  0.08088093 ... 0.18784183 0.         0.        ]], shape=(1, 1024), dtype=float32)\n"
          ],
          "name": "stdout"
        }
      ]
    },
    {
      "cell_type": "code",
      "metadata": {
        "colab": {
          "base_uri": "https://localhost:8080/"
        },
        "id": "nMtM8rRJcKv2",
        "outputId": "f7bf85b7-cde2-43ad-8625-50321dadf763"
      },
      "source": [
        "my_model = tf.keras.Sequential([\n",
        "    tf.keras.layers.InputLayer(input_shape=(1024), dtype=tf.float32,\n",
        "                          name='input_embedding'),\n",
        "    tf.keras.layers.Dense(512, activation='relu'),\n",
        "    #tf.keras.layers.Dropout(0.5),\n",
        "    tf.keras.layers.Dense(len(commands))\n",
        "], name='my_model')\n",
        "\n",
        "my_model.summary()"
      ],
      "execution_count": 26,
      "outputs": [
        {
          "output_type": "stream",
          "text": [
            "Model: \"my_model\"\n",
            "_________________________________________________________________\n",
            "Layer (type)                 Output Shape              Param #   \n",
            "=================================================================\n",
            "dense_4 (Dense)              (None, 512)               524800    \n",
            "_________________________________________________________________\n",
            "dense_5 (Dense)              (None, 8)                 4104      \n",
            "=================================================================\n",
            "Total params: 528,904\n",
            "Trainable params: 528,904\n",
            "Non-trainable params: 0\n",
            "_________________________________________________________________\n"
          ],
          "name": "stdout"
        }
      ]
    },
    {
      "cell_type": "code",
      "metadata": {
        "id": "U2NRLuW4cobr"
      },
      "source": [
        "my_model.compile(loss=tf.keras.losses.SparseCategoricalCrossentropy(from_logits=True),\n",
        "                 optimizer=\"adam\",\n",
        "                 metrics=['accuracy'])\n",
        "\n",
        "callback = tf.keras.callbacks.EarlyStopping(monitor='loss',\n",
        "                                            patience=3,\n",
        "                                            restore_best_weights=True)"
      ],
      "execution_count": 27,
      "outputs": []
    },
    {
      "cell_type": "code",
      "metadata": {
        "colab": {
          "base_uri": "https://localhost:8080/"
        },
        "id": "h6xPZ0iTctvK",
        "outputId": "028dd898-564b-49c9-c93c-617574ae3c37"
      },
      "source": [
        "history = my_model.fit(yamnet_train_x,train_y,\n",
        "                       validation_data=(yamnet_val_x, val_y),\n",
        "                       epochs=40,\n",
        "                       callbacks=callback,\n",
        "                       batch_size=32,\n",
        "                       verbose=1)"
      ],
      "execution_count": 28,
      "outputs": [
        {
          "output_type": "stream",
          "text": [
            "Epoch 1/40\n",
            "200/200 [==============================] - 1s 4ms/step - loss: 1.7980 - accuracy: 0.3462 - val_loss: 1.6385 - val_accuracy: 0.3956\n",
            "Epoch 2/40\n",
            "200/200 [==============================] - 1s 3ms/step - loss: 1.5097 - accuracy: 0.4523 - val_loss: 1.5246 - val_accuracy: 0.4444\n",
            "Epoch 3/40\n",
            "200/200 [==============================] - 1s 3ms/step - loss: 1.4021 - accuracy: 0.4931 - val_loss: 1.4499 - val_accuracy: 0.4706\n",
            "Epoch 4/40\n",
            "200/200 [==============================] - 1s 3ms/step - loss: 1.3077 - accuracy: 0.5242 - val_loss: 1.4319 - val_accuracy: 0.4650\n",
            "Epoch 5/40\n",
            "200/200 [==============================] - 1s 3ms/step - loss: 1.2343 - accuracy: 0.5552 - val_loss: 1.4131 - val_accuracy: 0.4812\n",
            "Epoch 6/40\n",
            "200/200 [==============================] - 1s 3ms/step - loss: 1.1803 - accuracy: 0.5755 - val_loss: 1.4348 - val_accuracy: 0.4688\n",
            "Epoch 7/40\n",
            "200/200 [==============================] - 1s 3ms/step - loss: 1.1234 - accuracy: 0.6055 - val_loss: 1.3725 - val_accuracy: 0.5050\n",
            "Epoch 8/40\n",
            "200/200 [==============================] - 1s 3ms/step - loss: 1.0657 - accuracy: 0.6206 - val_loss: 1.4176 - val_accuracy: 0.4825\n",
            "Epoch 9/40\n",
            "200/200 [==============================] - 1s 3ms/step - loss: 1.0255 - accuracy: 0.6316 - val_loss: 1.4035 - val_accuracy: 0.5031\n",
            "Epoch 10/40\n",
            "200/200 [==============================] - 1s 3ms/step - loss: 0.9732 - accuracy: 0.6603 - val_loss: 1.3606 - val_accuracy: 0.5069\n",
            "Epoch 11/40\n",
            "200/200 [==============================] - 1s 3ms/step - loss: 0.9272 - accuracy: 0.6684 - val_loss: 1.3713 - val_accuracy: 0.5038\n",
            "Epoch 12/40\n",
            "200/200 [==============================] - 1s 3ms/step - loss: 0.8898 - accuracy: 0.6844 - val_loss: 1.3772 - val_accuracy: 0.5100\n",
            "Epoch 13/40\n",
            "200/200 [==============================] - 1s 3ms/step - loss: 0.8285 - accuracy: 0.7117 - val_loss: 1.3727 - val_accuracy: 0.5219\n",
            "Epoch 14/40\n",
            "200/200 [==============================] - 1s 3ms/step - loss: 0.7899 - accuracy: 0.7245 - val_loss: 1.3743 - val_accuracy: 0.5219\n",
            "Epoch 15/40\n",
            "200/200 [==============================] - 1s 3ms/step - loss: 0.7402 - accuracy: 0.7505 - val_loss: 1.4148 - val_accuracy: 0.5106\n",
            "Epoch 16/40\n",
            "200/200 [==============================] - 1s 3ms/step - loss: 0.7102 - accuracy: 0.7620 - val_loss: 1.4253 - val_accuracy: 0.5156\n",
            "Epoch 17/40\n",
            "200/200 [==============================] - 1s 3ms/step - loss: 0.6556 - accuracy: 0.7900 - val_loss: 1.4205 - val_accuracy: 0.5256\n",
            "Epoch 18/40\n",
            "200/200 [==============================] - 1s 3ms/step - loss: 0.6366 - accuracy: 0.7908 - val_loss: 1.4350 - val_accuracy: 0.5288\n",
            "Epoch 19/40\n",
            "200/200 [==============================] - 1s 3ms/step - loss: 0.5856 - accuracy: 0.8130 - val_loss: 1.4451 - val_accuracy: 0.5425\n",
            "Epoch 20/40\n",
            "200/200 [==============================] - 1s 3ms/step - loss: 0.5473 - accuracy: 0.8313 - val_loss: 1.4571 - val_accuracy: 0.5387\n",
            "Epoch 21/40\n",
            "200/200 [==============================] - 1s 3ms/step - loss: 0.5145 - accuracy: 0.8403 - val_loss: 1.5414 - val_accuracy: 0.5163\n",
            "Epoch 22/40\n",
            "200/200 [==============================] - 1s 3ms/step - loss: 0.4810 - accuracy: 0.8555 - val_loss: 1.5399 - val_accuracy: 0.5131\n",
            "Epoch 23/40\n",
            "200/200 [==============================] - 1s 3ms/step - loss: 0.4474 - accuracy: 0.8689 - val_loss: 1.5280 - val_accuracy: 0.5406\n",
            "Epoch 24/40\n",
            "200/200 [==============================] - 1s 3ms/step - loss: 0.4290 - accuracy: 0.8763 - val_loss: 1.5543 - val_accuracy: 0.5206\n",
            "Epoch 25/40\n",
            "200/200 [==============================] - 1s 3ms/step - loss: 0.3810 - accuracy: 0.8948 - val_loss: 1.5729 - val_accuracy: 0.5362\n",
            "Epoch 26/40\n",
            "200/200 [==============================] - 1s 3ms/step - loss: 0.3646 - accuracy: 0.8958 - val_loss: 1.5897 - val_accuracy: 0.5350\n",
            "Epoch 27/40\n",
            "200/200 [==============================] - 1s 3ms/step - loss: 0.3309 - accuracy: 0.9111 - val_loss: 1.6158 - val_accuracy: 0.5350\n",
            "Epoch 28/40\n",
            "200/200 [==============================] - 1s 3ms/step - loss: 0.3201 - accuracy: 0.9102 - val_loss: 1.6518 - val_accuracy: 0.5387\n",
            "Epoch 29/40\n",
            "200/200 [==============================] - 1s 3ms/step - loss: 0.3122 - accuracy: 0.9142 - val_loss: 1.6930 - val_accuracy: 0.5238\n",
            "Epoch 30/40\n",
            "200/200 [==============================] - 1s 3ms/step - loss: 0.2794 - accuracy: 0.9269 - val_loss: 1.7217 - val_accuracy: 0.5344\n",
            "Epoch 31/40\n",
            "200/200 [==============================] - 1s 3ms/step - loss: 0.2484 - accuracy: 0.9391 - val_loss: 1.7379 - val_accuracy: 0.5394\n",
            "Epoch 32/40\n",
            "200/200 [==============================] - 1s 3ms/step - loss: 0.2392 - accuracy: 0.9356 - val_loss: 1.7855 - val_accuracy: 0.5225\n",
            "Epoch 33/40\n",
            "200/200 [==============================] - 1s 4ms/step - loss: 0.2229 - accuracy: 0.9456 - val_loss: 1.8129 - val_accuracy: 0.5300\n",
            "Epoch 34/40\n",
            "200/200 [==============================] - 1s 3ms/step - loss: 0.2048 - accuracy: 0.9506 - val_loss: 1.7837 - val_accuracy: 0.5306\n",
            "Epoch 35/40\n",
            "200/200 [==============================] - 1s 3ms/step - loss: 0.1892 - accuracy: 0.9541 - val_loss: 1.8415 - val_accuracy: 0.5425\n",
            "Epoch 36/40\n",
            "200/200 [==============================] - 1s 3ms/step - loss: 0.1798 - accuracy: 0.9569 - val_loss: 1.9307 - val_accuracy: 0.5281\n",
            "Epoch 37/40\n",
            "200/200 [==============================] - 1s 3ms/step - loss: 0.1707 - accuracy: 0.9591 - val_loss: 1.9152 - val_accuracy: 0.5394\n",
            "Epoch 38/40\n",
            "200/200 [==============================] - 1s 3ms/step - loss: 0.1557 - accuracy: 0.9633 - val_loss: 1.9718 - val_accuracy: 0.5294\n",
            "Epoch 39/40\n",
            "200/200 [==============================] - 1s 3ms/step - loss: 0.1589 - accuracy: 0.9595 - val_loss: 1.9291 - val_accuracy: 0.5437\n",
            "Epoch 40/40\n",
            "200/200 [==============================] - 1s 4ms/step - loss: 0.1417 - accuracy: 0.9667 - val_loss: 1.9713 - val_accuracy: 0.5431\n"
          ],
          "name": "stdout"
        }
      ]
    },
    {
      "cell_type": "code",
      "metadata": {
        "colab": {
          "base_uri": "https://localhost:8080/",
          "height": 265
        },
        "id": "hVc_95bRgKvQ",
        "outputId": "8d21b02c-fb1d-4ed7-e5df-d6b7fac2084a"
      },
      "source": [
        "metrics = history.history\n",
        "plt.plot(history.epoch, metrics['loss'], metrics['val_loss'])\n",
        "plt.legend(['loss', 'val_loss'])\n",
        "plt.show()"
      ],
      "execution_count": 29,
      "outputs": [
        {
          "output_type": "display_data",
          "data": {
            "image/png": "[encoded data removed]",
            "text/plain": [
              "<Figure size 432x288 with 1 Axes>"
            ]
          },
          "metadata": {
            "tags": [],
            "needs_background": "light"
          }
        }
      ]
    },
    {
      "cell_type": "code",
      "metadata": {
        "id": "depXdEVwMcWY"
      },
      "source": [
        "test_file = '/content/data/mini_speech_commands/up/0132a06d_nohash_2.wav'"
      ],
      "execution_count": 56,
      "outputs": []
    },
    {
      "cell_type": "code",
      "metadata": {
        "colab": {
          "base_uri": "https://localhost:8080/"
        },
        "id": "DJ6LBJPdcx_q",
        "outputId": "30c858cf-1e51-4b37-8e3c-3654b1261b62"
      },
      "source": [
        "scores, embeddings, spectrogram = yamnet_model(zero_pad_the_waveforms(get_waveform_and_label_in_integer(test_file)[0]))\n",
        "print(embeddings)\n",
        "embeddings = tf.reduce_mean(embeddings, 0)\n",
        "print(embeddings)\n",
        "embeddings = tf.expand_dims(embeddings, axis=0)\n",
        "print(embeddings)\n",
        "result = my_model(embeddings).numpy()\n",
        "print(result)\n",
        "\n",
        "infered_class = commands[result.mean(axis=0).argmax()]\n",
        "print(f'The main sound is: {infered_class}')"
      ],
      "execution_count": 57,
      "outputs": [
        {
          "output_type": "stream",
          "text": [
            "tf.Tensor(\n",
            "[[0.04754287 0.6198254  0.03474386 ... 0.13260438 0.         0.        ]\n",
            " [0.03788651 0.01155521 0.10337154 ... 0.05102701 0.         0.        ]], shape=(2, 1024), dtype=float32)\n",
            "tf.Tensor([0.04271469 0.3156903  0.0690577  ... 0.0918157  0.         0.        ], shape=(1024,), dtype=float32)\n",
            "tf.Tensor([[0.04271469 0.3156903  0.0690577  ... 0.0918157  0.         0.        ]], shape=(1, 1024), dtype=float32)\n",
            "[[-0.01082883 -2.3597882  -7.2939777   1.4820466  -9.527211   -2.7063355\n",
            "   6.1548495  -7.9457417 ]]\n",
            "The main sound is: up\n"
          ],
          "name": "stdout"
        }
      ]
    },
    {
      "cell_type": "code",
      "metadata": {
        "id": "LmTApLvd2T71"
      },
      "source": [
        "# Include reduce mean and expansion inside model\n",
        "class ReduceMeanLayer(tf.keras.layers.Layer):\n",
        "  def __init__(self, axis=0, **kwargs):\n",
        "    super(ReduceMeanLayer, self).__init__(**kwargs)\n",
        "    self.axis = axis\n",
        "\n",
        "  def call(self, input):\n",
        "    input = tf.math.reduce_mean(input, axis=self.axis)\n",
        "    input = tf.expand_dims(input, axis=self.axis)\n",
        "    return input"
      ],
      "execution_count": 33,
      "outputs": []
    },
    {
      "cell_type": "code",
      "metadata": {
        "colab": {
          "base_uri": "https://localhost:8080/"
        },
        "id": "tNB7Kvw9NE75",
        "outputId": "fcfad816-320d-4a57-f7ab-1d7ba6bf27a1"
      },
      "source": [
        "saved_model_path = './speech_commands_yamnet'\n",
        "\n",
        "input_segment = tf.keras.layers.Input(shape=(), dtype=tf.float32, name='audio')\n",
        "embedding_extraction_layer = hub.KerasLayer(yamnet_model_handle,\n",
        "                                            trainable=False, name='yamnet')\n",
        "_, embeddings_output, _ = embedding_extraction_layer(input_segment)\n",
        "serving_outputs = ReduceMeanLayer(axis=0, name='classifier')(embeddings_output)\n",
        "serving_outputs = my_model(serving_outputs)\n",
        "serving_model = tf.keras.Model(input_segment, serving_outputs)\n",
        "serving_model.save(saved_model_path, include_optimizer=False)"
      ],
      "execution_count": 34,
      "outputs": [
        {
          "output_type": "stream",
          "text": [
            "WARNING:tensorflow:Compiled the loaded model, but the compiled metrics have yet to be built. `model.compile_metrics` will be empty until you train or evaluate the model.\n"
          ],
          "name": "stdout"
        },
        {
          "output_type": "stream",
          "text": [
            "WARNING:tensorflow:Compiled the loaded model, but the compiled metrics have yet to be built. `model.compile_metrics` will be empty until you train or evaluate the model.\n"
          ],
          "name": "stderr"
        },
        {
          "output_type": "stream",
          "text": [
            "INFO:tensorflow:Assets written to: ./speech_commands_yamnet/assets\n"
          ],
          "name": "stdout"
        },
        {
          "output_type": "stream",
          "text": [
            "INFO:tensorflow:Assets written to: ./speech_commands_yamnet/assets\n"
          ],
          "name": "stderr"
        }
      ]
    },
    {
      "cell_type": "code",
      "metadata": {
        "colab": {
          "base_uri": "https://localhost:8080/",
          "height": 369
        },
        "id": "LSLgmHqxNxcO",
        "outputId": "89fdc3f2-55f0-4b71-c2e6-33fc63b1b32f"
      },
      "source": [
        "tf.keras.utils.plot_model(serving_model)"
      ],
      "execution_count": 35,
      "outputs": [
        {
          "output_type": "execute_result",
          "data": {
            "image/png": "[encoded data removed]",
            "text/plain": [
              "<IPython.core.display.Image object>"
            ]
          },
          "metadata": {
            "tags": []
          },
          "execution_count": 35
        }
      ]
    },
    {
      "cell_type": "code",
      "metadata": {
        "id": "DFQbDRbDNx3v"
      },
      "source": [
        "reloaded_model = tf.saved_model.load(saved_model_path)"
      ],
      "execution_count": 36,
      "outputs": []
    },
    {
      "cell_type": "code",
      "metadata": {
        "colab": {
          "base_uri": "https://localhost:8080/"
        },
        "id": "iGKnZEKwN6Ru",
        "outputId": "729e3c86-c9b7-48cc-f4f4-4b9172c4a36e"
      },
      "source": [
        "print(zero_pad_the_waveforms(get_waveform_and_label_in_integer(test_file)[0]).shape)\n",
        "reloaded_results = reloaded_model(zero_pad_the_waveforms(get_waveform_and_label_in_integer(test_file)[0]))\n",
        "print(tf.squeeze(reloaded_results).numpy())\n",
        "result = commands[tf.argmax(tf.squeeze(reloaded_results))]\n",
        "result = commands[tf.argmax(reloaded_results[0])]\n",
        "print(f'The main sound is: {result}')"
      ],
      "execution_count": 59,
      "outputs": [
        {
          "output_type": "stream",
          "text": [
            "(16000,)\n",
            "[-0.01082883 -2.3597882  -7.2939777   1.4820466  -9.527211   -2.7063355\n",
            "  6.1548495  -7.9457417 ]\n",
            "The main sound is: up\n"
          ],
          "name": "stdout"
        }
      ]
    },
    {
      "cell_type": "code",
      "metadata": {
        "id": "45_HmiTUUYdY"
      },
      "source": [
        "# Use with TF 2.4.1\n",
        "'''\n",
        "MODEL_PATH  = \"./speech_commands_yamnet\"\n",
        "MODEL_SAVE_PATH = \"/content/yamnet_speech_commands.tflite\"\n",
        "# Convert the model\n",
        "converter = tf.lite.TFLiteConverter.from_saved_model(MODEL_PATH) # path to the SavedModel directory\n",
        "converter.optimizations = [tf.lite.Optimize.DEFAULT]\n",
        "#converter.experimental_new_converter = True\n",
        "converter.target_spec.supported_ops = [tf.lite.OpsSet.TFLITE_BUILTINS, tf.lite.OpsSet.SELECT_TF_OPS]\n",
        "tflite_model = converter.convert()\n",
        "\n",
        "# Save the model.\n",
        "with open('yamnet_speech_commands.tflite', 'wb') as f:\n",
        "  f.write(tflite_model)\n",
        "'''"
      ],
      "execution_count": null,
      "outputs": []
    },
    {
      "cell_type": "code",
      "metadata": {
        "id": "e5QbEH6CPfqF"
      },
      "source": [
        "# Use with TF 2.5.0 no quantization\n",
        "MODEL_PATH  = \"./speech_commands_yamnet\"\n",
        "MODEL_SAVE_PATH = \"/content/yamnet_speech_commands.tflite\"\n",
        "converter = tf.lite.TFLiteConverter.from_saved_model(MODEL_PATH) #,signature_keys=['serving_default'])\n",
        "#converter.optimizations = [tf.lite.Optimize.DEFAULT]\n",
        "#converter.experimental_new_converter = True\n",
        "#converter.target_spec.supported_ops = [tf.lite.OpsSet.TFLITE_BUILTINS, tf.lite.OpsSet.SELECT_TF_OPS]\n",
        "\n",
        "tflite_model = converter.convert()\n",
        "with tf.io.gfile.GFile(MODEL_SAVE_PATH, 'wb') as f:\n",
        "  f.write(tflite_model)"
      ],
      "execution_count": 51,
      "outputs": []
    },
    {
      "cell_type": "code",
      "metadata": {
        "id": "J-279qamMDLA"
      },
      "source": [
        "# Use with TF 2.5.0 Dynamic range quantization\n",
        "MODEL_PATH  = \"./speech_commands_yamnet\"\n",
        "MODEL_SAVE_PATH_DRQ = \"/content/yamnet_speech_commandsDRQ.tflite\"\n",
        "converter = tf.lite.TFLiteConverter.from_saved_model(MODEL_PATH) #,signature_keys=['serving_default'])\n",
        "converter.optimizations = [tf.lite.Optimize.DEFAULT]\n",
        "#converter.experimental_new_converter = True\n",
        "#converter.target_spec.supported_ops = [tf.lite.OpsSet.TFLITE_BUILTINS, tf.lite.OpsSet.SELECT_TF_OPS]\n",
        "\n",
        "tflite_model = converter.convert()\n",
        "with tf.io.gfile.GFile(MODEL_SAVE_PATH_DRQ, 'wb') as f:\n",
        "  f.write(tflite_model)"
      ],
      "execution_count": 55,
      "outputs": []
    },
    {
      "cell_type": "code",
      "metadata": {
        "colab": {
          "base_uri": "https://localhost:8080/"
        },
        "id": "qjP6RvtKRec9",
        "outputId": "0ef6c880-7ca8-4d7d-92da-f1cd5b2cd7be"
      },
      "source": [
        "input_wav = zero_pad_the_waveforms(get_waveform_and_label_in_integer(test_file)[0])\n",
        "input_shape_size = input_wav.shape[0]\n",
        "print(input_shape_size)\n",
        "interpreter = tf.lite.Interpreter(model_path=MODEL_SAVE_PATH)# or MODEL_SAVE_PATH_DRQ\n",
        "\n",
        "# Get input and output tensors.\n",
        "input_details = interpreter.get_input_details()\n",
        "output_details = interpreter.get_output_details()\n",
        "\n",
        "# Test the model on random input data.\n",
        "input_shape = input_details[0]['shape']\n",
        "\n",
        "input_data = np.array(input_wav, dtype=np.float32)\n",
        "interpreter.resize_tensor_input(input_details[0]['index'], [input_shape_size], strict=True)\n",
        "\n",
        "interpreter.allocate_tensors()\n",
        "interpreter.set_tensor(input_details[0]['index'], input_data)\n",
        "\n",
        "interpreter.invoke()\n",
        "\n",
        "# The function `get_tensor()` returns a copy of the tensor data.\n",
        "# Use `tensor()` in order to get a pointer to the tensor.\n",
        "output_data = interpreter.get_tensor(output_details[0]['index'])\n",
        "print(output_data[0])\n",
        "result = commands[tf.argmax(output_data[0])]\n",
        "print(f'The main sound is: {result}')"
      ],
      "execution_count": 61,
      "outputs": [
        {
          "output_type": "stream",
          "text": [
            "16000\n",
            "[-0.01086373 -2.3598046  -7.2939606   1.4820508  -9.527242   -2.7063391\n",
            "  6.1549025  -7.945741  ]\n",
            "The main sound is: up\n"
          ],
          "name": "stdout"
        }
      ]
    },
    {
      "cell_type": "markdown",
      "metadata": {
        "id": "ipMxsZnyQbV3"
      },
      "source": [
        "# Test recorded audio"
      ]
    },
    {
      "cell_type": "code",
      "metadata": {
        "id": "8npzXxM-YnK_"
      },
      "source": [
        "@tf.function\n",
        "def load_wav_16k_mono(filename):\n",
        "    \"\"\" read in a waveform file and convert to 16 kHz mono \"\"\"\n",
        "    file_contents = tf.io.read_file(filename)\n",
        "    wav, sample_rate = tf.audio.decode_wav(\n",
        "          file_contents,\n",
        "          desired_channels=1)\n",
        "    print(sample_rate)\n",
        "    wav = tf.squeeze(wav, axis=-1)\n",
        "    sample_rate = tf.cast(sample_rate, dtype=tf.int64)\n",
        "    wav = tfio.audio.resample(wav, rate_in=sample_rate, rate_out=16000)\n",
        "    return wav"
      ],
      "execution_count": 62,
      "outputs": []
    },
    {
      "cell_type": "code",
      "metadata": {
        "colab": {
          "base_uri": "https://localhost:8080/"
        },
        "id": "0UE1Dma3ZQrI",
        "outputId": "140f47c3-a43b-4119-fd0b-3a2cfe9f834b"
      },
      "source": [
        "input = load_wav_16k_mono('1_stop.wav')"
      ],
      "execution_count": 102,
      "outputs": [
        {
          "output_type": "stream",
          "text": [
            "Tensor(\"DecodeWav:1\", shape=(), dtype=int32)\n",
            "WARNING:tensorflow:Using a while_loop for converting IO>AudioResample\n"
          ],
          "name": "stdout"
        },
        {
          "output_type": "stream",
          "text": [
            "WARNING:tensorflow:Using a while_loop for converting IO>AudioResample\n"
          ],
          "name": "stderr"
        }
      ]
    },
    {
      "cell_type": "code",
      "metadata": {
        "colab": {
          "base_uri": "https://localhost:8080/"
        },
        "id": "nbZtgjfQZYSY",
        "outputId": "0e4e98fe-262a-443a-c88f-f7723c45b2e0"
      },
      "source": [
        "print(type(input))\n",
        "print(input)"
      ],
      "execution_count": 103,
      "outputs": [
        {
          "output_type": "stream",
          "text": [
            "<class 'tensorflow.python.framework.ops.EagerTensor'>\n",
            "tf.Tensor(\n",
            "[ 2.3574648e-10  4.6828856e-09 -1.0553113e-08 ...  1.6840542e-04\n",
            " -4.8538035e-04 -1.5254898e-03], shape=(16000,), dtype=float32)\n"
          ],
          "name": "stdout"
        }
      ]
    },
    {
      "cell_type": "code",
      "metadata": {
        "colab": {
          "base_uri": "https://localhost:8080/",
          "height": 75
        },
        "id": "BOIz7In8ZtGg",
        "outputId": "ee86b697-faf6-4ffe-8117-b444205fb534"
      },
      "source": [
        "display.Audio(input, rate=16000)"
      ],
      "execution_count": 104,
      "outputs": [
        {
          "output_type": "execute_result",
          "data": {
            "text/html": [
              "\n",
              "                <audio controls=\"controls\" >\n",
              "                    <source src=\"data:audio/wav;base64,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\" type=\"audio/wav\" />\n",
              "                    Your browser does not support the audio element.\n",
              "                </audio>\n",
              "              "
            ],
            "text/plain": [
              "<IPython.lib.display.Audio object>"
            ]
          },
          "metadata": {
            "tags": []
          },
          "execution_count": 104
        }
      ]
    },
    {
      "cell_type": "code",
      "metadata": {
        "colab": {
          "base_uri": "https://localhost:8080/"
        },
        "id": "wA_EXn7kaN_L",
        "outputId": "e8fba92b-8426-482a-e95a-8ca9a659bf72"
      },
      "source": [
        "test_result = reloaded_model(input)\n",
        "print(test_result)\n",
        "print(tf.squeeze(test_result).numpy())\n",
        "result = commands[tf.argmax(tf.squeeze(test_result))]\n",
        "# or\n",
        "result = commands[tf.argmax(test_result[0])]\n",
        "print(f'The main sound is: {result}')"
      ],
      "execution_count": 105,
      "outputs": [
        {
          "output_type": "stream",
          "text": [
            "tf.Tensor(\n",
            "[[ -9.990899    -1.3242655   -0.9725663   -3.569739    -5.1617403\n",
            "    0.49292654  -6.5193267  -13.145922  ]], shape=(1, 8), dtype=float32)\n",
            "[ -9.990899    -1.3242655   -0.9725663   -3.569739    -5.1617403\n",
            "   0.49292654  -6.5193267  -13.145922  ]\n",
            "The main sound is: stop\n"
          ],
          "name": "stdout"
        }
      ]
    },
    {
      "cell_type": "code",
      "metadata": {
        "id": "MLqSSYULam4d",
        "colab": {
          "base_uri": "https://localhost:8080/"
        },
        "outputId": "4c1cb8b6-a0dd-4886-d4f0-38055d500675"
      },
      "source": [
        "input_wav = input\n",
        "input_shape_size = input_wav.shape[0]\n",
        "print(input_shape_size)\n",
        "interpreter = tf.lite.Interpreter(model_path=MODEL_SAVE_PATH)# or MODEL_SAVE_PATH_DRQ\n",
        "\n",
        "# Get input and output tensors.\n",
        "input_details = interpreter.get_input_details()\n",
        "output_details = interpreter.get_output_details()\n",
        "\n",
        "# Test the model on random input data.\n",
        "input_shape = input_details[0]['shape']\n",
        "\n",
        "input_data = np.array(input_wav, dtype=np.float32)\n",
        "interpreter.resize_tensor_input(input_details[0]['index'], [input_shape_size], strict=True)\n",
        "\n",
        "interpreter.allocate_tensors()\n",
        "interpreter.set_tensor(input_details[0]['index'], input_data)\n",
        "\n",
        "interpreter.invoke()\n",
        "\n",
        "# The function `get_tensor()` returns a copy of the tensor data.\n",
        "# Use `tensor()` in order to get a pointer to the tensor.\n",
        "output_data = interpreter.get_tensor(output_details[0]['index'])\n",
        "print(output_data[0])\n",
        "result = commands[tf.argmax(output_data[0])]\n",
        "print(f'The main sound is: {result}')"
      ],
      "execution_count": 108,
      "outputs": [
        {
          "output_type": "stream",
          "text": [
            "16000\n",
            "[ -9.990904    -1.324305    -0.97253877  -3.5697417   -5.1616774\n",
            "   0.49290586  -6.5193424  -13.145875  ]\n",
            "The main sound is: stop\n"
          ],
          "name": "stdout"
        }
      ]
    },
    {
      "cell_type": "code",
      "metadata": {
        "id": "uTRcaPNQQ0SV"
      },
      "source": [
        ""
      ],
      "execution_count": null,
      "outputs": []
    }
  ]
}