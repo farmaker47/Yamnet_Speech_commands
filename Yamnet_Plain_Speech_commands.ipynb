{
  "nbformat": 4,
  "nbformat_minor": 0,
  "metadata": {
    "colab": {
      "name": "Yamnet_Plain_Speech_commands.ipynb",
      "provenance": [],
      "collapsed_sections": []
    },
    "kernelspec": {
      "name": "python3",
      "display_name": "Python 3"
    },
    "language_info": {
      "name": "python"
    },
    "accelerator": "GPU"
  },
  "cells": [
    {
      "cell_type": "code",
      "metadata": {
        "id": "X3Wv0E91VkvB"
      },
      "source": [
        "#!pip install tensorflow==2.4.1"
      ],
      "execution_count": null,
      "outputs": []
    },
    {
      "cell_type": "code",
      "metadata": {
        "id": "V4nBdvnZmbsL",
        "colab": {
          "base_uri": "https://localhost:8080/"
        },
        "outputId": "3b7f5aa6-0bac-40fa-a94d-aec6fd7289fe"
      },
      "source": [
        "!pip install -q tensorflow_io\n",
        "import tensorflow_io as tfio\n",
        "\n",
        "import os\n",
        "import pathlib\n",
        "\n",
        "import matplotlib.pyplot as plt\n",
        "import numpy as np\n",
        "import pandas as pd\n",
        "import tensorflow as tf\n",
        "from tensorflow import keras as keras\n",
        "import tensorflow_hub as hub\n",
        "\n",
        "from tensorflow.keras.layers.experimental import preprocessing\n",
        "from tensorflow.keras import layers\n",
        "from tensorflow.keras import models\n",
        "from IPython import display\n",
        "\n",
        "from sklearn.metrics import confusion_matrix\n",
        "import seaborn as sns\n"
      ],
      "execution_count": 1,
      "outputs": [
        {
          "output_type": "stream",
          "text": [
            "\u001b[K     |████████████████████████████████| 24.1MB 111kB/s \n",
            "\u001b[K     |████████████████████████████████| 2.5MB 37.5MB/s \n",
            "\u001b[?25h"
          ],
          "name": "stdout"
        }
      ]
    },
    {
      "cell_type": "code",
      "metadata": {
        "colab": {
          "base_uri": "https://localhost:8080/"
        },
        "id": "hp27RunVmqAT",
        "outputId": "20fbccca-60b4-41e3-dc03-26da6440d8c2"
      },
      "source": [
        "print(tf.__version__)\n",
        "print(keras.__version__)"
      ],
      "execution_count": 2,
      "outputs": [
        {
          "output_type": "stream",
          "text": [
            "2.5.0\n",
            "2.5.0\n"
          ],
          "name": "stdout"
        }
      ]
    },
    {
      "cell_type": "code",
      "metadata": {
        "colab": {
          "base_uri": "https://localhost:8080/"
        },
        "id": "GKj9Pst_h_jY",
        "outputId": "7b3738b6-d0b5-423b-bcec-86e088219d64"
      },
      "source": [
        "!nvidia-smi"
      ],
      "execution_count": 3,
      "outputs": [
        {
          "output_type": "stream",
          "text": [
            "Fri Jun 18 05:43:07 2021       \n",
            "+-----------------------------------------------------------------------------+\n",
            "| NVIDIA-SMI 465.27       Driver Version: 460.32.03    CUDA Version: 11.2     |\n",
            "|-------------------------------+----------------------+----------------------+\n",
            "| GPU  Name        Persistence-M| Bus-Id        Disp.A | Volatile Uncorr. ECC |\n",
            "| Fan  Temp  Perf  Pwr:Usage/Cap|         Memory-Usage | GPU-Util  Compute M. |\n",
            "|                               |                      |               MIG M. |\n",
            "|===============================+======================+======================|\n",
            "|   0  Tesla T4            Off  | 00000000:00:04.0 Off |                    0 |\n",
            "| N/A   53C    P8    10W /  70W |      0MiB / 15109MiB |      0%      Default |\n",
            "|                               |                      |                  N/A |\n",
            "+-------------------------------+----------------------+----------------------+\n",
            "                                                                               \n",
            "+-----------------------------------------------------------------------------+\n",
            "| Processes:                                                                  |\n",
            "|  GPU   GI   CI        PID   Type   Process name                  GPU Memory |\n",
            "|        ID   ID                                                   Usage      |\n",
            "|=============================================================================|\n",
            "|  No running processes found                                                 |\n",
            "+-----------------------------------------------------------------------------+\n"
          ],
          "name": "stdout"
        }
      ]
    },
    {
      "cell_type": "code",
      "metadata": {
        "colab": {
          "base_uri": "https://localhost:8080/"
        },
        "id": "muTu3WVDmtZ3",
        "outputId": "13b4e77e-c356-4dd0-fb71-352a6c9f346d"
      },
      "source": [
        "# Download folder and unzip it\n",
        "data_dir = pathlib.Path('data/mini_speech_commands')\n",
        "if not data_dir.exists():\n",
        "  tf.keras.utils.get_file(\n",
        "      'mini_speech_commands.zip',\n",
        "      origin=\"http://storage.googleapis.com/download.tensorflow.org/data/mini_speech_commands.zip\",\n",
        "      extract=True,\n",
        "      cache_dir='.', cache_subdir='data')\n"
      ],
      "execution_count": 4,
      "outputs": [
        {
          "output_type": "stream",
          "text": [
            "Downloading data from http://storage.googleapis.com/download.tensorflow.org/data/mini_speech_commands.zip\n",
            "182083584/182082353 [==============================] - 1s 0us/step\n"
          ],
          "name": "stdout"
        }
      ]
    },
    {
      "cell_type": "code",
      "metadata": {
        "colab": {
          "base_uri": "https://localhost:8080/"
        },
        "id": "fLtzkqMZoriw",
        "outputId": "ace7d80e-321b-4bf8-8de2-e2d1bb9cc44b"
      },
      "source": [
        "# Print commands\n",
        "commands = []\n",
        "commands.append('down')\n",
        "commands.append('go')\n",
        "commands.append('left')\n",
        "commands.append('no')\n",
        "commands.append('right')\n",
        "commands.append('stop')\n",
        "commands.append('up')\n",
        "commands.append('yes')\n",
        "\n",
        "commands = np.array(commands)#np.array(tf.io.gfile.listdir(str(data_dir)))\n",
        "#commands = commands[commands != 'README.md']\n",
        "print('Commands:', commands)\n",
        "\n",
        "# Shuffle audio samples and print some info\n",
        "filenames = tf.io.gfile.glob(str(data_dir) + '/*/*')\n",
        "filenames = tf.random.shuffle(filenames)\n",
        "print(type(filenames))\n",
        "num_samples = len(filenames)\n",
        "print('Number of total examples:', num_samples)\n",
        "print('Number of examples per label:', len(tf.io.gfile.listdir(str(data_dir/commands[0]))))\n",
        "print('Example file tensor:', filenames[0])"
      ],
      "execution_count": 5,
      "outputs": [
        {
          "output_type": "stream",
          "text": [
            "Commands: ['down' 'go' 'left' 'no' 'right' 'stop' 'up' 'yes']\n",
            "<class 'tensorflow.python.framework.ops.EagerTensor'>\n",
            "Number of total examples: 8000\n",
            "Number of examples per label: 1000\n",
            "Example file tensor: tf.Tensor(b'data/mini_speech_commands/stop/28e47b1a_nohash_2.wav', shape=(), dtype=string)\n"
          ],
          "name": "stdout"
        }
      ]
    },
    {
      "cell_type": "code",
      "metadata": {
        "id": "xplb9y16nWbV"
      },
      "source": [
        "'''\n",
        "The audio file will initially be read as a binary file, which you'll want to convert into a numerical tensor.\n",
        "To load an audio file, you will use tf.audio.decode_wav, which returns the WAV-encoded audio as a Tensor and the sample rate.\n",
        "A WAV file contains time series data with a set number of samples per second. Each sample represents the amplitude of the audio signal at that specific time.\n",
        "In a 16-bit system, like the files in mini_speech_commands, the values range from -32768 to 32767. The sample rate for this dataset is 16kHz. \n",
        "Note that tf.audio.decode_wav will normalize the values to the range [-1.0, 1.0].\n",
        "'''\n",
        "def decode_audio(audio_binary):\n",
        "  audio, _ = tf.audio.decode_wav(audio_binary)\n",
        "  return tf.squeeze(audio, axis=-1)\n",
        "\n",
        "def get_label(file_path):\n",
        "  parts = tf.strings.split(file_path, os.path.sep)\n",
        "\n",
        "  # Note: You'll use indexing here instead of tuple unpacking to enable this \n",
        "  # to work in a TensorFlow graph.\n",
        "  return parts[-2]\n",
        "\n",
        "def get_waveform_and_label_in_integer(file_path):\n",
        "  label = get_label(file_path)\n",
        "  #print(label.numpy().decode('utf-8'))\n",
        "  label = tf.argmax(label == commands)\n",
        "  label = tf.cast(label, tf.int32)  \n",
        "  audio_binary = tf.io.read_file(file_path)\n",
        "  waveform = decode_audio(audio_binary)\n",
        "  return waveform, label\n",
        "\n",
        "# We need the waveforms to have a similar length.\n",
        "# This can be done by simply zero padding the audio clips that are shorter than one second.\n",
        "\n",
        "def zero_pad_the_waveforms(waveform):\n",
        "  # Padding for files with less than 16000 samples\n",
        "  zero_padding = tf.zeros([16000] - tf.shape(waveform), dtype=tf.float32)\n",
        "\n",
        "  # Concatenate audio with padding so that all audio clips will be of the \n",
        "  # same length\n",
        "  waveform = tf.cast(waveform, tf.float32)\n",
        "  equal_length = tf.concat([waveform, zero_padding], 0)\n",
        "\n",
        "  return equal_length"
      ],
      "execution_count": 7,
      "outputs": []
    },
    {
      "cell_type": "code",
      "metadata": {
        "id": "MHS1Q10dRHFa"
      },
      "source": [
        "train_x = []\n",
        "train_y = []\n",
        "\n",
        "for i in filenames:\n",
        "  #print(i)\n",
        "  train_x.append(zero_pad_the_waveforms(get_waveform_and_label_in_integer(i)[0]))\n",
        "  train_y.append(get_waveform_and_label_in_integer(i)[1])"
      ],
      "execution_count": 8,
      "outputs": []
    },
    {
      "cell_type": "code",
      "metadata": {
        "colab": {
          "base_uri": "https://localhost:8080/"
        },
        "id": "iYeDiCuiRGCz",
        "outputId": "fedce9ce-85e2-4e27-a403-b1fc6681dcc5"
      },
      "source": [
        "print(len(train_x))\n",
        "print(filenames[:7])\n",
        "print(train_x[:7])\n",
        "print(train_y[:7])"
      ],
      "execution_count": 9,
      "outputs": [
        {
          "output_type": "stream",
          "text": [
            "8000\n",
            "tf.Tensor(\n",
            "[b'data/mini_speech_commands/stop/28e47b1a_nohash_2.wav'\n",
            " b'data/mini_speech_commands/go/d55aa56c_nohash_1.wav'\n",
            " b'data/mini_speech_commands/no/876c84d6_nohash_2.wav'\n",
            " b'data/mini_speech_commands/down/7fd25f7c_nohash_2.wav'\n",
            " b'data/mini_speech_commands/up/25132942_nohash_2.wav'\n",
            " b'data/mini_speech_commands/left/2ce7534c_nohash_1.wav'\n",
            " b'data/mini_speech_commands/left/479e64cc_nohash_0.wav'], shape=(7,), dtype=string)\n",
            "[<tf.Tensor: shape=(16000,), dtype=float32, numpy=\n",
            "array([0.0017395 , 0.01397705, 0.03079224, ..., 0.02331543, 0.02200317,\n",
            "       0.01467896], dtype=float32)>, <tf.Tensor: shape=(16000,), dtype=float32, numpy=\n",
            "array([ 0.00750732,  0.00994873,  0.01119995, ..., -0.01065063,\n",
            "       -0.01239014, -0.01083374], dtype=float32)>, <tf.Tensor: shape=(16000,), dtype=float32, numpy=\n",
            "array([-0.00836182, -0.00866699, -0.0088501 , ..., -0.01269531,\n",
            "       -0.01208496, -0.01089478], dtype=float32)>, <tf.Tensor: shape=(16000,), dtype=float32, numpy=\n",
            "array([-3.0517578e-05, -9.1552734e-05, -9.1552734e-05, ...,\n",
            "        6.1035156e-05,  9.1552734e-05,  6.1035156e-05], dtype=float32)>, <tf.Tensor: shape=(16000,), dtype=float32, numpy=\n",
            "array([0.0000000e+00, 0.0000000e+00, 3.0517578e-05, ..., 0.0000000e+00,\n",
            "       0.0000000e+00, 3.0517578e-05], dtype=float32)>, <tf.Tensor: shape=(16000,), dtype=float32, numpy=\n",
            "array([-0.00265503, -0.00384521, -0.00332642, ...,  0.00247192,\n",
            "        0.00170898, -0.00637817], dtype=float32)>, <tf.Tensor: shape=(16000,), dtype=float32, numpy=\n",
            "array([ 0.00466919,  0.00888062,  0.01419067, ..., -0.00906372,\n",
            "       -0.00888062, -0.00942993], dtype=float32)>]\n",
            "[<tf.Tensor: shape=(), dtype=int32, numpy=5>, <tf.Tensor: shape=(), dtype=int32, numpy=1>, <tf.Tensor: shape=(), dtype=int32, numpy=3>, <tf.Tensor: shape=(), dtype=int32, numpy=0>, <tf.Tensor: shape=(), dtype=int32, numpy=6>, <tf.Tensor: shape=(), dtype=int32, numpy=2>, <tf.Tensor: shape=(), dtype=int32, numpy=2>]\n"
          ],
          "name": "stdout"
        }
      ]
    },
    {
      "cell_type": "code",
      "metadata": {
        "id": "nomHM4a9GJ-D"
      },
      "source": [
        "train_x_slice = train_x[:6400]\n",
        "train_y_slice = train_y[:6400]\n",
        "\n",
        "val_x_slice = train_x[6400:]\n",
        "val_y_slice = train_y[6400:]"
      ],
      "execution_count": 10,
      "outputs": []
    },
    {
      "cell_type": "code",
      "metadata": {
        "id": "9jMgq56WUAQ-",
        "colab": {
          "base_uri": "https://localhost:8080/"
        },
        "outputId": "babd9ec8-e9ad-495b-d71d-6b6f02d8eb36"
      },
      "source": [
        "train_x = tf.convert_to_tensor(train_x_slice)\n",
        "train_y = tf.convert_to_tensor(train_y_slice)\n",
        "print(len(train_x))\n",
        "print(len(train_y))\n",
        "val_x =  tf.convert_to_tensor(val_x_slice)\n",
        "val_y =  tf.convert_to_tensor(val_y_slice)\n",
        "print(len(val_x))\n",
        "print(len(val_y))"
      ],
      "execution_count": 12,
      "outputs": [
        {
          "output_type": "stream",
          "text": [
            "6400\n",
            "6400\n",
            "1600\n",
            "1600\n"
          ],
          "name": "stdout"
        }
      ]
    },
    {
      "cell_type": "code",
      "metadata": {
        "colab": {
          "base_uri": "https://localhost:8080/"
        },
        "id": "WxaPgjMf04zL",
        "outputId": "159719bc-e702-4119-bd56-9d4ab7e590a9"
      },
      "source": [
        "print(train_x[:4])\n",
        "print(train_y[:4])"
      ],
      "execution_count": 13,
      "outputs": [
        {
          "output_type": "stream",
          "text": [
            "tf.Tensor(\n",
            "[[ 1.73950195e-03  1.39770508e-02  3.07922363e-02 ...  2.33154297e-02\n",
            "   2.20031738e-02  1.46789551e-02]\n",
            " [ 7.50732422e-03  9.94873047e-03  1.11999512e-02 ... -1.06506348e-02\n",
            "  -1.23901367e-02 -1.08337402e-02]\n",
            " [-8.36181641e-03 -8.66699219e-03 -8.85009766e-03 ... -1.26953125e-02\n",
            "  -1.20849609e-02 -1.08947754e-02]\n",
            " [-3.05175781e-05 -9.15527344e-05 -9.15527344e-05 ...  6.10351562e-05\n",
            "   9.15527344e-05  6.10351562e-05]], shape=(4, 16000), dtype=float32)\n",
            "tf.Tensor([5 1 3 0], shape=(4,), dtype=int32)\n"
          ],
          "name": "stdout"
        }
      ]
    },
    {
      "cell_type": "code",
      "metadata": {
        "colab": {
          "base_uri": "https://localhost:8080/"
        },
        "id": "ALVQ0IHQHApJ",
        "outputId": "042f3f87-b738-4eca-b5b5-a851bdd9f0d5"
      },
      "source": [
        "print(val_x[:4])\n",
        "print(val_y[:4])"
      ],
      "execution_count": 14,
      "outputs": [
        {
          "output_type": "stream",
          "text": [
            "tf.Tensor(\n",
            "[[ 4.5776367e-04  1.5258789e-04 -3.3569336e-04 ... -2.4719238e-03\n",
            "  -2.1972656e-03 -2.1057129e-03]\n",
            " [ 0.0000000e+00 -3.0517578e-05 -3.0517578e-05 ...  0.0000000e+00\n",
            "   0.0000000e+00  3.0517578e-05]\n",
            " [ 0.0000000e+00  0.0000000e+00  3.0517578e-05 ...  6.1035156e-05\n",
            "   3.3569336e-04  4.2724609e-04]\n",
            " [-1.4480591e-01 -2.4758911e-01 -2.2470093e-01 ... -1.3153076e-02\n",
            "  -3.7292480e-02 -7.9895020e-02]], shape=(4, 16000), dtype=float32)\n",
            "tf.Tensor([7 6 0 7], shape=(4,), dtype=int32)\n"
          ],
          "name": "stdout"
        }
      ]
    },
    {
      "cell_type": "code",
      "metadata": {
        "colab": {
          "base_uri": "https://localhost:8080/"
        },
        "id": "zh1OZUrJw07a",
        "outputId": "5d30101a-d593-444d-9beb-10ed6d66cb9a"
      },
      "source": [
        "numpy_y = train_y.numpy()\n",
        "print(numpy_y)\n",
        "print(tf.convert_to_tensor(numpy_y[:4]))"
      ],
      "execution_count": null,
      "outputs": [
        {
          "output_type": "stream",
          "text": [
            "[3 2 5 ... 6 5 3]\n",
            "tf.Tensor([3 2 5 7], shape=(4,), dtype=int32)\n"
          ],
          "name": "stdout"
        }
      ]
    },
    {
      "cell_type": "markdown",
      "metadata": {
        "id": "4O-t_navYRMz"
      },
      "source": [
        "# Yamnet"
      ]
    },
    {
      "cell_type": "code",
      "metadata": {
        "id": "YgVIlfJbYS7x"
      },
      "source": [
        "# Download the model from TFHub\n",
        "yamnet_model_handle = 'https://tfhub.dev/google/yamnet/1'\n",
        "yamnet_model = hub.load(yamnet_model_handle)"
      ],
      "execution_count": 15,
      "outputs": []
    },
    {
      "cell_type": "code",
      "metadata": {
        "colab": {
          "base_uri": "https://localhost:8080/"
        },
        "id": "uTaogiDRYTiT",
        "outputId": "75b47200-f24c-4efd-8023-ec7243dffb93"
      },
      "source": [
        "# Print the classes\n",
        "class_map_path = yamnet_model.class_map_path().numpy().decode('utf-8')\n",
        "class_names =list(pd.read_csv(class_map_path)['display_name'])\n",
        "\n",
        "for name in class_names[:20]:\n",
        "  print(name)\n",
        "print('...')"
      ],
      "execution_count": 16,
      "outputs": [
        {
          "output_type": "stream",
          "text": [
            "Speech\n",
            "Child speech, kid speaking\n",
            "Conversation\n",
            "Narration, monologue\n",
            "Babbling\n",
            "Speech synthesizer\n",
            "Shout\n",
            "Bellow\n",
            "Whoop\n",
            "Yell\n",
            "Children shouting\n",
            "Screaming\n",
            "Whispering\n",
            "Laughter\n",
            "Baby laughter\n",
            "Giggle\n",
            "Snicker\n",
            "Belly laugh\n",
            "Chuckle, chortle\n",
            "Crying, sobbing\n",
            "...\n"
          ],
          "name": "stdout"
        }
      ]
    },
    {
      "cell_type": "code",
      "metadata": {
        "id": "3P29qsVHWSoh"
      },
      "source": [
        "# applies the embedding extraction model to a wav data\n",
        "def extract_embedding_data(wav_data):\n",
        "  ''' run YAMNet to extract embedding from the wav data '''\n",
        "  #print(len(wav_data))\n",
        "  scores, embeddings, spectrogram = yamnet_model(wav_data)\n",
        "  #num_embeddings = tf.shape(embeddings)[0]\n",
        "  return embeddings\n",
        "\n",
        "# applies the embedding extraction model to a wav data\n",
        "def extract_embedding_data_one_output(wav_data):\n",
        "  ''' run YAMNet to extract embedding from the wav data '''\n",
        "  scores, embeddings, spectrogram = yamnet_model(wav_data)\n",
        "  embeddings = tf.reduce_mean(embeddings, 0)\n",
        "  return embeddings\n",
        "\n",
        "# Convert train_x with yamnet\n",
        "new_array_train_x = []\n",
        "\n",
        "for i in train_x:\n",
        "  #print(len(i))\n",
        "  new_array_train_x.append(extract_embedding_data_one_output(i))\n",
        "  #new_array.append(extract_embedding_data(i))\n",
        "\n",
        "yamnet_train_x = tf.convert_to_tensor(new_array_train_x)\n",
        "\n",
        "# Convert val_x with yamnet\n",
        "new_array_val_x = []\n",
        "\n",
        "for i in val_x:\n",
        "  #print(len(i))\n",
        "  new_array_val_x.append(extract_embedding_data_one_output(i))\n",
        "  #new_array.append(extract_embedding_data(i))\n",
        "\n",
        "yamnet_val_x = tf.convert_to_tensor(new_array_val_x)"
      ],
      "execution_count": 17,
      "outputs": []
    },
    {
      "cell_type": "code",
      "metadata": {
        "colab": {
          "base_uri": "https://localhost:8080/"
        },
        "id": "eZC8Cxh3YEV0",
        "outputId": "1c78bb92-cc17-40fe-8498-d4730728b376"
      },
      "source": [
        "print(len(yamnet_train_x))\n",
        "print(yamnet_train_x[:1])\n",
        "print(len(yamnet_val_x))\n",
        "print(yamnet_val_x[:1])"
      ],
      "execution_count": 18,
      "outputs": [
        {
          "output_type": "stream",
          "text": [
            "6400\n",
            "tf.Tensor([[0.00982644 0.04016964 0.393361   ... 0.01091663 0.         0.        ]], shape=(1, 1024), dtype=float32)\n",
            "1600\n",
            "tf.Tensor([[0.01802696 0.49306297 0.24084306 ... 0.11867653 0.00912462 0.        ]], shape=(1, 1024), dtype=float32)\n"
          ],
          "name": "stdout"
        }
      ]
    },
    {
      "cell_type": "code",
      "metadata": {
        "colab": {
          "base_uri": "https://localhost:8080/"
        },
        "id": "nMtM8rRJcKv2",
        "outputId": "d75fafef-5cc4-4f95-da21-6ba2538fd136"
      },
      "source": [
        "my_model = tf.keras.Sequential([\n",
        "    tf.keras.layers.InputLayer(input_shape=(1024), dtype=tf.float32,\n",
        "                          name='input_embedding'),\n",
        "    tf.keras.layers.Dense(512, activation='relu'),\n",
        "    #tf.keras.layers.Dropout(0.5),\n",
        "    tf.keras.layers.Dense(len(commands))\n",
        "], name='my_model')\n",
        "\n",
        "my_model.summary()"
      ],
      "execution_count": 21,
      "outputs": [
        {
          "output_type": "stream",
          "text": [
            "Model: \"my_model\"\n",
            "_________________________________________________________________\n",
            "Layer (type)                 Output Shape              Param #   \n",
            "=================================================================\n",
            "dense_4 (Dense)              (None, 512)               524800    \n",
            "_________________________________________________________________\n",
            "dense_5 (Dense)              (None, 8)                 4104      \n",
            "=================================================================\n",
            "Total params: 528,904\n",
            "Trainable params: 528,904\n",
            "Non-trainable params: 0\n",
            "_________________________________________________________________\n"
          ],
          "name": "stdout"
        }
      ]
    },
    {
      "cell_type": "code",
      "metadata": {
        "id": "U2NRLuW4cobr"
      },
      "source": [
        "my_model.compile(loss=tf.keras.losses.SparseCategoricalCrossentropy(from_logits=True),\n",
        "                 optimizer=\"adam\",\n",
        "                 metrics=['accuracy'])\n",
        "\n",
        "callback = tf.keras.callbacks.EarlyStopping(monitor='loss',\n",
        "                                            patience=3,\n",
        "                                            restore_best_weights=True)"
      ],
      "execution_count": 22,
      "outputs": []
    },
    {
      "cell_type": "code",
      "metadata": {
        "id": "h6xPZ0iTctvK"
      },
      "source": [
        "history = my_model.fit(yamnet_train_x,train_y,\n",
        "                       validation_data=(yamnet_val_x, val_y),\n",
        "                       epochs=40,\n",
        "                       callbacks=callback,\n",
        "                       batch_size=32,\n",
        "                       verbose=1)"
      ],
      "execution_count": null,
      "outputs": []
    },
    {
      "cell_type": "code",
      "metadata": {
        "colab": {
          "base_uri": "https://localhost:8080/",
          "height": 265
        },
        "id": "hVc_95bRgKvQ",
        "outputId": "866a8396-dfd0-4643-e218-55f19ece241b"
      },
      "source": [
        "metrics = history.history\n",
        "plt.plot(history.epoch, metrics['loss'], metrics['val_loss'])\n",
        "plt.legend(['loss', 'val_loss'])\n",
        "plt.show()"
      ],
      "execution_count": 24,
      "outputs": [
        {
          "output_type": "display_data",
          "data": {
            "image/png": "[encoded data removed]",
            "text/plain": [
              "<Figure size 432x288 with 1 Axes>"
            ]
          },
          "metadata": {
            "tags": [],
            "needs_background": "light"
          }
        }
      ]
    },
    {
      "cell_type": "code",
      "metadata": {
        "colab": {
          "base_uri": "https://localhost:8080/",
          "height": 448
        },
        "id": "D6SlkF8HsJkg",
        "outputId": "1c726259-866b-4428-8d05-802b1604b2ed"
      },
      "source": [
        "# Plot the confusion matrix\n",
        "\n",
        "def show_confusion_matrix(confusion, test_labels):\n",
        "  \"\"\"Compute confusion matrix and normalize.\"\"\"\n",
        "  confusion_normalized = confusion.astype(\"float\") / confusion.sum(axis=1)\n",
        "  axis_labels = test_labels\n",
        "  ax = sns.heatmap(\n",
        "      confusion_normalized, xticklabels=axis_labels, yticklabels=axis_labels,\n",
        "      cmap='Blues', annot=True, fmt='.2f', square=True)\n",
        "  plt.title(\"Confusion matrix\")\n",
        "  plt.ylabel(\"True label\")\n",
        "  plt.xlabel(\"Predicted label\")\n",
        "\n",
        "# Get the result of the dataset\n",
        "result = my_model.predict(yamnet_val_x)\n",
        "result = np.argmax(result, axis=1)\n",
        "#print(result)\n",
        "\n",
        "# Print the confusion matrix with sklearn\n",
        "matrix = confusion_matrix(result, val_y)\n",
        "print(matrix)\n",
        "print()\n",
        "\n",
        "# Print confusion matrix with Matplotlib and extra function\n",
        "show_confusion_matrix(matrix, commands)"
      ],
      "execution_count": 86,
      "outputs": [
        {
          "output_type": "stream",
          "text": [
            "[[ 94  26  14  29  16  11   3   5]\n",
            " [ 15  61   5  32   6  19  16   7]\n",
            " [  9  12 123  11  25  25  26  27]\n",
            " [ 48  58   7 102  11  11  20   8]\n",
            " [ 13  11  21   8 106  13  12   7]\n",
            " [  7   9  10   9   3 103  12   4]\n",
            " [  3  13  12   8  16  17 109   6]\n",
            " [  5   7  14   5  15   7   3 130]]\n",
            "\n"
          ],
          "name": "stdout"
        },
        {
          "output_type": "display_data",
          "data": {
            "image/png": "[encoded data removed]",
            "text/plain": [
              "<Figure size 432x288 with 2 Axes>"
            ]
          },
          "metadata": {
            "tags": [],
            "needs_background": "light"
          }
        }
      ]
    },
    {
      "cell_type": "code",
      "metadata": {
        "id": "depXdEVwMcWY"
      },
      "source": [
        "test_file = '/content/data/mini_speech_commands/up/0132a06d_nohash_2.wav'"
      ],
      "execution_count": 54,
      "outputs": []
    },
    {
      "cell_type": "code",
      "metadata": {
        "colab": {
          "base_uri": "https://localhost:8080/"
        },
        "id": "DJ6LBJPdcx_q",
        "outputId": "8a60b9da-0414-4787-db21-95482e49225a"
      },
      "source": [
        "scores, embeddings, spectrogram = yamnet_model(zero_pad_the_waveforms(get_waveform_and_label_in_integer(test_file)[0]))\n",
        "print(embeddings)\n",
        "embeddings = tf.reduce_mean(embeddings, 0)\n",
        "print(embeddings)\n",
        "embeddings = tf.expand_dims(embeddings, axis=0)\n",
        "print(embeddings)\n",
        "result = my_model(embeddings).numpy()\n",
        "print(result)\n",
        "\n",
        "infered_class = commands[result.mean(axis=0).argmax()]\n",
        "print(f'The main sound is: {infered_class}')"
      ],
      "execution_count": 55,
      "outputs": [
        {
          "output_type": "stream",
          "text": [
            "tf.Tensor(\n",
            "[[0.04754219 0.6198299  0.03474392 ... 0.1325994  0.         0.        ]\n",
            " [0.03788662 0.01155544 0.10337216 ... 0.05102687 0.         0.        ]], shape=(2, 1024), dtype=float32)\n",
            "tf.Tensor([0.0427144  0.31569266 0.06905804 ... 0.09181313 0.         0.        ], shape=(1024,), dtype=float32)\n",
            "tf.Tensor([[0.0427144  0.31569266 0.06905804 ... 0.09181313 0.         0.        ]], shape=(1, 1024), dtype=float32)\n",
            "[[-0.29750872 -1.4858807  -7.530372    0.8850209  -6.591151   -5.661163\n",
            "   5.8153005  -7.6403456 ]]\n",
            "The main sound is: up\n"
          ],
          "name": "stdout"
        }
      ]
    },
    {
      "cell_type": "code",
      "metadata": {
        "id": "LmTApLvd2T71"
      },
      "source": [
        "# Include reduce mean and expansion inside model\n",
        "class ReduceMeanLayer(tf.keras.layers.Layer):\n",
        "  def __init__(self, axis=0, **kwargs):\n",
        "    super(ReduceMeanLayer, self).__init__(**kwargs)\n",
        "    self.axis = axis\n",
        "\n",
        "  def call(self, input):\n",
        "    input = tf.math.reduce_mean(input, axis=self.axis)\n",
        "    input = tf.expand_dims(input, axis=self.axis)\n",
        "    return input"
      ],
      "execution_count": 58,
      "outputs": []
    },
    {
      "cell_type": "code",
      "metadata": {
        "colab": {
          "base_uri": "https://localhost:8080/"
        },
        "id": "tNB7Kvw9NE75",
        "outputId": "59625726-c236-466a-e148-cf821bf64a39"
      },
      "source": [
        "saved_model_path = './speech_commands_yamnet'\n",
        "\n",
        "input_segment = tf.keras.layers.Input(shape=(), dtype=tf.float32, name='audio')\n",
        "embedding_extraction_layer = hub.KerasLayer(yamnet_model_handle,\n",
        "                                            trainable=False, name='yamnet')\n",
        "_, embeddings_output, _ = embedding_extraction_layer(input_segment)\n",
        "serving_outputs = ReduceMeanLayer(axis=0, name='classifier')(embeddings_output)\n",
        "serving_outputs = my_model(serving_outputs)\n",
        "serving_model = tf.keras.Model(input_segment, serving_outputs)\n",
        "serving_model.save(saved_model_path, include_optimizer=False)"
      ],
      "execution_count": 59,
      "outputs": [
        {
          "output_type": "stream",
          "text": [
            "WARNING:tensorflow:Compiled the loaded model, but the compiled metrics have yet to be built. `model.compile_metrics` will be empty until you train or evaluate the model.\n"
          ],
          "name": "stdout"
        },
        {
          "output_type": "stream",
          "text": [
            "WARNING:tensorflow:Compiled the loaded model, but the compiled metrics have yet to be built. `model.compile_metrics` will be empty until you train or evaluate the model.\n"
          ],
          "name": "stderr"
        },
        {
          "output_type": "stream",
          "text": [
            "INFO:tensorflow:Assets written to: ./speech_commands_yamnet/assets\n"
          ],
          "name": "stdout"
        },
        {
          "output_type": "stream",
          "text": [
            "INFO:tensorflow:Assets written to: ./speech_commands_yamnet/assets\n"
          ],
          "name": "stderr"
        }
      ]
    },
    {
      "cell_type": "code",
      "metadata": {
        "colab": {
          "base_uri": "https://localhost:8080/",
          "height": 369
        },
        "id": "LSLgmHqxNxcO",
        "outputId": "781ccb2d-771a-48d2-8267-115277e18356"
      },
      "source": [
        "tf.keras.utils.plot_model(serving_model)"
      ],
      "execution_count": 60,
      "outputs": [
        {
          "output_type": "execute_result",
          "data": {
            "image/png": "[encoded data removed]",
            "text/plain": [
              "<IPython.core.display.Image object>"
            ]
          },
          "metadata": {
            "tags": []
          },
          "execution_count": 60
        }
      ]
    },
    {
      "cell_type": "code",
      "metadata": {
        "id": "DFQbDRbDNx3v"
      },
      "source": [
        "reloaded_model = tf.saved_model.load(saved_model_path)"
      ],
      "execution_count": 61,
      "outputs": []
    },
    {
      "cell_type": "code",
      "metadata": {
        "colab": {
          "base_uri": "https://localhost:8080/"
        },
        "id": "iGKnZEKwN6Ru",
        "outputId": "d96cb451-98f2-4384-de3a-74fc1a7d51ae"
      },
      "source": [
        "print(zero_pad_the_waveforms(get_waveform_and_label_in_integer(test_file)[0]).shape)\n",
        "reloaded_results = reloaded_model(zero_pad_the_waveforms(get_waveform_and_label_in_integer(test_file)[0]))\n",
        "print(tf.squeeze(reloaded_results).numpy())\n",
        "result = commands[tf.argmax(tf.squeeze(reloaded_results))]\n",
        "result = commands[tf.argmax(reloaded_results[0])]\n",
        "print(f'The main sound is: {result}')"
      ],
      "execution_count": 62,
      "outputs": [
        {
          "output_type": "stream",
          "text": [
            "(16000,)\n",
            "[-0.29750872 -1.4858807  -7.530372    0.8850209  -6.591151   -5.661163\n",
            "  5.8153005  -7.6403456 ]\n",
            "The main sound is: up\n"
          ],
          "name": "stdout"
        }
      ]
    },
    {
      "cell_type": "code",
      "metadata": {
        "id": "45_HmiTUUYdY"
      },
      "source": [
        "# Use with TF 2.4.1\n",
        "'''\n",
        "MODEL_PATH  = \"./speech_commands_yamnet\"\n",
        "MODEL_SAVE_PATH = \"/content/yamnet_speech_commands.tflite\"\n",
        "# Convert the model\n",
        "converter = tf.lite.TFLiteConverter.from_saved_model(MODEL_PATH) # path to the SavedModel directory\n",
        "converter.optimizations = [tf.lite.Optimize.DEFAULT]\n",
        "#converter.experimental_new_converter = True\n",
        "converter.target_spec.supported_ops = [tf.lite.OpsSet.TFLITE_BUILTINS, tf.lite.OpsSet.SELECT_TF_OPS]\n",
        "tflite_model = converter.convert()\n",
        "\n",
        "# Save the model.\n",
        "with open('yamnet_speech_commands.tflite', 'wb') as f:\n",
        "  f.write(tflite_model)\n",
        "'''"
      ],
      "execution_count": null,
      "outputs": []
    },
    {
      "cell_type": "code",
      "metadata": {
        "id": "e5QbEH6CPfqF"
      },
      "source": [
        "# Use with TF 2.5.0 no quantization\n",
        "MODEL_PATH  = \"./speech_commands_yamnet\"\n",
        "MODEL_SAVE_PATH = \"/content/yamnet_speech_commands.tflite\"\n",
        "converter = tf.lite.TFLiteConverter.from_saved_model(MODEL_PATH)\n",
        "\n",
        "tflite_model = converter.convert()\n",
        "with tf.io.gfile.GFile(MODEL_SAVE_PATH, 'wb') as f:\n",
        "  f.write(tflite_model)"
      ],
      "execution_count": 63,
      "outputs": []
    },
    {
      "cell_type": "code",
      "metadata": {
        "id": "J-279qamMDLA"
      },
      "source": [
        "# Use with TF 2.5.0 Dynamic range quantization\n",
        "MODEL_PATH  = \"./speech_commands_yamnet\"\n",
        "MODEL_SAVE_PATH_DRQ = \"/content/yamnet_speech_commandsDRQ.tflite\"\n",
        "converter = tf.lite.TFLiteConverter.from_saved_model(MODEL_PATH) #,signature_keys=['serving_default'])\n",
        "converter.optimizations = [tf.lite.Optimize.DEFAULT]\n",
        "#converter.experimental_new_converter = True\n",
        "#converter.target_spec.supported_ops = [tf.lite.OpsSet.TFLITE_BUILTINS, tf.lite.OpsSet.SELECT_TF_OPS]\n",
        "\n",
        "tflite_model = converter.convert()\n",
        "with tf.io.gfile.GFile(MODEL_SAVE_PATH_DRQ, 'wb') as f:\n",
        "  f.write(tflite_model)"
      ],
      "execution_count": 64,
      "outputs": []
    },
    {
      "cell_type": "code",
      "metadata": {
        "colab": {
          "base_uri": "https://localhost:8080/"
        },
        "id": "qjP6RvtKRec9",
        "outputId": "bec778bd-2446-41ea-d977-fb9cfdbb891d"
      },
      "source": [
        "input_wav = zero_pad_the_waveforms(get_waveform_and_label_in_integer(test_file)[0])\n",
        "input_shape_size = input_wav.shape[0]\n",
        "print(input_shape_size)\n",
        "interpreter = tf.lite.Interpreter(model_path=MODEL_SAVE_PATH)# or MODEL_SAVE_PATH_DRQ\n",
        "\n",
        "# Get input and output tensors.\n",
        "input_details = interpreter.get_input_details()\n",
        "output_details = interpreter.get_output_details()\n",
        "\n",
        "# Test the model on random input data.\n",
        "input_shape = input_details[0]['shape']\n",
        "\n",
        "input_data = np.array(input_wav, dtype=np.float32)\n",
        "interpreter.resize_tensor_input(input_details[0]['index'], [input_shape_size], strict=True)\n",
        "\n",
        "interpreter.allocate_tensors()\n",
        "interpreter.set_tensor(input_details[0]['index'], input_data)\n",
        "\n",
        "interpreter.invoke()\n",
        "\n",
        "# The function `get_tensor()` returns a copy of the tensor data.\n",
        "# Use `tensor()` in order to get a pointer to the tensor.\n",
        "output_data = interpreter.get_tensor(output_details[0]['index'])\n",
        "print(output_data[0])\n",
        "result = commands[tf.argmax(output_data[0])]\n",
        "print(f'The main sound is: {result}')"
      ],
      "execution_count": 67,
      "outputs": [
        {
          "output_type": "stream",
          "text": [
            "16000\n",
            "[-0.29760075 -1.4858347  -7.530417    0.8849625  -6.591202   -5.661166\n",
            "  5.815401   -7.6403065 ]\n",
            "The main sound is: up\n"
          ],
          "name": "stdout"
        }
      ]
    },
    {
      "cell_type": "markdown",
      "metadata": {
        "id": "ipMxsZnyQbV3"
      },
      "source": [
        "# Test recorded audio"
      ]
    },
    {
      "cell_type": "code",
      "metadata": {
        "id": "8npzXxM-YnK_"
      },
      "source": [
        "@tf.function\n",
        "def load_wav_16k_mono(filename):\n",
        "    \"\"\" read in a waveform file and convert to 16 kHz mono \"\"\"\n",
        "    file_contents = tf.io.read_file(filename)\n",
        "    wav, sample_rate = tf.audio.decode_wav(\n",
        "          file_contents,\n",
        "          desired_channels=1)\n",
        "    print(sample_rate)\n",
        "    wav = tf.squeeze(wav, axis=-1)\n",
        "    sample_rate = tf.cast(sample_rate, dtype=tf.int64)\n",
        "    wav = tfio.audio.resample(wav, rate_in=sample_rate, rate_out=16000)\n",
        "    return wav"
      ],
      "execution_count": 69,
      "outputs": []
    },
    {
      "cell_type": "code",
      "metadata": {
        "colab": {
          "base_uri": "https://localhost:8080/"
        },
        "id": "0UE1Dma3ZQrI",
        "outputId": "9bf5c693-d1e3-4b11-d2de-a99b6e8e193b"
      },
      "source": [
        "input = load_wav_16k_mono('left.wav')"
      ],
      "execution_count": 80,
      "outputs": [
        {
          "output_type": "stream",
          "text": [
            "Tensor(\"DecodeWav:1\", shape=(), dtype=int32)\n",
            "WARNING:tensorflow:Using a while_loop for converting IO>AudioResample\n"
          ],
          "name": "stdout"
        },
        {
          "output_type": "stream",
          "text": [
            "WARNING:tensorflow:Using a while_loop for converting IO>AudioResample\n"
          ],
          "name": "stderr"
        }
      ]
    },
    {
      "cell_type": "code",
      "metadata": {
        "colab": {
          "base_uri": "https://localhost:8080/"
        },
        "id": "nbZtgjfQZYSY",
        "outputId": "c41afd6c-6258-4619-8295-385d846c55d2"
      },
      "source": [
        "print(type(input))\n",
        "print(input)"
      ],
      "execution_count": 81,
      "outputs": [
        {
          "output_type": "stream",
          "text": [
            "<class 'tensorflow.python.framework.ops.EagerTensor'>\n",
            "tf.Tensor(\n",
            "[0.0000000e+00 0.0000000e+00 0.0000000e+00 ... 6.5115499e-05 1.3380266e-04\n",
            " 1.4033940e-04], shape=(33280,), dtype=float32)\n"
          ],
          "name": "stdout"
        }
      ]
    },
    {
      "cell_type": "code",
      "metadata": {
        "colab": {
          "base_uri": "https://localhost:8080/",
          "height": 75
        },
        "id": "BOIz7In8ZtGg",
        "outputId": "e0e1a960-2e80-4a59-bba8-2349cc6d3187"
      },
      "source": [
        "display.Audio(input, rate=16000)"
      ],
      "execution_count": 82,
      "outputs": [
        {
          "output_type": "execute_result",
          "data": {
            "text/html": [
              "\n",
              "                <audio controls=\"controls\" >\n",
              "                    <source src=\"data:audio/wav;base64,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\" type=\"audio/wav\" />\n",
              "                    Your browser does not support the audio element.\n",
              "                </audio>\n",
              "              "
            ],
            "text/plain": [
              "<IPython.lib.display.Audio object>"
            ]
          },
          "metadata": {
            "tags": []
          },
          "execution_count": 82
        }
      ]
    },
    {
      "cell_type": "code",
      "metadata": {
        "colab": {
          "base_uri": "https://localhost:8080/"
        },
        "id": "wA_EXn7kaN_L",
        "outputId": "a6127b3d-bdb0-489a-8b1d-a209aba37312"
      },
      "source": [
        "test_result = reloaded_model(input)\n",
        "print(test_result)\n",
        "print(tf.squeeze(test_result).numpy())\n",
        "result = commands[tf.argmax(tf.squeeze(test_result))]\n",
        "# or\n",
        "result = commands[tf.argmax(test_result[0])]\n",
        "print(f'The main sound is: {result}')"
      ],
      "execution_count": 83,
      "outputs": [
        {
          "output_type": "stream",
          "text": [
            "tf.Tensor(\n",
            "[[-5.089084  -8.5163555  3.0700073 -1.7580364 -3.1165035 -3.9489508\n",
            "  -4.522336   2.1570945]], shape=(1, 8), dtype=float32)\n",
            "[-5.089084  -8.5163555  3.0700073 -1.7580364 -3.1165035 -3.9489508\n",
            " -4.522336   2.1570945]\n",
            "The main sound is: left\n"
          ],
          "name": "stdout"
        }
      ]
    },
    {
      "cell_type": "code",
      "metadata": {
        "id": "MLqSSYULam4d",
        "colab": {
          "base_uri": "https://localhost:8080/"
        },
        "outputId": "3d4ad344-5d2a-4acf-f36d-9198dfa8c8fe"
      },
      "source": [
        "input_wav = input\n",
        "input_shape_size = input_wav.shape[0]\n",
        "print(input_shape_size)\n",
        "interpreter = tf.lite.Interpreter(model_path=MODEL_SAVE_PATH)# or MODEL_SAVE_PATH_DRQ\n",
        "\n",
        "# Get input and output tensors.\n",
        "input_details = interpreter.get_input_details()\n",
        "output_details = interpreter.get_output_details()\n",
        "\n",
        "# Test the model on random input data.\n",
        "input_shape = input_details[0]['shape']\n",
        "\n",
        "input_data = np.array(input_wav, dtype=np.float32)\n",
        "interpreter.resize_tensor_input(input_details[0]['index'], [input_shape_size], strict=True)\n",
        "\n",
        "interpreter.allocate_tensors()\n",
        "interpreter.set_tensor(input_details[0]['index'], input_data)\n",
        "\n",
        "interpreter.invoke()\n",
        "\n",
        "# The function `get_tensor()` returns a copy of the tensor data.\n",
        "# Use `tensor()` in order to get a pointer to the tensor.\n",
        "output_data = interpreter.get_tensor(output_details[0]['index'])\n",
        "print(output_data[0])\n",
        "result = commands[tf.argmax(output_data[0])]\n",
        "print(f'The main sound is: {result}')"
      ],
      "execution_count": 85,
      "outputs": [
        {
          "output_type": "stream",
          "text": [
            "33280\n",
            "[-5.0890846 -8.51635    3.070006  -1.7580438 -3.1165066 -3.948946\n",
            " -4.522342   2.1570964]\n",
            "The main sound is: left\n"
          ],
          "name": "stdout"
        }
      ]
    },
    {
      "cell_type": "code",
      "metadata": {
        "id": "uTRcaPNQQ0SV"
      },
      "source": [
        ""
      ],
      "execution_count": null,
      "outputs": []
    }
  ]
}