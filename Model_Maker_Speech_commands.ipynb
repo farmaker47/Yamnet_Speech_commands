{
  "nbformat": 4,
  "nbformat_minor": 0,
  "metadata": {
    "colab": {
      "name": "Model_Maker_Speech_commands.ipynb",
      "provenance": [],
      "collapsed_sections": []
    },
    "kernelspec": {
      "name": "python3",
      "display_name": "Python 3"
    },
    "language_info": {
      "name": "python"
    },
    "accelerator": "GPU"
  },
  "cells": [
    {
      "cell_type": "code",
      "metadata": {
        "id": "dsAXoFscXKZm"
      },
      "source": [
        "! pip install tflite-model-maker"
      ],
      "execution_count": null,
      "outputs": []
    },
    {
      "cell_type": "code",
      "metadata": {
        "colab": {
          "base_uri": "https://localhost:8080/"
        },
        "id": "p4kwwpvyXjhg",
        "outputId": "d121cb11-8ff5-40f3-96ac-c8d312b9ccde"
      },
      "source": [
        "import tensorflow as tf\n",
        "import tflite_model_maker as mm\n",
        "from tflite_model_maker import audio_classifier\n",
        "import os\n",
        "import pathlib\n",
        "\n",
        "import numpy as np\n",
        "import matplotlib.pyplot as plt\n",
        "import seaborn as sns\n",
        "\n",
        "import itertools\n",
        "import glob\n",
        "import random\n",
        "\n",
        "from IPython.display import Audio, Image\n",
        "from scipy.io import wavfile\n",
        "\n",
        "print(f\"TensorFlow Version: {tf.__version__}\")\n",
        "print(f\"Model Maker Version: {mm.__version__}\")"
      ],
      "execution_count": 2,
      "outputs": [
        {
          "output_type": "stream",
          "text": [
            "TensorFlow Version: 2.5.0\n",
            "Model Maker Version: 0.3.2\n"
          ],
          "name": "stdout"
        }
      ]
    },
    {
      "cell_type": "code",
      "metadata": {
        "colab": {
          "base_uri": "https://localhost:8080/"
        },
        "id": "zGgLhHVGXu4h",
        "outputId": "e74908a7-89bc-4e03-ec6f-a34d58ac56d4"
      },
      "source": [
        "!nvidia-smi"
      ],
      "execution_count": 3,
      "outputs": [
        {
          "output_type": "stream",
          "text": [
            "Thu Jun 17 06:03:57 2021       \n",
            "+-----------------------------------------------------------------------------+\n",
            "| NVIDIA-SMI 465.27       Driver Version: 460.32.03    CUDA Version: 11.2     |\n",
            "|-------------------------------+----------------------+----------------------+\n",
            "| GPU  Name        Persistence-M| Bus-Id        Disp.A | Volatile Uncorr. ECC |\n",
            "| Fan  Temp  Perf  Pwr:Usage/Cap|         Memory-Usage | GPU-Util  Compute M. |\n",
            "|                               |                      |               MIG M. |\n",
            "|===============================+======================+======================|\n",
            "|   0  Tesla T4            Off  | 00000000:00:04.0 Off |                    0 |\n",
            "| N/A   43C    P8     9W /  70W |      0MiB / 15109MiB |      0%      Default |\n",
            "|                               |                      |                  N/A |\n",
            "+-------------------------------+----------------------+----------------------+\n",
            "                                                                               \n",
            "+-----------------------------------------------------------------------------+\n",
            "| Processes:                                                                  |\n",
            "|  GPU   GI   CI        PID   Type   Process name                  GPU Memory |\n",
            "|        ID   ID                                                   Usage      |\n",
            "|=============================================================================|\n",
            "|  No running processes found                                                 |\n",
            "+-----------------------------------------------------------------------------+\n"
          ],
          "name": "stdout"
        }
      ]
    },
    {
      "cell_type": "code",
      "metadata": {
        "colab": {
          "base_uri": "https://localhost:8080/"
        },
        "id": "D8bvVAMbX6zj",
        "outputId": "604bc6c3-5868-4e72-d013-f9dea1546b11"
      },
      "source": [
        "# Download folder and unzip it\n",
        "data_dir = pathlib.Path('data/mini_speech_commands')\n",
        "if not data_dir.exists():\n",
        "  tf.keras.utils.get_file(\n",
        "      'mini_speech_commands.zip',\n",
        "      origin=\"http://storage.googleapis.com/download.tensorflow.org/data/mini_speech_commands.zip\",\n",
        "      extract=True,\n",
        "      cache_dir='.', cache_subdir='data')"
      ],
      "execution_count": 4,
      "outputs": [
        {
          "output_type": "stream",
          "text": [
            "Downloading data from http://storage.googleapis.com/download.tensorflow.org/data/mini_speech_commands.zip\n",
            "182083584/182082353 [==============================] - 2s 0us/step\n"
          ],
          "name": "stdout"
        }
      ]
    },
    {
      "cell_type": "markdown",
      "metadata": {
        "id": "glVyfkmFYoQU"
      },
      "source": [
        "## Training the Model\n",
        "\n",
        "When using Model Maker for audio, you have to start with a model spec. This is the base model that your new model will extract information to learn about the new classes. It also affects how the dataset will be transformed to respect the models spec parameters like: sample rate, number of channels.\n",
        "\n",
        "[YAMNet](https://tfhub.dev/google/yamnet/1) is an audio event classifier trained on the AudioSet dataset to predict audio events from the AudioSet ontology.\n",
        "\n",
        "It's input is expected to be at 16kHz and with 1 channel.\n",
        "\n",
        "You don't need to do any resampling yourself. Model Maker takes care of that for you.\n",
        "\n",
        "- `frame_length` is to decide how long each traininng sample is. in this case EXPECTED_WAVEFORM_LENGTH * 1s\n",
        "\n",
        "- `frame_steps` is to decide how far appart are the training samples. In this case, the ith sample will start at EXPECTED_WAVEFORM_LENGTH * 1s after the (i-1)th sample.\n",
        "\n",
        "The reason to set these values is to work around some limitation in real world dataset.\n",
        "\n",
        "For example, in the bird dataset, birds don't sing all the time. They sing, rest and sing again, with noises in between. Having a long frame would help capture the singing, but setting it too long will reduce the number of samples for training.\n"
      ]
    },
    {
      "cell_type": "code",
      "metadata": {
        "colab": {
          "base_uri": "https://localhost:8080/"
        },
        "id": "oyjCavIRYBRc",
        "outputId": "85e00655-80e8-4d14-db6f-74411d7134f0"
      },
      "source": [
        "spec = audio_classifier.YamNetSpec(\n",
        "    keep_yamnet_and_custom_heads=True,\n",
        "    frame_step=2 * audio_classifier.YamNetSpec.EXPECTED_WAVEFORM_LENGTH,\n",
        "    frame_length=1 * audio_classifier.YamNetSpec.EXPECTED_WAVEFORM_LENGTH)"
      ],
      "execution_count": 45,
      "outputs": [
        {
          "output_type": "stream",
          "text": [
            "INFO:tensorflow:Checkpoints are stored in /tmp/tmphkan5evv\n"
          ],
          "name": "stdout"
        },
        {
          "output_type": "stream",
          "text": [
            "INFO:tensorflow:Checkpoints are stored in /tmp/tmphkan5evv\n"
          ],
          "name": "stderr"
        }
      ]
    },
    {
      "cell_type": "code",
      "metadata": {
        "id": "0pHk5AQqaW7y"
      },
      "source": [
        "train_data = audio_classifier.DataLoader.from_folder(spec, data_dir, cache=True)\n",
        "train_data, validation_data = train_data.split(0.8)"
      ],
      "execution_count": 41,
      "outputs": []
    },
    {
      "cell_type": "code",
      "metadata": {
        "colab": {
          "base_uri": "https://localhost:8080/"
        },
        "id": "p0vMjxZxbDjQ",
        "outputId": "63465bcb-7487-44eb-e022-31961b9706b0"
      },
      "source": [
        "print(type(train_data))\n",
        "print(len(train_data))\n",
        "print(train_data.gen_dataset().take(1))\n",
        "\n",
        "#for i in train_data.gen_dataset().take(1):\n",
        " # print(i)"
      ],
      "execution_count": 42,
      "outputs": [
        {
          "output_type": "stream",
          "text": [
            "<class 'tensorflow_examples.lite.model_maker.core.data_util.audio_dataloader.DataLoader'>\n",
            "6400\n",
            "<TakeDataset shapes: ((None, 1024), (None, 8)), types: (tf.float32, tf.float32)>\n"
          ],
          "name": "stdout"
        }
      ]
    },
    {
      "cell_type": "markdown",
      "metadata": {
        "id": "NxbuPgrHcV_V"
      },
      "source": [
        "## Training the model\n",
        "\n",
        "the audio_classifier has the [`create`](https://www.tensorflow.org/lite/api_docs/python/tflite_model_maker/audio_classifier/create) method that creates a model and already start training it. \n",
        "\n",
        "You can customize many parameterss, for more information you can read more details in the documentation.\n",
        "\n",
        "On this first try you'll use all the default configurations and train for 100 epochs.\n",
        "\n",
        "Note: The first epoch takes longer than all the other ones because it's when the cache is created. After that each epoch takes close to 1 second."
      ]
    },
    {
      "cell_type": "code",
      "metadata": {
        "colab": {
          "base_uri": "https://localhost:8080/"
        },
        "id": "AgGnMgDTbGtE",
        "outputId": "4a5b9360-ab4c-41fa-80cc-ca2ff952d5ab"
      },
      "source": [
        "batch_size = 32\n",
        "epochs = 40\n",
        "\n",
        "print('Training the model')\n",
        "model = audio_classifier.create(\n",
        "    train_data,\n",
        "    spec,\n",
        "    validation_data,\n",
        "    batch_size=batch_size,\n",
        "    epochs=epochs)"
      ],
      "execution_count": 43,
      "outputs": [
        {
          "output_type": "stream",
          "text": [
            "Training the model\n",
            "Model: \"sequential_2\"\n",
            "_________________________________________________________________\n",
            "Layer (type)                 Output Shape              Param #   \n",
            "=================================================================\n",
            "classification_head (Dense)  (None, 8)                 8200      \n",
            "=================================================================\n",
            "Total params: 8,200\n",
            "Trainable params: 8,200\n",
            "Non-trainable params: 0\n",
            "_________________________________________________________________\n",
            "Epoch 1/40\n",
            "180/180 [==============================] - 130s 713ms/step - loss: 2.0478 - acc: 0.1899 - val_loss: 1.9376 - val_acc: 0.3132\n",
            "Epoch 2/40\n",
            "180/180 [==============================] - 1s 7ms/step - loss: 1.9041 - acc: 0.2908 - val_loss: 1.8321 - val_acc: 0.3604\n",
            "Epoch 3/40\n",
            "180/180 [==============================] - 1s 8ms/step - loss: 1.8278 - acc: 0.3275 - val_loss: 1.7934 - val_acc: 0.3659\n",
            "Epoch 4/40\n",
            "180/180 [==============================] - 1s 8ms/step - loss: 1.7745 - acc: 0.3489 - val_loss: 1.7468 - val_acc: 0.3812\n",
            "Epoch 5/40\n",
            "180/180 [==============================] - 2s 8ms/step - loss: 1.7436 - acc: 0.3691 - val_loss: 1.7269 - val_acc: 0.3929\n",
            "Epoch 6/40\n",
            "180/180 [==============================] - 1s 8ms/step - loss: 1.7275 - acc: 0.3714 - val_loss: 1.6965 - val_acc: 0.3950\n",
            "Epoch 7/40\n",
            "180/180 [==============================] - 1s 7ms/step - loss: 1.7048 - acc: 0.3786 - val_loss: 1.7075 - val_acc: 0.4075\n",
            "Epoch 8/40\n",
            "180/180 [==============================] - 1s 7ms/step - loss: 1.6782 - acc: 0.3890 - val_loss: 1.6766 - val_acc: 0.4116\n",
            "Epoch 9/40\n",
            "180/180 [==============================] - 1s 7ms/step - loss: 1.6705 - acc: 0.3803 - val_loss: 1.6730 - val_acc: 0.4144\n",
            "Epoch 10/40\n",
            "180/180 [==============================] - 1s 8ms/step - loss: 1.6614 - acc: 0.3934 - val_loss: 1.6594 - val_acc: 0.4193\n",
            "Epoch 11/40\n",
            "180/180 [==============================] - 1s 8ms/step - loss: 1.6513 - acc: 0.3990 - val_loss: 1.6465 - val_acc: 0.4207\n",
            "Epoch 12/40\n",
            "180/180 [==============================] - 1s 7ms/step - loss: 1.6505 - acc: 0.3991 - val_loss: 1.6356 - val_acc: 0.4227\n",
            "Epoch 13/40\n",
            "180/180 [==============================] - 1s 8ms/step - loss: 1.6444 - acc: 0.3963 - val_loss: 1.6304 - val_acc: 0.4262\n",
            "Epoch 14/40\n",
            "180/180 [==============================] - 1s 7ms/step - loss: 1.6257 - acc: 0.4024 - val_loss: 1.6395 - val_acc: 0.4345\n",
            "Epoch 15/40\n",
            "180/180 [==============================] - 1s 7ms/step - loss: 1.6236 - acc: 0.4131 - val_loss: 1.6252 - val_acc: 0.4317\n",
            "Epoch 16/40\n",
            "180/180 [==============================] - 1s 8ms/step - loss: 1.6171 - acc: 0.4145 - val_loss: 1.6120 - val_acc: 0.4421\n",
            "Epoch 17/40\n",
            "180/180 [==============================] - 1s 7ms/step - loss: 1.6258 - acc: 0.4082 - val_loss: 1.6118 - val_acc: 0.4324\n",
            "Epoch 18/40\n",
            "180/180 [==============================] - 1s 7ms/step - loss: 1.6121 - acc: 0.4171 - val_loss: 1.6140 - val_acc: 0.4352\n",
            "Epoch 19/40\n",
            "180/180 [==============================] - 1s 7ms/step - loss: 1.6133 - acc: 0.4073 - val_loss: 1.6015 - val_acc: 0.4387\n",
            "Epoch 20/40\n",
            "180/180 [==============================] - 1s 7ms/step - loss: 1.6141 - acc: 0.4134 - val_loss: 1.5877 - val_acc: 0.4414\n",
            "Epoch 21/40\n",
            "180/180 [==============================] - 1s 7ms/step - loss: 1.5970 - acc: 0.4235 - val_loss: 1.5910 - val_acc: 0.4456\n",
            "Epoch 22/40\n",
            "180/180 [==============================] - 1s 7ms/step - loss: 1.5983 - acc: 0.4113 - val_loss: 1.5977 - val_acc: 0.4387\n",
            "Epoch 23/40\n",
            "180/180 [==============================] - 1s 7ms/step - loss: 1.5912 - acc: 0.4255 - val_loss: 1.5828 - val_acc: 0.4449\n",
            "Epoch 24/40\n",
            "180/180 [==============================] - 2s 8ms/step - loss: 1.5988 - acc: 0.4120 - val_loss: 1.5903 - val_acc: 0.4449\n",
            "Epoch 25/40\n",
            "180/180 [==============================] - 1s 7ms/step - loss: 1.5870 - acc: 0.4223 - val_loss: 1.5626 - val_acc: 0.4484\n",
            "Epoch 26/40\n",
            "180/180 [==============================] - 1s 8ms/step - loss: 1.5874 - acc: 0.4173 - val_loss: 1.5797 - val_acc: 0.4428\n",
            "Epoch 27/40\n",
            "180/180 [==============================] - 1s 7ms/step - loss: 1.5979 - acc: 0.4207 - val_loss: 1.5832 - val_acc: 0.4421\n",
            "Epoch 28/40\n",
            "180/180 [==============================] - 1s 8ms/step - loss: 1.5990 - acc: 0.4108 - val_loss: 1.5759 - val_acc: 0.4456\n",
            "Epoch 29/40\n",
            "180/180 [==============================] - 1s 8ms/step - loss: 1.5977 - acc: 0.4150 - val_loss: 1.5646 - val_acc: 0.4456\n",
            "Epoch 30/40\n",
            "180/180 [==============================] - 1s 7ms/step - loss: 1.5811 - acc: 0.4221 - val_loss: 1.5760 - val_acc: 0.4456\n",
            "Epoch 31/40\n",
            "180/180 [==============================] - 1s 8ms/step - loss: 1.5804 - acc: 0.4263 - val_loss: 1.5714 - val_acc: 0.4525\n",
            "Epoch 32/40\n",
            "180/180 [==============================] - 1s 8ms/step - loss: 1.5923 - acc: 0.4155 - val_loss: 1.5752 - val_acc: 0.4567\n",
            "Epoch 33/40\n",
            "180/180 [==============================] - 1s 7ms/step - loss: 1.5837 - acc: 0.4201 - val_loss: 1.5461 - val_acc: 0.4511\n",
            "Epoch 34/40\n",
            "180/180 [==============================] - 1s 7ms/step - loss: 1.5807 - acc: 0.4253 - val_loss: 1.5658 - val_acc: 0.4560\n",
            "Epoch 35/40\n",
            "180/180 [==============================] - 1s 7ms/step - loss: 1.5869 - acc: 0.4197 - val_loss: 1.5629 - val_acc: 0.4532\n",
            "Epoch 36/40\n",
            "180/180 [==============================] - 1s 8ms/step - loss: 1.5893 - acc: 0.4206 - val_loss: 1.5629 - val_acc: 0.4588\n",
            "Epoch 37/40\n",
            "180/180 [==============================] - 1s 8ms/step - loss: 1.5904 - acc: 0.4260 - val_loss: 1.5610 - val_acc: 0.4581\n",
            "Epoch 38/40\n",
            "180/180 [==============================] - 1s 7ms/step - loss: 1.5665 - acc: 0.4338 - val_loss: 1.5347 - val_acc: 0.4560\n",
            "Epoch 39/40\n",
            "180/180 [==============================] - 1s 8ms/step - loss: 1.5753 - acc: 0.4258 - val_loss: 1.5731 - val_acc: 0.4518\n",
            "Epoch 40/40\n",
            "180/180 [==============================] - 1s 7ms/step - loss: 1.5829 - acc: 0.4195 - val_loss: 1.5465 - val_acc: 0.4567\n"
          ],
          "name": "stdout"
        }
      ]
    },
    {
      "cell_type": "code",
      "metadata": {
        "colab": {
          "base_uri": "https://localhost:8080/"
        },
        "id": "bwdChw_Jc6iE",
        "outputId": "2bdb1614-e849-4ec6-c6e3-55665d3c1620"
      },
      "source": [
        "print('Evaluating the model')\n",
        "model.evaluate(validation_data)"
      ],
      "execution_count": 13,
      "outputs": [
        {
          "output_type": "stream",
          "text": [
            "Evaluating the model\n",
            "46/46 [==============================] - 17s 360ms/step - loss: 1.5721 - acc: 0.4516\n"
          ],
          "name": "stdout"
        },
        {
          "output_type": "execute_result",
          "data": {
            "text/plain": [
              "[1.5721174478530884, 0.4515689015388489]"
            ]
          },
          "metadata": {
            "tags": []
          },
          "execution_count": 13
        }
      ]
    },
    {
      "cell_type": "markdown",
      "metadata": {
        "id": "0fXVvmd1dNHh"
      },
      "source": [
        "## Understanding your model\n",
        "\n",
        "When training a classifier, it's useful to see the [confusion matrix](https://en.wikipedia.org/wiki/Confusion_matrix). The confusion matrix gives you detailed knowledge of how your classifier is performing on test data.\n",
        "\n",
        "Model Maker already creates the confusion matrix for you."
      ]
    },
    {
      "cell_type": "code",
      "metadata": {
        "colab": {
          "base_uri": "https://localhost:8080/",
          "height": 295
        },
        "id": "_4hifKMMdJuD",
        "outputId": "83634cab-031d-4fab-8bfc-aa59d5884345"
      },
      "source": [
        "def show_confusion_matrix(confusion, test_labels):\n",
        "  \"\"\"Compute confusion matrix and normalize.\"\"\"\n",
        "  confusion_normalized = confusion.astype(\"float\") / confusion.sum(axis=1)\n",
        "  axis_labels = test_labels\n",
        "  ax = sns.heatmap(\n",
        "      confusion_normalized, xticklabels=axis_labels, yticklabels=axis_labels,\n",
        "      cmap='Blues', annot=True, fmt='.2f', square=True)\n",
        "  plt.title(\"Confusion matrix\")\n",
        "  plt.ylabel(\"True label\")\n",
        "  plt.xlabel(\"Predicted label\")\n",
        "\n",
        "confusion_matrix = model.confusion_matrix(validation_data)\n",
        "show_confusion_matrix(confusion_matrix.numpy(), validation_data.index_to_label)"
      ],
      "execution_count": 14,
      "outputs": [
        {
          "output_type": "display_data",
          "data": {
            "image/png": "[encoded data removed]",
            "text/plain": [
              "<Figure size 432x288 with 2 Axes>"
            ]
          },
          "metadata": {
            "tags": [],
            "needs_background": "light"
          }
        }
      ]
    },
    {
      "cell_type": "code",
      "metadata": {
        "colab": {
          "base_uri": "https://localhost:8080/"
        },
        "id": "SHV9lsaAdQS0",
        "outputId": "78e63ef4-6684-4e57-df8a-30604fe29770"
      },
      "source": [
        "serving_model = model.create_serving_model()\n",
        "\n",
        "print(f'Model\\'s input shape and type: {serving_model.inputs}')\n",
        "print(f'Model\\'s output shape and type: {serving_model.outputs}')"
      ],
      "execution_count": 44,
      "outputs": [
        {
          "output_type": "stream",
          "text": [
            "Model's input shape and type: [<KerasTensor: shape=(None, 15600) dtype=float32 (created by layer 'audio')>]\n",
            "Model's output shape and type: [<KerasTensor: shape=(1, 521) dtype=float32 (created by layer 'keras_layer_2')>, <KerasTensor: shape=(1, 8) dtype=float32 (created by layer 'sequential_2')>]\n"
          ],
          "name": "stdout"
        }
      ]
    },
    {
      "cell_type": "code",
      "metadata": {
        "colab": {
          "base_uri": "https://localhost:8080/",
          "height": 369
        },
        "id": "rrK0XPVkeVqA",
        "outputId": "858107ec-52ac-43de-c92a-049dd5a8ffec"
      },
      "source": [
        "tf.keras.utils.plot_model(serving_model)"
      ],
      "execution_count": 16,
      "outputs": [
        {
          "output_type": "execute_result",
          "data": {
            "image/png": "[encoded data removed]",
            "text/plain": [
              "<IPython.core.display.Image object>"
            ]
          },
          "metadata": {
            "tags": []
          },
          "execution_count": 16
        }
      ]
    },
    {
      "cell_type": "code",
      "metadata": {
        "colab": {
          "base_uri": "https://localhost:8080/"
        },
        "id": "euOQ52Dyedpn",
        "outputId": "8bf4ef6e-4985-4378-f296-6dfecd87af96"
      },
      "source": [
        "serving_model.summary()"
      ],
      "execution_count": 17,
      "outputs": [
        {
          "output_type": "stream",
          "text": [
            "Model: \"model\"\n",
            "_________________________________________________________________\n",
            "Layer (type)                 Output Shape              Param #   \n",
            "=================================================================\n",
            "audio (InputLayer)           [(None, 15600)]           0         \n",
            "_________________________________________________________________\n",
            "tf.reshape (TFOpLambda)      (15600,)                  0         \n",
            "_________________________________________________________________\n",
            "keras_layer (KerasLayer)     [(1, 521), (1, 1024), (96 0         \n",
            "_________________________________________________________________\n",
            "sequential_1 (Sequential)    (None, 8)                 8200      \n",
            "=================================================================\n",
            "Total params: 8,200\n",
            "Trainable params: 8,200\n",
            "Non-trainable params: 0\n",
            "_________________________________________________________________\n"
          ],
          "name": "stdout"
        }
      ]
    },
    {
      "cell_type": "code",
      "metadata": {
        "colab": {
          "base_uri": "https://localhost:8080/"
        },
        "id": "x9I7HqpefHEX",
        "outputId": "679deda2-e26f-4b66-b128-c117d43ad5d4"
      },
      "source": [
        "saved_model_path = './yamnet_model_maker'\n",
        "serving_model.save(saved_model_path, include_optimizer=False)"
      ],
      "execution_count": 18,
      "outputs": [
        {
          "output_type": "stream",
          "text": [
            "WARNING:tensorflow:Compiled the loaded model, but the compiled metrics have yet to be built. `model.compile_metrics` will be empty until you train or evaluate the model.\n"
          ],
          "name": "stdout"
        },
        {
          "output_type": "stream",
          "text": [
            "WARNING:tensorflow:Compiled the loaded model, but the compiled metrics have yet to be built. `model.compile_metrics` will be empty until you train or evaluate the model.\n"
          ],
          "name": "stderr"
        },
        {
          "output_type": "stream",
          "text": [
            "INFO:tensorflow:Assets written to: ./yamnet_model_maker/assets\n"
          ],
          "name": "stdout"
        },
        {
          "output_type": "stream",
          "text": [
            "INFO:tensorflow:Assets written to: ./yamnet_model_maker/assets\n"
          ],
          "name": "stderr"
        }
      ]
    },
    {
      "cell_type": "code",
      "metadata": {
        "colab": {
          "base_uri": "https://localhost:8080/"
        },
        "id": "prJDWX53rAeT",
        "outputId": "cd77a522-3c9f-4953-bcfa-f0196035b9a2"
      },
      "source": [
        "model.export('./yamnet_model_maker_saved_model', export_format=[mm.ExportFormat.SAVED_MODEL, mm.ExportFormat.LABEL])"
      ],
      "execution_count": 27,
      "outputs": [
        {
          "output_type": "stream",
          "text": [
            "WARNING:tensorflow:Compiled the loaded model, but the compiled metrics have yet to be built. `model.compile_metrics` will be empty until you train or evaluate the model.\n"
          ],
          "name": "stdout"
        },
        {
          "output_type": "stream",
          "text": [
            "WARNING:tensorflow:Compiled the loaded model, but the compiled metrics have yet to be built. `model.compile_metrics` will be empty until you train or evaluate the model.\n"
          ],
          "name": "stderr"
        },
        {
          "output_type": "stream",
          "text": [
            "INFO:tensorflow:Assets written to: ./yamnet_model_maker_saved_model/saved_model/assets\n"
          ],
          "name": "stdout"
        },
        {
          "output_type": "stream",
          "text": [
            "INFO:tensorflow:Assets written to: ./yamnet_model_maker_saved_model/saved_model/assets\n"
          ],
          "name": "stderr"
        },
        {
          "output_type": "stream",
          "text": [
            "INFO:tensorflow:Saving labels in ./yamnet_model_maker_saved_model/labels.txt\n"
          ],
          "name": "stdout"
        },
        {
          "output_type": "stream",
          "text": [
            "INFO:tensorflow:Saving labels in ./yamnet_model_maker_saved_model/labels.txt\n"
          ],
          "name": "stderr"
        }
      ]
    },
    {
      "cell_type": "code",
      "metadata": {
        "id": "QFkXjNA_rTj1"
      },
      "source": [
        "reloaded_model = tf.saved_model.load('./yamnet_model_maker_saved_model/saved_model')\n",
        "#reloaded_model.summary()"
      ],
      "execution_count": 30,
      "outputs": []
    },
    {
      "cell_type": "code",
      "metadata": {
        "id": "UL0ZKyaWeiY6"
      },
      "source": [
        "# Use with TF 2.5.0 no quantization\n",
        "MODEL_PATH  = saved_model_path\n",
        "MODEL_SAVE_PATH = \"/content/yamnet_speech_commands.tflite\"\n",
        "converter = tf.lite.TFLiteConverter.from_saved_model(MODEL_PATH) #,signature_keys=['serving_default'])\n",
        "#converter.optimizations = [tf.lite.Optimize.DEFAULT]\n",
        "#converter.experimental_new_converter = True\n",
        "#converter.target_spec.supported_ops = [tf.lite.OpsSet.TFLITE_BUILTINS, tf.lite.OpsSet.SELECT_TF_OPS]\n",
        "\n",
        "tflite_model = converter.convert()\n",
        "with tf.io.gfile.GFile(MODEL_SAVE_PATH, 'wb') as f:\n",
        "  f.write(tflite_model)\n",
        "\n",
        "\n",
        "# OR \n",
        "'''\n",
        "models_path = '/content/yamnet_speech_commands'\n",
        "print(f'Exporing the TFLite model to {models_path}')\n",
        "\n",
        "model.export(models_path, tflite_filename='yamnet_speech_commands.tflite')\n",
        "'''"
      ],
      "execution_count": null,
      "outputs": []
    },
    {
      "cell_type": "markdown",
      "metadata": {
        "id": "U4adZ7jhsTsc"
      },
      "source": [
        "# Test recorded audio"
      ]
    },
    {
      "cell_type": "code",
      "metadata": {
        "id": "MoKp3zztykbN"
      },
      "source": [
        "!pip install -q tensorflow_io\n",
        "import tensorflow_io as tfio\n",
        "\n",
        "commands = []\n",
        "commands.append('down')\n",
        "commands.append('go')\n",
        "commands.append('left')\n",
        "commands.append('no')\n",
        "commands.append('right')\n",
        "commands.append('stop')\n",
        "commands.append('up')\n",
        "commands.append('yes')\n",
        "\n",
        "# Trancuate to 15600 length\n",
        "@tf.function\n",
        "def load_wav_16k_mono(filename):\n",
        "    \"\"\" read in a waveform file and convert to 16 kHz mono \"\"\"\n",
        "    file_contents = tf.io.read_file(filename)\n",
        "    wav, sample_rate = tf.audio.decode_wav(\n",
        "          file_contents,\n",
        "          desired_channels=1)\n",
        "    print(sample_rate)\n",
        "    wav = tf.squeeze(wav[:15600], axis=-1)\n",
        "    sample_rate = tf.cast(sample_rate, dtype=tf.int64)\n",
        "    wav = tfio.audio.resample(wav, rate_in=sample_rate, rate_out=16000)\n",
        "    return wav"
      ],
      "execution_count": 55,
      "outputs": []
    },
    {
      "cell_type": "code",
      "metadata": {
        "colab": {
          "base_uri": "https://localhost:8080/"
        },
        "id": "LijxZ8jQsdHt",
        "outputId": "0d7b3bb7-f280-444c-edcd-4485fdcb1c79"
      },
      "source": [
        "input = load_wav_16k_mono('/content/data/mini_speech_commands/right/012c8314_nohash_1.wav')\n",
        "print(type(input))\n",
        "print(input)"
      ],
      "execution_count": 69,
      "outputs": [
        {
          "output_type": "stream",
          "text": [
            "<class 'tensorflow.python.framework.ops.EagerTensor'>\n",
            "tf.Tensor(\n",
            "[ 3.7431949e-08 -1.0590634e-07  2.6209841e-07 ...  8.0896067e-03\n",
            "  7.8722648e-03  7.4156714e-03], shape=(15600,), dtype=float32)\n"
          ],
          "name": "stdout"
        }
      ]
    },
    {
      "cell_type": "code",
      "metadata": {
        "colab": {
          "base_uri": "https://localhost:8080/"
        },
        "id": "jAsMDO-mxhlb",
        "outputId": "837bc8de-335b-4005-dd09-8897c76485e4"
      },
      "source": [
        "yamnet_output, inference = serving_model(input)\n",
        "print(yamnet_output.shape)\n",
        "print()\n",
        "print(inference)\n",
        "print()\n",
        "print(commands[tf.argmax(inference[0])])"
      ],
      "execution_count": 70,
      "outputs": [
        {
          "output_type": "stream",
          "text": [
            "(1, 521)\n",
            "\n",
            "tf.Tensor(\n",
            "[[0.07235578 0.07828899 0.15939121 0.0986424  0.31707892 0.02337843\n",
            "  0.06460641 0.18625788]], shape=(1, 8), dtype=float32)\n",
            "\n",
            "right\n"
          ],
          "name": "stdout"
        }
      ]
    },
    {
      "cell_type": "code",
      "metadata": {
        "colab": {
          "base_uri": "https://localhost:8080/"
        },
        "id": "q5XR1mj0sA4b",
        "outputId": "ce3a7a78-1ae8-4a91-a1c4-c846b4dc0184"
      },
      "source": [
        "input_wav = input\n",
        "input_wav = tf.expand_dims(input_wav, 0)\n",
        "input_shape_size = input_wav.shape\n",
        "print(input_shape_size)\n",
        "interpreter = tf.lite.Interpreter(model_path=MODEL_SAVE_PATH)\n",
        "\n",
        "# Get input and output tensors.\n",
        "input_details = interpreter.get_input_details()\n",
        "output_details = interpreter.get_output_details()\n",
        "print(input_details)\n",
        "\n",
        "input_data = np.array(input_wav, dtype=np.float32)\n",
        "\n",
        "interpreter.allocate_tensors()\n",
        "interpreter.set_tensor(input_details[0]['index'], input_data)\n",
        "\n",
        "interpreter.invoke()\n",
        "\n",
        "# The function `get_tensor()` returns a copy of the tensor data.\n",
        "# Use `tensor()` in order to get a pointer to the tensor.\n",
        "output_data = interpreter.get_tensor(output_details[0]['index'])\n",
        "print(output_data[0])\n",
        "result = commands[tf.argmax(output_data[0])]\n",
        "print(f'The main sound is: {result}')"
      ],
      "execution_count": 71,
      "outputs": [
        {
          "output_type": "stream",
          "text": [
            "(1, 15600)\n",
            "[{'name': 'serving_default_audio:0', 'index': 0, 'shape': array([    1, 15600], dtype=int32), 'shape_signature': array([   -1, 15600], dtype=int32), 'dtype': <class 'numpy.float32'>, 'quantization': (0.0, 0), 'quantization_parameters': {'scales': array([], dtype=float32), 'zero_points': array([], dtype=int32), 'quantized_dimension': 0}, 'sparsity_parameters': {}}]\n",
            "[0.13727768 0.15146962 0.08809897 0.11533878 0.27667275 0.03862088\n",
            " 0.09041025 0.10211112]\n",
            "The main sound is: right\n"
          ],
          "name": "stdout"
        }
      ]
    },
    {
      "cell_type": "code",
      "metadata": {
        "id": "sM6jbUZ7tar0"
      },
      "source": [
        ""
      ],
      "execution_count": null,
      "outputs": []
    }
  ]
}