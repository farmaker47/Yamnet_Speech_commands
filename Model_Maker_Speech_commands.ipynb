{
  "nbformat": 4,
  "nbformat_minor": 0,
  "metadata": {
    "colab": {
      "name": "Model_Maker_Speech_commands.ipynb",
      "provenance": [],
      "collapsed_sections": []
    },
    "kernelspec": {
      "name": "python3",
      "display_name": "Python 3"
    },
    "language_info": {
      "name": "python"
    },
    "accelerator": "GPU"
  },
  "cells": [
    {
      "cell_type": "markdown",
      "metadata": {
        "id": "ZepmwYvfnGNw"
      },
      "source": [
        "## Intalling dependencies\n",
        "\n",
        "Model Maker for the Audio domain needs TensorFlow 2.5 to work."
      ]
    },
    {
      "cell_type": "code",
      "metadata": {
        "id": "dsAXoFscXKZm",
        "colab": {
          "base_uri": "https://localhost:8080/"
        },
        "outputId": "56c32528-326d-4e82-cf35-650dc1fa727e"
      },
      "source": [
        "! pip install tflite-model-maker"
      ],
      "execution_count": 1,
      "outputs": [
        {
          "output_type": "stream",
          "text": [
            "Collecting tflite-model-maker\n",
            "\u001b[?25l  Downloading https://files.pythonhosted.org/packages/29/dc/f74a8aa41a8b78dc57e6cf1acf0003b40753c8b73ce581532ceff1442aaf/tflite_model_maker-0.3.2-py3-none-any.whl (591kB)\n",
            "\r\u001b[K     |▌                               | 10kB 18.8MB/s eta 0:00:01\r\u001b[K     |█                               | 20kB 26.3MB/s eta 0:00:01\r\u001b[K     |█▋                              | 30kB 31.4MB/s eta 0:00:01\r\u001b[K     |██▏                             | 40kB 31.9MB/s eta 0:00:01\r\u001b[K     |██▊                             | 51kB 32.9MB/s eta 0:00:01\r\u001b[K     |███▎                            | 61kB 31.1MB/s eta 0:00:01\r\u001b[K     |███▉                            | 71kB 26.5MB/s eta 0:00:01\r\u001b[K     |████▍                           | 81kB 27.5MB/s eta 0:00:01\r\u001b[K     |█████                           | 92kB 26.5MB/s eta 0:00:01\r\u001b[K     |█████▌                          | 102kB 27.7MB/s eta 0:00:01\r\u001b[K     |██████                          | 112kB 27.7MB/s eta 0:00:01\r\u001b[K     |██████▋                         | 122kB 27.7MB/s eta 0:00:01\r\u001b[K     |███████▏                        | 133kB 27.7MB/s eta 0:00:01\r\u001b[K     |███████▊                        | 143kB 27.7MB/s eta 0:00:01\r\u001b[K     |████████▎                       | 153kB 27.7MB/s eta 0:00:01\r\u001b[K     |████████▉                       | 163kB 27.7MB/s eta 0:00:01\r\u001b[K     |█████████▍                      | 174kB 27.7MB/s eta 0:00:01\r\u001b[K     |██████████                      | 184kB 27.7MB/s eta 0:00:01\r\u001b[K     |██████████▌                     | 194kB 27.7MB/s eta 0:00:01\r\u001b[K     |███████████                     | 204kB 27.7MB/s eta 0:00:01\r\u001b[K     |███████████▋                    | 215kB 27.7MB/s eta 0:00:01\r\u001b[K     |████████████▏                   | 225kB 27.7MB/s eta 0:00:01\r\u001b[K     |████████████▊                   | 235kB 27.7MB/s eta 0:00:01\r\u001b[K     |█████████████▎                  | 245kB 27.7MB/s eta 0:00:01\r\u001b[K     |█████████████▉                  | 256kB 27.7MB/s eta 0:00:01\r\u001b[K     |██████████████▍                 | 266kB 27.7MB/s eta 0:00:01\r\u001b[K     |███████████████                 | 276kB 27.7MB/s eta 0:00:01\r\u001b[K     |███████████████▌                | 286kB 27.7MB/s eta 0:00:01\r\u001b[K     |████████████████                | 296kB 27.7MB/s eta 0:00:01\r\u001b[K     |████████████████▋               | 307kB 27.7MB/s eta 0:00:01\r\u001b[K     |█████████████████▏              | 317kB 27.7MB/s eta 0:00:01\r\u001b[K     |█████████████████▊              | 327kB 27.7MB/s eta 0:00:01\r\u001b[K     |██████████████████▎             | 337kB 27.7MB/s eta 0:00:01\r\u001b[K     |██████████████████▉             | 348kB 27.7MB/s eta 0:00:01\r\u001b[K     |███████████████████▍            | 358kB 27.7MB/s eta 0:00:01\r\u001b[K     |████████████████████            | 368kB 27.7MB/s eta 0:00:01\r\u001b[K     |████████████████████▌           | 378kB 27.7MB/s eta 0:00:01\r\u001b[K     |█████████████████████           | 389kB 27.7MB/s eta 0:00:01\r\u001b[K     |█████████████████████▋          | 399kB 27.7MB/s eta 0:00:01\r\u001b[K     |██████████████████████▏         | 409kB 27.7MB/s eta 0:00:01\r\u001b[K     |██████████████████████▊         | 419kB 27.7MB/s eta 0:00:01\r\u001b[K     |███████████████████████▎        | 430kB 27.7MB/s eta 0:00:01\r\u001b[K     |███████████████████████▉        | 440kB 27.7MB/s eta 0:00:01\r\u001b[K     |████████████████████████▍       | 450kB 27.7MB/s eta 0:00:01\r\u001b[K     |█████████████████████████       | 460kB 27.7MB/s eta 0:00:01\r\u001b[K     |█████████████████████████▌      | 471kB 27.7MB/s eta 0:00:01\r\u001b[K     |██████████████████████████      | 481kB 27.7MB/s eta 0:00:01\r\u001b[K     |██████████████████████████▋     | 491kB 27.7MB/s eta 0:00:01\r\u001b[K     |███████████████████████████▏    | 501kB 27.7MB/s eta 0:00:01\r\u001b[K     |███████████████████████████▊    | 512kB 27.7MB/s eta 0:00:01\r\u001b[K     |████████████████████████████▎   | 522kB 27.7MB/s eta 0:00:01\r\u001b[K     |████████████████████████████▉   | 532kB 27.7MB/s eta 0:00:01\r\u001b[K     |█████████████████████████████▍  | 542kB 27.7MB/s eta 0:00:01\r\u001b[K     |██████████████████████████████  | 552kB 27.7MB/s eta 0:00:01\r\u001b[K     |██████████████████████████████▌ | 563kB 27.7MB/s eta 0:00:01\r\u001b[K     |███████████████████████████████ | 573kB 27.7MB/s eta 0:00:01\r\u001b[K     |███████████████████████████████▋| 583kB 27.7MB/s eta 0:00:01\r\u001b[K     |████████████████████████████████| 593kB 27.7MB/s \n",
            "\u001b[?25hRequirement already satisfied: pillow>=7.0.0 in /usr/local/lib/python3.7/dist-packages (from tflite-model-maker) (7.1.2)\n",
            "Requirement already satisfied: six>=1.12.0 in /usr/local/lib/python3.7/dist-packages (from tflite-model-maker) (1.15.0)\n",
            "Collecting neural-structured-learning>=1.3.1\n",
            "\u001b[?25l  Downloading https://files.pythonhosted.org/packages/8a/23/179e6b7555000de51d9a317e9e47db84cda0180c941cfbf14775925af611/neural_structured_learning-1.3.1-py2.py3-none-any.whl (120kB)\n",
            "\u001b[K     |████████████████████████████████| 122kB 37.8MB/s \n",
            "\u001b[?25hRequirement already satisfied: tensorflow>=2.4.0 in /usr/local/lib/python3.7/dist-packages (from tflite-model-maker) (2.5.0)\n",
            "Requirement already satisfied: tensorflow-datasets>=2.1.0 in /usr/local/lib/python3.7/dist-packages (from tflite-model-maker) (4.0.1)\n",
            "Requirement already satisfied: Cython>=0.29.13 in /usr/local/lib/python3.7/dist-packages (from tflite-model-maker) (0.29.23)\n",
            "Collecting tensorflowjs>=2.4.0\n",
            "\u001b[?25l  Downloading https://files.pythonhosted.org/packages/51/19/5ab51223cb178ab0f44fbc2ac494d015da135c70603a13eecb2328a59000/tensorflowjs-3.7.0-py3-none-any.whl (64kB)\n",
            "\u001b[K     |████████████████████████████████| 71kB 10.4MB/s \n",
            "\u001b[?25hCollecting tf-models-official==2.3.0\n",
            "\u001b[?25l  Downloading https://files.pythonhosted.org/packages/5b/33/91e5e90e3e96292717245d3fe87eb3b35b07c8a2113f2da7f482040facdb/tf_models_official-2.3.0-py2.py3-none-any.whl (840kB)\n",
            "\u001b[K     |████████████████████████████████| 849kB 50.5MB/s \n",
            "\u001b[?25hCollecting sentencepiece>=0.1.91\n",
            "\u001b[?25l  Downloading https://files.pythonhosted.org/packages/f5/99/e0808cb947ba10f575839c43e8fafc9cc44e4a7a2c8f79c60db48220a577/sentencepiece-0.1.95-cp37-cp37m-manylinux2014_x86_64.whl (1.2MB)\n",
            "\u001b[K     |████████████████████████████████| 1.2MB 51.4MB/s \n",
            "\u001b[?25hCollecting PyYAML>=5.1\n",
            "\u001b[?25l  Downloading https://files.pythonhosted.org/packages/7a/a5/393c087efdc78091afa2af9f1378762f9821c9c1d7a22c5753fb5ac5f97a/PyYAML-5.4.1-cp37-cp37m-manylinux1_x86_64.whl (636kB)\n",
            "\u001b[K     |████████████████████████████████| 645kB 51.6MB/s \n",
            "\u001b[?25hCollecting tensorflow-addons>=0.11.2\n",
            "\u001b[?25l  Downloading https://files.pythonhosted.org/packages/66/4b/e893d194e626c24b3df2253066aa418f46a432fdb68250cde14bf9bb0700/tensorflow_addons-0.13.0-cp37-cp37m-manylinux2010_x86_64.whl (679kB)\n",
            "\u001b[K     |████████████████████████████████| 686kB 45.6MB/s \n",
            "\u001b[?25hRequirement already satisfied: flatbuffers==1.12 in /usr/local/lib/python3.7/dist-packages (from tflite-model-maker) (1.12)\n",
            "Requirement already satisfied: absl-py>=0.10.0 in /usr/local/lib/python3.7/dist-packages (from tflite-model-maker) (0.12.0)\n",
            "Collecting tflite-support>=0.1.0rc4\n",
            "\u001b[?25l  Downloading https://files.pythonhosted.org/packages/90/3b/5e0d9cd967aaa564e3c24b86ef2eda0df40b1500949282d952e8e59a0063/tflite_support-0.2.0-cp37-cp37m-manylinux_2_12_x86_64.manylinux2010_x86_64.whl (1.1MB)\n",
            "\u001b[K     |████████████████████████████████| 1.1MB 51.4MB/s \n",
            "\u001b[?25hCollecting tensorflow-model-optimization>=0.5\n",
            "\u001b[?25l  Downloading https://files.pythonhosted.org/packages/55/38/4fd48ea1bfcb0b6e36d949025200426fe9c3a8bfae029f0973d85518fa5a/tensorflow_model_optimization-0.5.0-py2.py3-none-any.whl (172kB)\n",
            "\u001b[K     |████████████████████████████████| 174kB 58.0MB/s \n",
            "\u001b[?25hRequirement already satisfied: urllib3!=1.25.0,!=1.25.1,<1.26,>=1.21.1 in /usr/local/lib/python3.7/dist-packages (from tflite-model-maker) (1.24.3)\n",
            "Requirement already satisfied: numpy>=1.17.3 in /usr/local/lib/python3.7/dist-packages (from tflite-model-maker) (1.19.5)\n",
            "Requirement already satisfied: librosa>=0.5 in /usr/local/lib/python3.7/dist-packages (from tflite-model-maker) (0.8.1)\n",
            "Collecting lxml>=4.6.1\n",
            "\u001b[?25l  Downloading https://files.pythonhosted.org/packages/30/c0/d0526314971fc661b083ab135747dc68446a3022686da8c16d25fcf6ef07/lxml-4.6.3-cp37-cp37m-manylinux2014_x86_64.whl (6.3MB)\n",
            "\u001b[K     |████████████████████████████████| 6.3MB 47.5MB/s \n",
            "\u001b[?25hCollecting tensorflow-hub<0.10>=0.8.0\n",
            "\u001b[?25l  Downloading https://files.pythonhosted.org/packages/ac/83/a7df82744a794107641dad1decaad017d82e25f0e1f761ac9204829eef96/tensorflow_hub-0.9.0-py2.py3-none-any.whl (103kB)\n",
            "\u001b[K     |████████████████████████████████| 112kB 59.0MB/s \n",
            "\u001b[?25hCollecting fire>=0.3.1\n",
            "\u001b[?25l  Downloading https://files.pythonhosted.org/packages/11/07/a119a1aa04d37bc819940d95ed7e135a7dcca1c098123a3764a6dcace9e7/fire-0.4.0.tar.gz (87kB)\n",
            "\u001b[K     |████████████████████████████████| 92kB 13.6MB/s \n",
            "\u001b[?25hRequirement already satisfied: matplotlib>=3.0.3 in /usr/local/lib/python3.7/dist-packages (from tflite-model-maker) (3.2.2)\n",
            "Requirement already satisfied: scipy in /usr/local/lib/python3.7/dist-packages (from neural-structured-learning>=1.3.1->tflite-model-maker) (1.4.1)\n",
            "Requirement already satisfied: attrs in /usr/local/lib/python3.7/dist-packages (from neural-structured-learning>=1.3.1->tflite-model-maker) (21.2.0)\n",
            "Requirement already satisfied: gast==0.4.0 in /usr/local/lib/python3.7/dist-packages (from tensorflow>=2.4.0->tflite-model-maker) (0.4.0)\n",
            "Requirement already satisfied: tensorboard~=2.5 in /usr/local/lib/python3.7/dist-packages (from tensorflow>=2.4.0->tflite-model-maker) (2.5.0)\n",
            "Requirement already satisfied: wheel~=0.35 in /usr/local/lib/python3.7/dist-packages (from tensorflow>=2.4.0->tflite-model-maker) (0.36.2)\n",
            "Requirement already satisfied: astunparse~=1.6.3 in /usr/local/lib/python3.7/dist-packages (from tensorflow>=2.4.0->tflite-model-maker) (1.6.3)\n",
            "Requirement already satisfied: keras-preprocessing~=1.1.2 in /usr/local/lib/python3.7/dist-packages (from tensorflow>=2.4.0->tflite-model-maker) (1.1.2)\n",
            "Requirement already satisfied: termcolor~=1.1.0 in /usr/local/lib/python3.7/dist-packages (from tensorflow>=2.4.0->tflite-model-maker) (1.1.0)\n",
            "Requirement already satisfied: opt-einsum~=3.3.0 in /usr/local/lib/python3.7/dist-packages (from tensorflow>=2.4.0->tflite-model-maker) (3.3.0)\n",
            "Requirement already satisfied: keras-nightly~=2.5.0.dev in /usr/local/lib/python3.7/dist-packages (from tensorflow>=2.4.0->tflite-model-maker) (2.5.0.dev2021032900)\n",
            "Requirement already satisfied: wrapt~=1.12.1 in /usr/local/lib/python3.7/dist-packages (from tensorflow>=2.4.0->tflite-model-maker) (1.12.1)\n",
            "Requirement already satisfied: typing-extensions~=3.7.4 in /usr/local/lib/python3.7/dist-packages (from tensorflow>=2.4.0->tflite-model-maker) (3.7.4.3)\n",
            "Requirement already satisfied: tensorflow-estimator<2.6.0,>=2.5.0rc0 in /usr/local/lib/python3.7/dist-packages (from tensorflow>=2.4.0->tflite-model-maker) (2.5.0)\n",
            "Requirement already satisfied: grpcio~=1.34.0 in /usr/local/lib/python3.7/dist-packages (from tensorflow>=2.4.0->tflite-model-maker) (1.34.1)\n",
            "Requirement already satisfied: h5py~=3.1.0 in /usr/local/lib/python3.7/dist-packages (from tensorflow>=2.4.0->tflite-model-maker) (3.1.0)\n",
            "Requirement already satisfied: protobuf>=3.9.2 in /usr/local/lib/python3.7/dist-packages (from tensorflow>=2.4.0->tflite-model-maker) (3.12.4)\n",
            "Requirement already satisfied: google-pasta~=0.2 in /usr/local/lib/python3.7/dist-packages (from tensorflow>=2.4.0->tflite-model-maker) (0.2.0)\n",
            "Requirement already satisfied: dm-tree in /usr/local/lib/python3.7/dist-packages (from tensorflow-datasets>=2.1.0->tflite-model-maker) (0.1.6)\n",
            "Requirement already satisfied: promise in /usr/local/lib/python3.7/dist-packages (from tensorflow-datasets>=2.1.0->tflite-model-maker) (2.3)\n",
            "Requirement already satisfied: requests>=2.19.0 in /usr/local/lib/python3.7/dist-packages (from tensorflow-datasets>=2.1.0->tflite-model-maker) (2.23.0)\n",
            "Requirement already satisfied: tqdm in /usr/local/lib/python3.7/dist-packages (from tensorflow-datasets>=2.1.0->tflite-model-maker) (4.41.1)\n",
            "Requirement already satisfied: importlib-resources; python_version < \"3.9\" in /usr/local/lib/python3.7/dist-packages (from tensorflow-datasets>=2.1.0->tflite-model-maker) (5.1.4)\n",
            "Requirement already satisfied: dill in /usr/local/lib/python3.7/dist-packages (from tensorflow-datasets>=2.1.0->tflite-model-maker) (0.3.3)\n",
            "Requirement already satisfied: tensorflow-metadata in /usr/local/lib/python3.7/dist-packages (from tensorflow-datasets>=2.1.0->tflite-model-maker) (1.0.0)\n",
            "Requirement already satisfied: future in /usr/local/lib/python3.7/dist-packages (from tensorflow-datasets>=2.1.0->tflite-model-maker) (0.16.0)\n",
            "Requirement already satisfied: google-api-python-client>=1.6.7 in /usr/local/lib/python3.7/dist-packages (from tf-models-official==2.3.0->tflite-model-maker) (1.12.8)\n",
            "Collecting dataclasses\n",
            "  Downloading https://files.pythonhosted.org/packages/26/2f/1095cdc2868052dd1e64520f7c0d5c8c550ad297e944e641dbf1ffbb9a5d/dataclasses-0.6-py3-none-any.whl\n",
            "Collecting opencv-python-headless\n",
            "\u001b[?25l  Downloading https://files.pythonhosted.org/packages/c3/35/bfc76533f2274cd3da4e2cf255cd13ab9d7f6fc8990c06911e7f8fcc2130/opencv_python_headless-4.5.2.54-cp37-cp37m-manylinux2014_x86_64.whl (38.2MB)\n",
            "\u001b[K     |████████████████████████████████| 38.2MB 78kB/s \n",
            "\u001b[?25hRequirement already satisfied: pandas>=0.22.0 in /usr/local/lib/python3.7/dist-packages (from tf-models-official==2.3.0->tflite-model-maker) (1.1.5)\n",
            "Collecting py-cpuinfo>=3.3.0\n",
            "\u001b[?25l  Downloading https://files.pythonhosted.org/packages/e6/ba/77120e44cbe9719152415b97d5bfb29f4053ee987d6cb63f55ce7d50fadc/py-cpuinfo-8.0.0.tar.gz (99kB)\n",
            "\u001b[K     |████████████████████████████████| 102kB 12.4MB/s \n",
            "\u001b[?25hRequirement already satisfied: kaggle>=1.3.9 in /usr/local/lib/python3.7/dist-packages (from tf-models-official==2.3.0->tflite-model-maker) (1.5.12)\n",
            "Requirement already satisfied: psutil>=5.4.3 in /usr/local/lib/python3.7/dist-packages (from tf-models-official==2.3.0->tflite-model-maker) (5.4.8)\n",
            "Collecting tf-slim>=1.1.0\n",
            "\u001b[?25l  Downloading https://files.pythonhosted.org/packages/02/97/b0f4a64df018ca018cc035d44f2ef08f91e2e8aa67271f6f19633a015ff7/tf_slim-1.1.0-py2.py3-none-any.whl (352kB)\n",
            "\u001b[K     |████████████████████████████████| 358kB 48.9MB/s \n",
            "\u001b[?25hRequirement already satisfied: google-cloud-bigquery>=0.31.0 in /usr/local/lib/python3.7/dist-packages (from tf-models-official==2.3.0->tflite-model-maker) (1.21.0)\n",
            "Requirement already satisfied: gin-config in /usr/local/lib/python3.7/dist-packages (from tf-models-official==2.3.0->tflite-model-maker) (0.4.0)\n",
            "Requirement already satisfied: typeguard>=2.7 in /usr/local/lib/python3.7/dist-packages (from tensorflow-addons>=0.11.2->tflite-model-maker) (2.7.1)\n",
            "Collecting pybind11>=2.6.0\n",
            "\u001b[?25l  Downloading https://files.pythonhosted.org/packages/8d/43/7339dbabbc2793718d59703aace4166f53c29ee1c202f6ff5bf8a26c4d91/pybind11-2.6.2-py2.py3-none-any.whl (191kB)\n",
            "\u001b[K     |████████████████████████████████| 194kB 55.7MB/s \n",
            "\u001b[?25hRequirement already satisfied: joblib>=0.14 in /usr/local/lib/python3.7/dist-packages (from librosa>=0.5->tflite-model-maker) (1.0.1)\n",
            "Requirement already satisfied: numba>=0.43.0 in /usr/local/lib/python3.7/dist-packages (from librosa>=0.5->tflite-model-maker) (0.51.2)\n",
            "Requirement already satisfied: resampy>=0.2.2 in /usr/local/lib/python3.7/dist-packages (from librosa>=0.5->tflite-model-maker) (0.2.2)\n",
            "Requirement already satisfied: audioread>=2.0.0 in /usr/local/lib/python3.7/dist-packages (from librosa>=0.5->tflite-model-maker) (2.1.9)\n",
            "Requirement already satisfied: scikit-learn!=0.19.0,>=0.14.0 in /usr/local/lib/python3.7/dist-packages (from librosa>=0.5->tflite-model-maker) (0.22.2.post1)\n",
            "Requirement already satisfied: pooch>=1.0 in /usr/local/lib/python3.7/dist-packages (from librosa>=0.5->tflite-model-maker) (1.4.0)\n",
            "Requirement already satisfied: soundfile>=0.10.2 in /usr/local/lib/python3.7/dist-packages (from librosa>=0.5->tflite-model-maker) (0.10.3.post1)\n",
            "Requirement already satisfied: packaging>=20.0 in /usr/local/lib/python3.7/dist-packages (from librosa>=0.5->tflite-model-maker) (20.9)\n",
            "Requirement already satisfied: decorator>=3.0.0 in /usr/local/lib/python3.7/dist-packages (from librosa>=0.5->tflite-model-maker) (4.4.2)\n",
            "Requirement already satisfied: python-dateutil>=2.1 in /usr/local/lib/python3.7/dist-packages (from matplotlib>=3.0.3->tflite-model-maker) (2.8.1)\n",
            "Requirement already satisfied: cycler>=0.10 in /usr/local/lib/python3.7/dist-packages (from matplotlib>=3.0.3->tflite-model-maker) (0.10.0)\n",
            "Requirement already satisfied: pyparsing!=2.0.4,!=2.1.2,!=2.1.6,>=2.0.1 in /usr/local/lib/python3.7/dist-packages (from matplotlib>=3.0.3->tflite-model-maker) (2.4.7)\n",
            "Requirement already satisfied: kiwisolver>=1.0.1 in /usr/local/lib/python3.7/dist-packages (from matplotlib>=3.0.3->tflite-model-maker) (1.3.1)\n",
            "Requirement already satisfied: google-auth-oauthlib<0.5,>=0.4.1 in /usr/local/lib/python3.7/dist-packages (from tensorboard~=2.5->tensorflow>=2.4.0->tflite-model-maker) (0.4.4)\n",
            "Requirement already satisfied: tensorboard-data-server<0.7.0,>=0.6.0 in /usr/local/lib/python3.7/dist-packages (from tensorboard~=2.5->tensorflow>=2.4.0->tflite-model-maker) (0.6.1)\n",
            "Requirement already satisfied: tensorboard-plugin-wit>=1.6.0 in /usr/local/lib/python3.7/dist-packages (from tensorboard~=2.5->tensorflow>=2.4.0->tflite-model-maker) (1.8.0)\n",
            "Requirement already satisfied: setuptools>=41.0.0 in /usr/local/lib/python3.7/dist-packages (from tensorboard~=2.5->tensorflow>=2.4.0->tflite-model-maker) (57.0.0)\n",
            "Requirement already satisfied: google-auth<2,>=1.6.3 in /usr/local/lib/python3.7/dist-packages (from tensorboard~=2.5->tensorflow>=2.4.0->tflite-model-maker) (1.31.0)\n",
            "Requirement already satisfied: werkzeug>=0.11.15 in /usr/local/lib/python3.7/dist-packages (from tensorboard~=2.5->tensorflow>=2.4.0->tflite-model-maker) (1.0.1)\n",
            "Requirement already satisfied: markdown>=2.6.8 in /usr/local/lib/python3.7/dist-packages (from tensorboard~=2.5->tensorflow>=2.4.0->tflite-model-maker) (3.3.4)\n",
            "Requirement already satisfied: cached-property; python_version < \"3.8\" in /usr/local/lib/python3.7/dist-packages (from h5py~=3.1.0->tensorflow>=2.4.0->tflite-model-maker) (1.5.2)\n",
            "Requirement already satisfied: chardet<4,>=3.0.2 in /usr/local/lib/python3.7/dist-packages (from requests>=2.19.0->tensorflow-datasets>=2.1.0->tflite-model-maker) (3.0.4)\n",
            "Requirement already satisfied: idna<3,>=2.5 in /usr/local/lib/python3.7/dist-packages (from requests>=2.19.0->tensorflow-datasets>=2.1.0->tflite-model-maker) (2.10)\n",
            "Requirement already satisfied: certifi>=2017.4.17 in /usr/local/lib/python3.7/dist-packages (from requests>=2.19.0->tensorflow-datasets>=2.1.0->tflite-model-maker) (2021.5.30)\n",
            "Requirement already satisfied: zipp>=3.1.0; python_version < \"3.10\" in /usr/local/lib/python3.7/dist-packages (from importlib-resources; python_version < \"3.9\"->tensorflow-datasets>=2.1.0->tflite-model-maker) (3.4.1)\n",
            "Requirement already satisfied: googleapis-common-protos<2,>=1.52.0 in /usr/local/lib/python3.7/dist-packages (from tensorflow-metadata->tensorflow-datasets>=2.1.0->tflite-model-maker) (1.53.0)\n",
            "Requirement already satisfied: uritemplate<4dev,>=3.0.0 in /usr/local/lib/python3.7/dist-packages (from google-api-python-client>=1.6.7->tf-models-official==2.3.0->tflite-model-maker) (3.0.1)\n",
            "Requirement already satisfied: google-auth-httplib2>=0.0.3 in /usr/local/lib/python3.7/dist-packages (from google-api-python-client>=1.6.7->tf-models-official==2.3.0->tflite-model-maker) (0.0.4)\n",
            "Requirement already satisfied: httplib2<1dev,>=0.15.0 in /usr/local/lib/python3.7/dist-packages (from google-api-python-client>=1.6.7->tf-models-official==2.3.0->tflite-model-maker) (0.17.4)\n",
            "Requirement already satisfied: google-api-core<2dev,>=1.21.0 in /usr/local/lib/python3.7/dist-packages (from google-api-python-client>=1.6.7->tf-models-official==2.3.0->tflite-model-maker) (1.26.3)\n",
            "Requirement already satisfied: pytz>=2017.2 in /usr/local/lib/python3.7/dist-packages (from pandas>=0.22.0->tf-models-official==2.3.0->tflite-model-maker) (2018.9)\n",
            "Requirement already satisfied: python-slugify in /usr/local/lib/python3.7/dist-packages (from kaggle>=1.3.9->tf-models-official==2.3.0->tflite-model-maker) (5.0.2)\n",
            "Requirement already satisfied: google-cloud-core<2.0dev,>=1.0.3 in /usr/local/lib/python3.7/dist-packages (from google-cloud-bigquery>=0.31.0->tf-models-official==2.3.0->tflite-model-maker) (1.0.3)\n",
            "Requirement already satisfied: google-resumable-media!=0.4.0,<0.5.0dev,>=0.3.1 in /usr/local/lib/python3.7/dist-packages (from google-cloud-bigquery>=0.31.0->tf-models-official==2.3.0->tflite-model-maker) (0.4.1)\n",
            "Requirement already satisfied: llvmlite<0.35,>=0.34.0.dev0 in /usr/local/lib/python3.7/dist-packages (from numba>=0.43.0->librosa>=0.5->tflite-model-maker) (0.34.0)\n",
            "Requirement already satisfied: appdirs in /usr/local/lib/python3.7/dist-packages (from pooch>=1.0->librosa>=0.5->tflite-model-maker) (1.4.4)\n",
            "Requirement already satisfied: cffi>=1.0 in /usr/local/lib/python3.7/dist-packages (from soundfile>=0.10.2->librosa>=0.5->tflite-model-maker) (1.14.5)\n",
            "Requirement already satisfied: requests-oauthlib>=0.7.0 in /usr/local/lib/python3.7/dist-packages (from google-auth-oauthlib<0.5,>=0.4.1->tensorboard~=2.5->tensorflow>=2.4.0->tflite-model-maker) (1.3.0)\n",
            "Requirement already satisfied: pyasn1-modules>=0.2.1 in /usr/local/lib/python3.7/dist-packages (from google-auth<2,>=1.6.3->tensorboard~=2.5->tensorflow>=2.4.0->tflite-model-maker) (0.2.8)\n",
            "Requirement already satisfied: cachetools<5.0,>=2.0.0 in /usr/local/lib/python3.7/dist-packages (from google-auth<2,>=1.6.3->tensorboard~=2.5->tensorflow>=2.4.0->tflite-model-maker) (4.2.2)\n",
            "Requirement already satisfied: rsa<5,>=3.1.4; python_version >= \"3.6\" in /usr/local/lib/python3.7/dist-packages (from google-auth<2,>=1.6.3->tensorboard~=2.5->tensorflow>=2.4.0->tflite-model-maker) (4.7.2)\n",
            "Requirement already satisfied: importlib-metadata; python_version < \"3.8\" in /usr/local/lib/python3.7/dist-packages (from markdown>=2.6.8->tensorboard~=2.5->tensorflow>=2.4.0->tflite-model-maker) (4.5.0)\n",
            "Requirement already satisfied: text-unidecode>=1.3 in /usr/local/lib/python3.7/dist-packages (from python-slugify->kaggle>=1.3.9->tf-models-official==2.3.0->tflite-model-maker) (1.3)\n",
            "Requirement already satisfied: pycparser in /usr/local/lib/python3.7/dist-packages (from cffi>=1.0->soundfile>=0.10.2->librosa>=0.5->tflite-model-maker) (2.20)\n",
            "Requirement already satisfied: oauthlib>=3.0.0 in /usr/local/lib/python3.7/dist-packages (from requests-oauthlib>=0.7.0->google-auth-oauthlib<0.5,>=0.4.1->tensorboard~=2.5->tensorflow>=2.4.0->tflite-model-maker) (3.1.1)\n",
            "Requirement already satisfied: pyasn1<0.5.0,>=0.4.6 in /usr/local/lib/python3.7/dist-packages (from pyasn1-modules>=0.2.1->google-auth<2,>=1.6.3->tensorboard~=2.5->tensorflow>=2.4.0->tflite-model-maker) (0.4.8)\n",
            "Building wheels for collected packages: fire, py-cpuinfo\n",
            "  Building wheel for fire (setup.py) ... \u001b[?25l\u001b[?25hdone\n",
            "  Created wheel for fire: filename=fire-0.4.0-py2.py3-none-any.whl size=115943 sha256=42c0f1405f9ac2030b24de1f30a3c5eac76bb65b766c9d0169003de17a152dff\n",
            "  Stored in directory: /root/.cache/pip/wheels/af/19/30/1ea0cad502dcb4e66ed5a690279628c827aea38bbbab75d5ed\n",
            "  Building wheel for py-cpuinfo (setup.py) ... \u001b[?25l\u001b[?25hdone\n",
            "  Created wheel for py-cpuinfo: filename=py_cpuinfo-8.0.0-cp37-none-any.whl size=22258 sha256=e3c7a5528064df95a35883f2aa8077152f519df7bfa1daaae7e6f06fd49ac501\n",
            "  Stored in directory: /root/.cache/pip/wheels/2e/15/f5/aa2a056d223903b52cf4870134e3a01df0c723816835dd08db\n",
            "Successfully built fire py-cpuinfo\n",
            "Installing collected packages: neural-structured-learning, tensorflow-hub, tensorflowjs, sentencepiece, tensorflow-addons, dataclasses, opencv-python-headless, tensorflow-model-optimization, PyYAML, py-cpuinfo, tf-slim, tf-models-official, pybind11, tflite-support, lxml, fire, tflite-model-maker\n",
            "  Found existing installation: tensorflow-hub 0.12.0\n",
            "    Uninstalling tensorflow-hub-0.12.0:\n",
            "      Successfully uninstalled tensorflow-hub-0.12.0\n",
            "  Found existing installation: PyYAML 3.13\n",
            "    Uninstalling PyYAML-3.13:\n",
            "      Successfully uninstalled PyYAML-3.13\n",
            "  Found existing installation: lxml 4.2.6\n",
            "    Uninstalling lxml-4.2.6:\n",
            "      Successfully uninstalled lxml-4.2.6\n",
            "Successfully installed PyYAML-5.4.1 dataclasses-0.6 fire-0.4.0 lxml-4.6.3 neural-structured-learning-1.3.1 opencv-python-headless-4.5.2.54 py-cpuinfo-8.0.0 pybind11-2.6.2 sentencepiece-0.1.95 tensorflow-addons-0.13.0 tensorflow-hub-0.9.0 tensorflow-model-optimization-0.5.0 tensorflowjs-3.7.0 tf-models-official-2.3.0 tf-slim-1.1.0 tflite-model-maker-0.3.2 tflite-support-0.2.0\n"
          ],
          "name": "stdout"
        }
      ]
    },
    {
      "cell_type": "code",
      "metadata": {
        "colab": {
          "base_uri": "https://localhost:8080/"
        },
        "id": "p4kwwpvyXjhg",
        "outputId": "bec22770-0ccc-4afa-9ada-0df54666030c"
      },
      "source": [
        "import tensorflow as tf\n",
        "import tflite_model_maker as mm\n",
        "from tflite_model_maker import audio_classifier\n",
        "import os\n",
        "import pathlib\n",
        "\n",
        "import numpy as np\n",
        "import matplotlib.pyplot as plt\n",
        "import seaborn as sns\n",
        "\n",
        "import itertools\n",
        "import glob\n",
        "import random\n",
        "\n",
        "from IPython.display import Audio, Image\n",
        "from scipy.io import wavfile\n",
        "\n",
        "print(f\"TensorFlow Version: {tf.__version__}\")\n",
        "print(f\"Model Maker Version: {mm.__version__}\")"
      ],
      "execution_count": 2,
      "outputs": [
        {
          "output_type": "stream",
          "text": [
            "TensorFlow Version: 2.5.0\n",
            "Model Maker Version: 0.3.2\n"
          ],
          "name": "stdout"
        }
      ]
    },
    {
      "cell_type": "code",
      "metadata": {
        "colab": {
          "base_uri": "https://localhost:8080/"
        },
        "id": "zGgLhHVGXu4h",
        "outputId": "95c07cd1-862d-4de1-e2d1-072301caefe6"
      },
      "source": [
        "!nvidia-smi"
      ],
      "execution_count": 3,
      "outputs": [
        {
          "output_type": "stream",
          "text": [
            "Fri Jun 18 05:35:55 2021       \n",
            "+-----------------------------------------------------------------------------+\n",
            "| NVIDIA-SMI 465.27       Driver Version: 460.32.03    CUDA Version: 11.2     |\n",
            "|-------------------------------+----------------------+----------------------+\n",
            "| GPU  Name        Persistence-M| Bus-Id        Disp.A | Volatile Uncorr. ECC |\n",
            "| Fan  Temp  Perf  Pwr:Usage/Cap|         Memory-Usage | GPU-Util  Compute M. |\n",
            "|                               |                      |               MIG M. |\n",
            "|===============================+======================+======================|\n",
            "|   0  Tesla T4            Off  | 00000000:00:04.0 Off |                    0 |\n",
            "| N/A   58C    P8    10W /  70W |      0MiB / 15109MiB |      0%      Default |\n",
            "|                               |                      |                  N/A |\n",
            "+-------------------------------+----------------------+----------------------+\n",
            "                                                                               \n",
            "+-----------------------------------------------------------------------------+\n",
            "| Processes:                                                                  |\n",
            "|  GPU   GI   CI        PID   Type   Process name                  GPU Memory |\n",
            "|        ID   ID                                                   Usage      |\n",
            "|=============================================================================|\n",
            "|  No running processes found                                                 |\n",
            "+-----------------------------------------------------------------------------+\n"
          ],
          "name": "stdout"
        }
      ]
    },
    {
      "cell_type": "code",
      "metadata": {
        "colab": {
          "base_uri": "https://localhost:8080/"
        },
        "id": "D8bvVAMbX6zj",
        "outputId": "80474b5f-1243-47a9-9dbe-f02080133031"
      },
      "source": [
        "# Download folder and unzip it\n",
        "data_dir = pathlib.Path('data/mini_speech_commands')\n",
        "if not data_dir.exists():\n",
        "  tf.keras.utils.get_file(\n",
        "      'mini_speech_commands.zip',\n",
        "      origin=\"http://storage.googleapis.com/download.tensorflow.org/data/mini_speech_commands.zip\",\n",
        "      extract=True,\n",
        "      cache_dir='.', cache_subdir='data')"
      ],
      "execution_count": 4,
      "outputs": [
        {
          "output_type": "stream",
          "text": [
            "Downloading data from http://storage.googleapis.com/download.tensorflow.org/data/mini_speech_commands.zip\n",
            "182083584/182082353 [==============================] - 1s 0us/step\n"
          ],
          "name": "stdout"
        }
      ]
    },
    {
      "cell_type": "markdown",
      "metadata": {
        "id": "glVyfkmFYoQU"
      },
      "source": [
        "## Training the Model\n",
        "\n",
        "When using Model Maker for audio, you have to start with a model spec. This is the base model that your new model will extract information to learn about the new classes. It also affects how the dataset will be transformed to respect the models spec parameters like: sample rate, number of channels.\n",
        "\n",
        "[YAMNet](https://tfhub.dev/google/yamnet/1) is an audio event classifier trained on the AudioSet dataset to predict audio events from the AudioSet ontology.\n",
        "\n",
        "It's input is expected to be at 16kHz and with 1 channel.\n",
        "\n",
        "You don't need to do any resampling yourself. Model Maker takes care of that for you.\n",
        "\n",
        "- `frame_length` is to decide how long each traininng sample is. in this case EXPECTED_WAVEFORM_LENGTH * 1s\n",
        "\n",
        "- `frame_steps` is to decide how far appart are the training samples. In this case, the ith sample will start at EXPECTED_WAVEFORM_LENGTH * 1s after the (i-1)th sample.\n",
        "\n",
        "The reason to set these values is to work around some limitation in real world dataset.\n",
        "\n"
      ]
    },
    {
      "cell_type": "code",
      "metadata": {
        "colab": {
          "base_uri": "https://localhost:8080/"
        },
        "id": "oyjCavIRYBRc",
        "outputId": "064c8ccd-cb68-4e26-d690-cb7bb837bd6a"
      },
      "source": [
        "spec = audio_classifier.YamNetSpec(\n",
        "    keep_yamnet_and_custom_heads=True,\n",
        "    frame_step=2 * audio_classifier.YamNetSpec.EXPECTED_WAVEFORM_LENGTH,\n",
        "    frame_length=1 * audio_classifier.YamNetSpec.EXPECTED_WAVEFORM_LENGTH)"
      ],
      "execution_count": 5,
      "outputs": [
        {
          "output_type": "stream",
          "text": [
            "INFO:tensorflow:Checkpoints are stored in /tmp/tmpdiudnl17\n"
          ],
          "name": "stdout"
        }
      ]
    },
    {
      "cell_type": "markdown",
      "metadata": {
        "id": "BsQmkJDGneu8"
      },
      "source": [
        "## Loading the data\n",
        "\n",
        "Model Maker has the API to load the data from a folder and have it in the expected format for the model spec.\n",
        "\n",
        "The train set is based on the folders. The validation dataset will be created as 20% of the train split.\n",
        "\n",
        "Note: The `cache=True` is important to make training later faster but it will also require more RAM to hold the data.\n"
      ]
    },
    {
      "cell_type": "code",
      "metadata": {
        "id": "0pHk5AQqaW7y"
      },
      "source": [
        "train_data = audio_classifier.DataLoader.from_folder(spec, data_dir, cache=True)\n",
        "train_data, validation_data = train_data.split(0.8)"
      ],
      "execution_count": 6,
      "outputs": []
    },
    {
      "cell_type": "code",
      "metadata": {
        "colab": {
          "base_uri": "https://localhost:8080/"
        },
        "id": "p0vMjxZxbDjQ",
        "outputId": "d0de76fb-70a8-4f03-b458-45f09239b643"
      },
      "source": [
        "print(type(train_data))\n",
        "print(len(train_data))\n",
        "print(train_data.gen_dataset().take(1))\n",
        "\n",
        "#for i in train_data.gen_dataset().take(1):\n",
        " # print(i)"
      ],
      "execution_count": 7,
      "outputs": [
        {
          "output_type": "stream",
          "text": [
            "<class 'tensorflow_examples.lite.model_maker.core.data_util.audio_dataloader.DataLoader'>\n",
            "6400\n",
            "<TakeDataset shapes: ((None, 1024), (None, 8)), types: (tf.float32, tf.float32)>\n"
          ],
          "name": "stdout"
        }
      ]
    },
    {
      "cell_type": "markdown",
      "metadata": {
        "id": "NxbuPgrHcV_V"
      },
      "source": [
        "## Training the model\n",
        "\n",
        "The audio_classifier has the [`create`](https://www.tensorflow.org/lite/api_docs/python/tflite_model_maker/audio_classifier/create) method that creates a model and already start training it. \n",
        "\n",
        "You can customize many parameterss, for more information you can read more details in the documentation.\n",
        "\n",
        "On this first try you'll use all the default configurations and train for 40 epochs.\n",
        "\n",
        "Note: The first epoch takes longer than all the other ones because it's when the cache is created. After that each epoch takes a few seconds."
      ]
    },
    {
      "cell_type": "code",
      "metadata": {
        "colab": {
          "base_uri": "https://localhost:8080/"
        },
        "id": "AgGnMgDTbGtE",
        "outputId": "90f3fd81-887e-49e3-a1eb-913a082824e8"
      },
      "source": [
        "batch_size = 32\n",
        "epochs = 40\n",
        "\n",
        "print('Training the model')\n",
        "model = audio_classifier.create(\n",
        "    train_data,\n",
        "    spec,\n",
        "    validation_data,\n",
        "    batch_size=batch_size,\n",
        "    epochs=epochs)"
      ],
      "execution_count": 8,
      "outputs": [
        {
          "output_type": "stream",
          "text": [
            "Training the model\n",
            "Model: \"sequential\"\n",
            "_________________________________________________________________\n",
            "Layer (type)                 Output Shape              Param #   \n",
            "=================================================================\n",
            "classification_head (Dense)  (None, 8)                 8200      \n",
            "=================================================================\n",
            "Total params: 8,200\n",
            "Trainable params: 8,200\n",
            "Non-trainable params: 0\n",
            "_________________________________________________________________\n",
            "Epoch 1/40\n",
            "184/184 [==============================] - 86s 445ms/step - loss: 2.0403 - acc: 0.2039 - val_loss: 1.9178 - val_acc: 0.2969\n",
            "Epoch 2/40\n",
            "184/184 [==============================] - 1s 7ms/step - loss: 1.8967 - acc: 0.2916 - val_loss: 1.8293 - val_acc: 0.3347\n",
            "Epoch 3/40\n",
            "184/184 [==============================] - 1s 7ms/step - loss: 1.8327 - acc: 0.3294 - val_loss: 1.7873 - val_acc: 0.3704\n",
            "Epoch 4/40\n",
            "184/184 [==============================] - 1s 7ms/step - loss: 1.7881 - acc: 0.3456 - val_loss: 1.7580 - val_acc: 0.3876\n",
            "Epoch 5/40\n",
            "184/184 [==============================] - 1s 7ms/step - loss: 1.7553 - acc: 0.3557 - val_loss: 1.7138 - val_acc: 0.3938\n",
            "Epoch 6/40\n",
            "184/184 [==============================] - 1s 7ms/step - loss: 1.7340 - acc: 0.3754 - val_loss: 1.6889 - val_acc: 0.4062\n",
            "Epoch 7/40\n",
            "184/184 [==============================] - 1s 6ms/step - loss: 1.7150 - acc: 0.3765 - val_loss: 1.6724 - val_acc: 0.4110\n",
            "Epoch 8/40\n",
            "184/184 [==============================] - 1s 6ms/step - loss: 1.6958 - acc: 0.3911 - val_loss: 1.6716 - val_acc: 0.4151\n",
            "Epoch 9/40\n",
            "184/184 [==============================] - 1s 7ms/step - loss: 1.6796 - acc: 0.3932 - val_loss: 1.6429 - val_acc: 0.4227\n",
            "Epoch 10/40\n",
            "184/184 [==============================] - 1s 6ms/step - loss: 1.6676 - acc: 0.3983 - val_loss: 1.6367 - val_acc: 0.4275\n",
            "Epoch 11/40\n",
            "184/184 [==============================] - 1s 6ms/step - loss: 1.6546 - acc: 0.4038 - val_loss: 1.6212 - val_acc: 0.4330\n",
            "Epoch 12/40\n",
            "184/184 [==============================] - 1s 7ms/step - loss: 1.6568 - acc: 0.3959 - val_loss: 1.6055 - val_acc: 0.4275\n",
            "Epoch 13/40\n",
            "184/184 [==============================] - 1s 7ms/step - loss: 1.6447 - acc: 0.4010 - val_loss: 1.6150 - val_acc: 0.4330\n",
            "Epoch 14/40\n",
            "184/184 [==============================] - 1s 7ms/step - loss: 1.6417 - acc: 0.4014 - val_loss: 1.6092 - val_acc: 0.4282\n",
            "Epoch 15/40\n",
            "184/184 [==============================] - 1s 7ms/step - loss: 1.6437 - acc: 0.4068 - val_loss: 1.5995 - val_acc: 0.4309\n",
            "Epoch 16/40\n",
            "184/184 [==============================] - 1s 7ms/step - loss: 1.6425 - acc: 0.4024 - val_loss: 1.6109 - val_acc: 0.4364\n",
            "Epoch 17/40\n",
            "184/184 [==============================] - 1s 8ms/step - loss: 1.6334 - acc: 0.4143 - val_loss: 1.5873 - val_acc: 0.4392\n",
            "Epoch 18/40\n",
            "184/184 [==============================] - 1s 7ms/step - loss: 1.6233 - acc: 0.4085 - val_loss: 1.5867 - val_acc: 0.4405\n",
            "Epoch 19/40\n",
            "184/184 [==============================] - 1s 7ms/step - loss: 1.6225 - acc: 0.4101 - val_loss: 1.5754 - val_acc: 0.4426\n",
            "Epoch 20/40\n",
            "184/184 [==============================] - 1s 7ms/step - loss: 1.6186 - acc: 0.4155 - val_loss: 1.5694 - val_acc: 0.4399\n",
            "Epoch 21/40\n",
            "184/184 [==============================] - 1s 7ms/step - loss: 1.6043 - acc: 0.4136 - val_loss: 1.5650 - val_acc: 0.4467\n",
            "Epoch 22/40\n",
            "184/184 [==============================] - 1s 7ms/step - loss: 1.6074 - acc: 0.4176 - val_loss: 1.5584 - val_acc: 0.4515\n",
            "Epoch 23/40\n",
            "184/184 [==============================] - 1s 7ms/step - loss: 1.6183 - acc: 0.4102 - val_loss: 1.5653 - val_acc: 0.4550\n",
            "Epoch 24/40\n",
            "184/184 [==============================] - 1s 7ms/step - loss: 1.6224 - acc: 0.4073 - val_loss: 1.5646 - val_acc: 0.4515\n",
            "Epoch 25/40\n",
            "184/184 [==============================] - 1s 8ms/step - loss: 1.6083 - acc: 0.4138 - val_loss: 1.5631 - val_acc: 0.4543\n",
            "Epoch 26/40\n",
            "184/184 [==============================] - 1s 7ms/step - loss: 1.6037 - acc: 0.4281 - val_loss: 1.5451 - val_acc: 0.4536\n",
            "Epoch 27/40\n",
            "184/184 [==============================] - 1s 7ms/step - loss: 1.6004 - acc: 0.4155 - val_loss: 1.5567 - val_acc: 0.4433\n",
            "Epoch 28/40\n",
            "184/184 [==============================] - 1s 7ms/step - loss: 1.6017 - acc: 0.4278 - val_loss: 1.5470 - val_acc: 0.4529\n",
            "Epoch 29/40\n",
            "184/184 [==============================] - 1s 7ms/step - loss: 1.5988 - acc: 0.4119 - val_loss: 1.5411 - val_acc: 0.4509\n",
            "Epoch 30/40\n",
            "184/184 [==============================] - 1s 6ms/step - loss: 1.5912 - acc: 0.4186 - val_loss: 1.5425 - val_acc: 0.4577\n",
            "Epoch 31/40\n",
            "184/184 [==============================] - 1s 6ms/step - loss: 1.6104 - acc: 0.4131 - val_loss: 1.5497 - val_acc: 0.4543\n",
            "Epoch 32/40\n",
            "184/184 [==============================] - 1s 7ms/step - loss: 1.6098 - acc: 0.4172 - val_loss: 1.5342 - val_acc: 0.4605\n",
            "Epoch 33/40\n",
            "184/184 [==============================] - 1s 7ms/step - loss: 1.6115 - acc: 0.4136 - val_loss: 1.5488 - val_acc: 0.4570\n",
            "Epoch 34/40\n",
            "184/184 [==============================] - 1s 8ms/step - loss: 1.6008 - acc: 0.4223 - val_loss: 1.5379 - val_acc: 0.4619\n",
            "Epoch 35/40\n",
            "184/184 [==============================] - 1s 7ms/step - loss: 1.6100 - acc: 0.4171 - val_loss: 1.5413 - val_acc: 0.4605\n",
            "Epoch 36/40\n",
            "184/184 [==============================] - 1s 7ms/step - loss: 1.5903 - acc: 0.4321 - val_loss: 1.5357 - val_acc: 0.4474\n",
            "Epoch 37/40\n",
            "184/184 [==============================] - 1s 7ms/step - loss: 1.5918 - acc: 0.4232 - val_loss: 1.5409 - val_acc: 0.4550\n",
            "Epoch 38/40\n",
            "184/184 [==============================] - 1s 7ms/step - loss: 1.5958 - acc: 0.4314 - val_loss: 1.5417 - val_acc: 0.4570\n",
            "Epoch 39/40\n",
            "184/184 [==============================] - 1s 7ms/step - loss: 1.5913 - acc: 0.4268 - val_loss: 1.5263 - val_acc: 0.4564\n",
            "Epoch 40/40\n",
            "184/184 [==============================] - 1s 7ms/step - loss: 1.5980 - acc: 0.4242 - val_loss: 1.5266 - val_acc: 0.4687\n"
          ],
          "name": "stdout"
        }
      ]
    },
    {
      "cell_type": "code",
      "metadata": {
        "colab": {
          "base_uri": "https://localhost:8080/"
        },
        "id": "bwdChw_Jc6iE",
        "outputId": "254d39d2-6f24-477a-f64d-eacc484d7368"
      },
      "source": [
        "print('Evaluating the model')\n",
        "model.evaluate(validation_data)"
      ],
      "execution_count": 9,
      "outputs": [
        {
          "output_type": "stream",
          "text": [
            "Evaluating the model\n",
            "46/46 [==============================] - 16s 336ms/step - loss: 1.5266 - acc: 0.4687\n"
          ],
          "name": "stdout"
        },
        {
          "output_type": "execute_result",
          "data": {
            "text/plain": [
              "[1.526577115058899, 0.46872851252555847]"
            ]
          },
          "metadata": {
            "tags": []
          },
          "execution_count": 9
        }
      ]
    },
    {
      "cell_type": "markdown",
      "metadata": {
        "id": "0fXVvmd1dNHh"
      },
      "source": [
        "## Understanding your model\n",
        "\n",
        "When training a classifier, it's useful to see the [confusion matrix](https://en.wikipedia.org/wiki/Confusion_matrix). The confusion matrix gives you detailed knowledge of how your classifier is performing on test data.\n",
        "\n",
        "Model Maker already creates the confusion matrix for you."
      ]
    },
    {
      "cell_type": "code",
      "metadata": {
        "colab": {
          "base_uri": "https://localhost:8080/",
          "height": 295
        },
        "id": "_4hifKMMdJuD",
        "outputId": "280efb59-3077-4740-b5ee-b7495eb827df"
      },
      "source": [
        "def show_confusion_matrix(confusion, test_labels):\n",
        "  \"\"\"Compute confusion matrix and normalize.\"\"\"\n",
        "  confusion_normalized = confusion.astype(\"float\") / confusion.sum(axis=1)\n",
        "  axis_labels = test_labels\n",
        "  ax = sns.heatmap(\n",
        "      confusion_normalized, xticklabels=axis_labels, yticklabels=axis_labels,\n",
        "      cmap='Blues', annot=True, fmt='.2f', square=True)\n",
        "  plt.title(\"Confusion matrix\")\n",
        "  plt.ylabel(\"True label\")\n",
        "  plt.xlabel(\"Predicted label\")\n",
        "\n",
        "confusion_matrix = model.confusion_matrix(validation_data)\n",
        "show_confusion_matrix(confusion_matrix.numpy(), validation_data.index_to_label)"
      ],
      "execution_count": 10,
      "outputs": [
        {
          "output_type": "display_data",
          "data": {
            "image/png": "[encoded data removed]",
            "text/plain": [
              "<Figure size 432x288 with 2 Axes>"
            ]
          },
          "metadata": {
            "tags": [],
            "needs_background": "light"
          }
        }
      ]
    },
    {
      "cell_type": "code",
      "metadata": {
        "colab": {
          "base_uri": "https://localhost:8080/"
        },
        "id": "SHV9lsaAdQS0",
        "outputId": "e6c533f9-2f30-41d6-d3a1-cd8f26cc2bb6"
      },
      "source": [
        "serving_model = model.create_serving_model()\n",
        "\n",
        "print(f'Model\\'s input shape and type: {serving_model.inputs}')\n",
        "print(f'Model\\'s output shape and type: {serving_model.outputs}')"
      ],
      "execution_count": 11,
      "outputs": [
        {
          "output_type": "stream",
          "text": [
            "Model's input shape and type: [<KerasTensor: shape=(None, 15600) dtype=float32 (created by layer 'audio')>]\n",
            "Model's output shape and type: [<KerasTensor: shape=(1, 521) dtype=float32 (created by layer 'keras_layer')>, <KerasTensor: shape=(1, 8) dtype=float32 (created by layer 'sequential')>]\n"
          ],
          "name": "stdout"
        }
      ]
    },
    {
      "cell_type": "code",
      "metadata": {
        "colab": {
          "base_uri": "https://localhost:8080/",
          "height": 369
        },
        "id": "rrK0XPVkeVqA",
        "outputId": "047a5826-e6bf-400f-e4d3-a02b937a662d"
      },
      "source": [
        "tf.keras.utils.plot_model(serving_model)"
      ],
      "execution_count": 12,
      "outputs": [
        {
          "output_type": "execute_result",
          "data": {
            "image/png": "[encoded data removed]",
            "text/plain": [
              "<IPython.core.display.Image object>"
            ]
          },
          "metadata": {
            "tags": []
          },
          "execution_count": 12
        }
      ]
    },
    {
      "cell_type": "code",
      "metadata": {
        "colab": {
          "base_uri": "https://localhost:8080/"
        },
        "id": "euOQ52Dyedpn",
        "outputId": "05c2fc21-ec9b-431b-e15c-b896c951e888"
      },
      "source": [
        "serving_model.summary()"
      ],
      "execution_count": 13,
      "outputs": [
        {
          "output_type": "stream",
          "text": [
            "Model: \"model\"\n",
            "_________________________________________________________________\n",
            "Layer (type)                 Output Shape              Param #   \n",
            "=================================================================\n",
            "audio (InputLayer)           [(None, 15600)]           0         \n",
            "_________________________________________________________________\n",
            "tf.reshape (TFOpLambda)      (15600,)                  0         \n",
            "_________________________________________________________________\n",
            "keras_layer (KerasLayer)     [(1, 521), (1, 1024), (96 0         \n",
            "_________________________________________________________________\n",
            "sequential (Sequential)      (None, 8)                 8200      \n",
            "=================================================================\n",
            "Total params: 8,200\n",
            "Trainable params: 8,200\n",
            "Non-trainable params: 0\n",
            "_________________________________________________________________\n"
          ],
          "name": "stdout"
        }
      ]
    },
    {
      "cell_type": "code",
      "metadata": {
        "colab": {
          "base_uri": "https://localhost:8080/"
        },
        "id": "x9I7HqpefHEX",
        "outputId": "80a60cc1-0d25-4b4b-b4ec-9a01ffc9712d"
      },
      "source": [
        "saved_model_path = './yamnet_model_maker'\n",
        "serving_model.save(saved_model_path, include_optimizer=False)"
      ],
      "execution_count": 14,
      "outputs": [
        {
          "output_type": "stream",
          "text": [
            "WARNING:tensorflow:Compiled the loaded model, but the compiled metrics have yet to be built. `model.compile_metrics` will be empty until you train or evaluate the model.\n"
          ],
          "name": "stdout"
        },
        {
          "output_type": "stream",
          "text": [
            "WARNING:tensorflow:Compiled the loaded model, but the compiled metrics have yet to be built. `model.compile_metrics` will be empty until you train or evaluate the model.\n"
          ],
          "name": "stderr"
        },
        {
          "output_type": "stream",
          "text": [
            "INFO:tensorflow:Assets written to: ./yamnet_model_maker/assets\n"
          ],
          "name": "stdout"
        },
        {
          "output_type": "stream",
          "text": [
            "INFO:tensorflow:Assets written to: ./yamnet_model_maker/assets\n"
          ],
          "name": "stderr"
        }
      ]
    },
    {
      "cell_type": "code",
      "metadata": {
        "colab": {
          "base_uri": "https://localhost:8080/"
        },
        "id": "prJDWX53rAeT",
        "outputId": "5858b994-2093-49ed-c14b-591c11863009"
      },
      "source": [
        "model.export('./yamnet_model_maker_saved_model', export_format=[mm.ExportFormat.SAVED_MODEL, mm.ExportFormat.LABEL])"
      ],
      "execution_count": 15,
      "outputs": [
        {
          "output_type": "stream",
          "text": [
            "WARNING:tensorflow:Compiled the loaded model, but the compiled metrics have yet to be built. `model.compile_metrics` will be empty until you train or evaluate the model.\n"
          ],
          "name": "stdout"
        },
        {
          "output_type": "stream",
          "text": [
            "WARNING:tensorflow:Compiled the loaded model, but the compiled metrics have yet to be built. `model.compile_metrics` will be empty until you train or evaluate the model.\n"
          ],
          "name": "stderr"
        },
        {
          "output_type": "stream",
          "text": [
            "INFO:tensorflow:Assets written to: ./yamnet_model_maker_saved_model/saved_model/assets\n"
          ],
          "name": "stdout"
        },
        {
          "output_type": "stream",
          "text": [
            "INFO:tensorflow:Assets written to: ./yamnet_model_maker_saved_model/saved_model/assets\n"
          ],
          "name": "stderr"
        },
        {
          "output_type": "stream",
          "text": [
            "INFO:tensorflow:Saving labels in ./yamnet_model_maker_saved_model/labels.txt\n"
          ],
          "name": "stdout"
        },
        {
          "output_type": "stream",
          "text": [
            "INFO:tensorflow:Saving labels in ./yamnet_model_maker_saved_model/labels.txt\n"
          ],
          "name": "stderr"
        }
      ]
    },
    {
      "cell_type": "code",
      "metadata": {
        "id": "QFkXjNA_rTj1"
      },
      "source": [
        "reloaded_model = tf.saved_model.load('./yamnet_model_maker_saved_model/saved_model')\n",
        "#reloaded_model.summary()"
      ],
      "execution_count": 16,
      "outputs": []
    },
    {
      "cell_type": "markdown",
      "metadata": {
        "id": "ubsxZTRgoD3f"
      },
      "source": [
        "# Create tflite model"
      ]
    },
    {
      "cell_type": "code",
      "metadata": {
        "id": "UL0ZKyaWeiY6",
        "colab": {
          "base_uri": "https://localhost:8080/",
          "height": 35
        },
        "outputId": "9f75a190-d369-4dc7-f751-c4f3fdfcce60"
      },
      "source": [
        "# Use with TF 2.5.0 with no quantization.\n",
        "MODEL_PATH  = saved_model_path\n",
        "MODEL_SAVE_PATH = \"/content/yamnet_speech_commands.tflite\"\n",
        "converter = tf.lite.TFLiteConverter.from_saved_model(MODEL_PATH)\n",
        "\n",
        "tflite_model = converter.convert()\n",
        "with tf.io.gfile.GFile(MODEL_SAVE_PATH, 'wb') as f:\n",
        "  f.write(tflite_model)\n",
        "\n",
        "\n",
        "# OR \n",
        "'''\n",
        "models_path = '/content/yamnet_speech_commands'\n",
        "print(f'Exporing the TFLite model to {models_path}')\n",
        "\n",
        "model.export(models_path, tflite_filename='yamnet_speech_commands.tflite')\n",
        "'''"
      ],
      "execution_count": 17,
      "outputs": [
        {
          "output_type": "execute_result",
          "data": {
            "application/vnd.google.colaboratory.intrinsic+json": {
              "type": "string"
            },
            "text/plain": [
              "\"\\nmodels_path = '/content/yamnet_speech_commands'\\nprint(f'Exporing the TFLite model to {models_path}')\\n\\nmodel.export(models_path, tflite_filename='yamnet_speech_commands.tflite')\\n\""
            ]
          },
          "metadata": {
            "tags": []
          },
          "execution_count": 17
        }
      ]
    },
    {
      "cell_type": "markdown",
      "metadata": {
        "id": "U4adZ7jhsTsc"
      },
      "source": [
        "# Test recorded audio"
      ]
    },
    {
      "cell_type": "code",
      "metadata": {
        "id": "MoKp3zztykbN",
        "colab": {
          "base_uri": "https://localhost:8080/"
        },
        "outputId": "47f3a43d-2735-4c24-8070-6506208e0a4b"
      },
      "source": [
        "!pip install -q tensorflow_io\n",
        "import tensorflow_io as tfio\n",
        "\n",
        "commands = []\n",
        "commands.append('down')\n",
        "commands.append('go')\n",
        "commands.append('left')\n",
        "commands.append('no')\n",
        "commands.append('right')\n",
        "commands.append('stop')\n",
        "commands.append('up')\n",
        "commands.append('yes')\n",
        "\n",
        "# Trancuate to 15600 length\n",
        "@tf.function\n",
        "def load_wav_16k_mono(filename):\n",
        "    \"\"\" read in a waveform file and convert to 16 kHz mono \"\"\"\n",
        "    file_contents = tf.io.read_file(filename)\n",
        "    wav, sample_rate = tf.audio.decode_wav(\n",
        "          file_contents,\n",
        "          desired_channels=1)\n",
        "    print(sample_rate)\n",
        "    # make it 15600 long (as it is expected from the model) and trancuate longer audio files\n",
        "    wav = tf.squeeze(wav[:15600], axis=-1)\n",
        "    sample_rate = tf.cast(sample_rate, dtype=tf.int64)\n",
        "    wav = tfio.audio.resample(wav, rate_in=sample_rate, rate_out=16000)\n",
        "    return wav"
      ],
      "execution_count": 18,
      "outputs": [
        {
          "output_type": "stream",
          "text": [
            "\u001b[K     |████████████████████████████████| 24.1MB 125kB/s \n",
            "\u001b[K     |████████████████████████████████| 2.5MB 49.4MB/s \n",
            "\u001b[?25h"
          ],
          "name": "stdout"
        }
      ]
    },
    {
      "cell_type": "code",
      "metadata": {
        "colab": {
          "base_uri": "https://localhost:8080/"
        },
        "id": "LijxZ8jQsdHt",
        "outputId": "1218af08-8996-4225-d329-167d861b21ac"
      },
      "source": [
        "input = load_wav_16k_mono('/content/data/mini_speech_commands/right/012c8314_nohash_1.wav')\n",
        "print(type(input))\n",
        "print(input)"
      ],
      "execution_count": 19,
      "outputs": [
        {
          "output_type": "stream",
          "text": [
            "Tensor(\"DecodeWav:1\", shape=(), dtype=int32)\n",
            "WARNING:tensorflow:From /usr/local/lib/python3.7/dist-packages/tensorflow/python/ops/parallel_for/pfor.py:2382: calling gather (from tensorflow.python.ops.array_ops) with validate_indices is deprecated and will be removed in a future version.\n",
            "Instructions for updating:\n",
            "The `validate_indices` argument has no effect. Indices are always validated on CPU and never validated on GPU.\n"
          ],
          "name": "stdout"
        },
        {
          "output_type": "stream",
          "text": [
            "WARNING:tensorflow:From /usr/local/lib/python3.7/dist-packages/tensorflow/python/ops/parallel_for/pfor.py:2382: calling gather (from tensorflow.python.ops.array_ops) with validate_indices is deprecated and will be removed in a future version.\n",
            "Instructions for updating:\n",
            "The `validate_indices` argument has no effect. Indices are always validated on CPU and never validated on GPU.\n"
          ],
          "name": "stderr"
        },
        {
          "output_type": "stream",
          "text": [
            "WARNING:tensorflow:Using a while_loop for converting IO>AudioResample\n"
          ],
          "name": "stdout"
        },
        {
          "output_type": "stream",
          "text": [
            "WARNING:tensorflow:Using a while_loop for converting IO>AudioResample\n"
          ],
          "name": "stderr"
        },
        {
          "output_type": "stream",
          "text": [
            "<class 'tensorflow.python.framework.ops.EagerTensor'>\n",
            "tf.Tensor(\n",
            "[ 3.7431949e-08 -1.0590634e-07  2.6209841e-07 ...  8.0896067e-03\n",
            "  7.8722648e-03  7.4156714e-03], shape=(15600,), dtype=float32)\n"
          ],
          "name": "stdout"
        }
      ]
    },
    {
      "cell_type": "code",
      "metadata": {
        "colab": {
          "base_uri": "https://localhost:8080/"
        },
        "id": "jAsMDO-mxhlb",
        "outputId": "9fc4b96e-7053-442f-82ec-c24f41ff1144"
      },
      "source": [
        "# Inference with the saved model\n",
        "yamnet_output, inference = serving_model(input)\n",
        "print(yamnet_output.shape)\n",
        "print()\n",
        "print(inference)\n",
        "print()\n",
        "print(f'The main sound is: {commands[tf.argmax(inference[0])]}')"
      ],
      "execution_count": 20,
      "outputs": [
        {
          "output_type": "stream",
          "text": [
            "(1, 521)\n",
            "\n",
            "tf.Tensor(\n",
            "[[0.14870849 0.15466075 0.08991945 0.10079474 0.25935957 0.05587868\n",
            "  0.08873598 0.10194238]], shape=(1, 8), dtype=float32)\n",
            "\n",
            "The main sound is: right\n"
          ],
          "name": "stdout"
        }
      ]
    },
    {
      "cell_type": "code",
      "metadata": {
        "colab": {
          "base_uri": "https://localhost:8080/"
        },
        "id": "q5XR1mj0sA4b",
        "outputId": "9a18fd1f-fd1d-482b-888b-6bc3a575215c"
      },
      "source": [
        "# Inference with the tflite file\n",
        "input_wav = input\n",
        "# expand dimensions to match models expected input\n",
        "input_wav = tf.expand_dims(input_wav, 0)\n",
        "input_shape_size = input_wav.shape\n",
        "print(input_shape_size)\n",
        "interpreter = tf.lite.Interpreter(model_path=MODEL_SAVE_PATH)\n",
        "\n",
        "# Get input and output tensors.\n",
        "input_details = interpreter.get_input_details()\n",
        "output_details = interpreter.get_output_details()\n",
        "print(input_details)\n",
        "\n",
        "input_data = np.array(input_wav, dtype=np.float32)\n",
        "\n",
        "interpreter.allocate_tensors()\n",
        "interpreter.set_tensor(input_details[0]['index'], input_data)\n",
        "\n",
        "interpreter.invoke()\n",
        "\n",
        "# The function `get_tensor()` returns a copy of the tensor data.\n",
        "# Use `tensor()` in order to get a pointer to the tensor.\n",
        "output_data = interpreter.get_tensor(output_details[0]['index'])\n",
        "print(output_data[0])\n",
        "result = commands[tf.argmax(output_data[0])]\n",
        "print(f'The main sound is: {result}')"
      ],
      "execution_count": 21,
      "outputs": [
        {
          "output_type": "stream",
          "text": [
            "(1, 15600)\n",
            "[{'name': 'serving_default_audio:0', 'index': 0, 'shape': array([    1, 15600], dtype=int32), 'shape_signature': array([   -1, 15600], dtype=int32), 'dtype': <class 'numpy.float32'>, 'quantization': (0.0, 0), 'quantization_parameters': {'scales': array([], dtype=float32), 'zero_points': array([], dtype=int32), 'quantized_dimension': 0}, 'sparsity_parameters': {}}]\n",
            "[0.14870921 0.15466025 0.08991931 0.10079473 0.25936007 0.05587831\n",
            " 0.08873647 0.10194165]\n",
            "The main sound is: right\n"
          ],
          "name": "stdout"
        }
      ]
    },
    {
      "cell_type": "code",
      "metadata": {
        "id": "sM6jbUZ7tar0"
      },
      "source": [
        ""
      ],
      "execution_count": 21,
      "outputs": []
    }
  ]
}