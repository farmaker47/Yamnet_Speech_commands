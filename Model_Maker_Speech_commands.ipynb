{
  "nbformat": 4,
  "nbformat_minor": 0,
  "metadata": {
    "colab": {
      "name": "Model_Maker_Speech_commands.ipynb",
      "provenance": [],
      "collapsed_sections": []
    },
    "kernelspec": {
      "name": "python3",
      "display_name": "Python 3"
    },
    "language_info": {
      "name": "python"
    },
    "accelerator": "GPU"
  },
  "cells": [
    {
      "cell_type": "code",
      "metadata": {
        "id": "dsAXoFscXKZm"
      },
      "source": [
        "! pip install tflite-model-maker"
      ],
      "execution_count": null,
      "outputs": []
    },
    {
      "cell_type": "code",
      "metadata": {
        "colab": {
          "base_uri": "https://localhost:8080/"
        },
        "id": "p4kwwpvyXjhg",
        "outputId": "258561a4-00a4-4840-cae2-171cb4855aa0"
      },
      "source": [
        "import tensorflow as tf\n",
        "import tflite_model_maker as mm\n",
        "from tflite_model_maker import audio_classifier\n",
        "import os\n",
        "import pathlib\n",
        "\n",
        "import numpy as np\n",
        "import matplotlib.pyplot as plt\n",
        "import seaborn as sns\n",
        "\n",
        "import itertools\n",
        "import glob\n",
        "import random\n",
        "\n",
        "from IPython.display import Audio, Image\n",
        "from scipy.io import wavfile\n",
        "\n",
        "print(f\"TensorFlow Version: {tf.__version__}\")\n",
        "print(f\"Model Maker Version: {mm.__version__}\")"
      ],
      "execution_count": 5,
      "outputs": [
        {
          "output_type": "stream",
          "text": [
            "TensorFlow Version: 2.5.0\n",
            "Model Maker Version: 0.3.2\n"
          ],
          "name": "stdout"
        }
      ]
    },
    {
      "cell_type": "code",
      "metadata": {
        "colab": {
          "base_uri": "https://localhost:8080/"
        },
        "id": "zGgLhHVGXu4h",
        "outputId": "da93ee73-17a6-4369-d0a6-c88f362ab43e"
      },
      "source": [
        "!nvidia-smi"
      ],
      "execution_count": 3,
      "outputs": [
        {
          "output_type": "stream",
          "text": [
            "Wed Jun 16 15:10:29 2021       \n",
            "+-----------------------------------------------------------------------------+\n",
            "| NVIDIA-SMI 465.27       Driver Version: 460.32.03    CUDA Version: 11.2     |\n",
            "|-------------------------------+----------------------+----------------------+\n",
            "| GPU  Name        Persistence-M| Bus-Id        Disp.A | Volatile Uncorr. ECC |\n",
            "| Fan  Temp  Perf  Pwr:Usage/Cap|         Memory-Usage | GPU-Util  Compute M. |\n",
            "|                               |                      |               MIG M. |\n",
            "|===============================+======================+======================|\n",
            "|   0  Tesla T4            Off  | 00000000:00:04.0 Off |                    0 |\n",
            "| N/A   43C    P8    10W /  70W |      0MiB / 15109MiB |      0%      Default |\n",
            "|                               |                      |                  N/A |\n",
            "+-------------------------------+----------------------+----------------------+\n",
            "                                                                               \n",
            "+-----------------------------------------------------------------------------+\n",
            "| Processes:                                                                  |\n",
            "|  GPU   GI   CI        PID   Type   Process name                  GPU Memory |\n",
            "|        ID   ID                                                   Usage      |\n",
            "|=============================================================================|\n",
            "|  No running processes found                                                 |\n",
            "+-----------------------------------------------------------------------------+\n"
          ],
          "name": "stdout"
        }
      ]
    },
    {
      "cell_type": "code",
      "metadata": {
        "colab": {
          "base_uri": "https://localhost:8080/"
        },
        "id": "D8bvVAMbX6zj",
        "outputId": "7bde3dfb-66c8-4fa8-a27f-940cdbe85e26"
      },
      "source": [
        "# Download folder and unzip it\n",
        "data_dir = pathlib.Path('data/mini_speech_commands')\n",
        "if not data_dir.exists():\n",
        "  tf.keras.utils.get_file(\n",
        "      'mini_speech_commands.zip',\n",
        "      origin=\"http://storage.googleapis.com/download.tensorflow.org/data/mini_speech_commands.zip\",\n",
        "      extract=True,\n",
        "      cache_dir='.', cache_subdir='data')"
      ],
      "execution_count": 6,
      "outputs": [
        {
          "output_type": "stream",
          "text": [
            "Downloading data from http://storage.googleapis.com/download.tensorflow.org/data/mini_speech_commands.zip\n",
            "182083584/182082353 [==============================] - 2s 0us/step\n"
          ],
          "name": "stdout"
        }
      ]
    },
    {
      "cell_type": "markdown",
      "metadata": {
        "id": "glVyfkmFYoQU"
      },
      "source": [
        "## Training the Model\n",
        "\n",
        "When using Model Maker for audio, you have to start with a model spec. This is the base model that your new model will extract information to learn about the new classes. It also affects how the dataset will be transformed to respect the models spec parameters like: sample rate, number of channels.\n",
        "\n",
        "[YAMNet](https://tfhub.dev/google/yamnet/1) is an audio event classifier trained on the AudioSet dataset to predict audio events from the AudioSet ontology.\n",
        "\n",
        "It's input is expected to be at 16kHz and with 1 channel.\n",
        "\n",
        "You don't need to do any resampling yourself. Model Maker takes care of that for you.\n",
        "\n",
        "- `frame_length` is to decide how long each traininng sample is. in this case EXPECTED_WAVEFORM_LENGTH * 1s\n",
        "\n",
        "- `frame_steps` is to decide how far appart are the training samples. In this case, the ith sample will start at EXPECTED_WAVEFORM_LENGTH * 1s after the (i-1)th sample.\n",
        "\n",
        "The reason to set these values is to work around some limitation in real world dataset.\n",
        "\n",
        "For example, in the bird dataset, birds don't sing all the time. They sing, rest and sing again, with noises in between. Having a long frame would help capture the singing, but setting it too long will reduce the number of samples for training.\n"
      ]
    },
    {
      "cell_type": "code",
      "metadata": {
        "colab": {
          "base_uri": "https://localhost:8080/"
        },
        "id": "oyjCavIRYBRc",
        "outputId": "b8237822-814e-4245-c8f8-8d79dbc64b81"
      },
      "source": [
        "spec = audio_classifier.YamNetSpec(\n",
        "    keep_yamnet_and_custom_heads=True,\n",
        "    frame_step=1 * audio_classifier.YamNetSpec.EXPECTED_WAVEFORM_LENGTH // 2,\n",
        "    frame_length=1 * audio_classifier.YamNetSpec.EXPECTED_WAVEFORM_LENGTH)"
      ],
      "execution_count": 7,
      "outputs": [
        {
          "output_type": "stream",
          "text": [
            "INFO:tensorflow:Checkpoints are stored in /tmp/tmp3aej0_jj\n"
          ],
          "name": "stdout"
        }
      ]
    },
    {
      "cell_type": "code",
      "metadata": {
        "id": "0pHk5AQqaW7y"
      },
      "source": [
        "train_data = audio_classifier.DataLoader.from_folder(spec, data_dir, cache=True)\n",
        "train_data, validation_data = train_data.split(0.8)"
      ],
      "execution_count": 8,
      "outputs": []
    },
    {
      "cell_type": "code",
      "metadata": {
        "colab": {
          "base_uri": "https://localhost:8080/"
        },
        "id": "p0vMjxZxbDjQ",
        "outputId": "6bae8cf0-a159-4fe6-b7a6-cbdef6207664"
      },
      "source": [
        "print(type(train_data))\n",
        "print(len(train_data))\n",
        "print(train_data.gen_dataset().take(1))\n",
        "\n",
        "for i in train_data.gen_dataset().take(1):\n",
        "  print(i)"
      ],
      "execution_count": 24,
      "outputs": [
        {
          "output_type": "stream",
          "text": [
            "<class 'tensorflow_examples.lite.model_maker.core.data_util.audio_dataloader.DataLoader'>\n",
            "6400\n",
            "<TakeDataset shapes: ((None, 1024), (None, 8)), types: (tf.float32, tf.float32)>\n",
            "(<tf.Tensor: shape=(1, 1024), dtype=float32, numpy=\n",
            "array([[0.        , 0.00478534, 0.05378029, ..., 0.21486197, 0.        ,\n",
            "        0.        ]], dtype=float32)>, <tf.Tensor: shape=(1, 8), dtype=float32, numpy=array([[0., 0., 0., 0., 0., 1., 0., 0.]], dtype=float32)>)\n"
          ],
          "name": "stdout"
        }
      ]
    },
    {
      "cell_type": "markdown",
      "metadata": {
        "id": "NxbuPgrHcV_V"
      },
      "source": [
        "## Training the model\n",
        "\n",
        "the audio_classifier has the [`create`](https://www.tensorflow.org/lite/api_docs/python/tflite_model_maker/audio_classifier/create) method that creates a model and already start training it. \n",
        "\n",
        "You can customize many parameterss, for more information you can read more details in the documentation.\n",
        "\n",
        "On this first try you'll use all the default configurations and train for 100 epochs.\n",
        "\n",
        "Note: The first epoch takes longer than all the other ones because it's when the cache is created. After that each epoch takes close to 1 second."
      ]
    },
    {
      "cell_type": "code",
      "metadata": {
        "colab": {
          "base_uri": "https://localhost:8080/"
        },
        "id": "AgGnMgDTbGtE",
        "outputId": "f8c179b9-e7fe-4286-d5f8-09fbd11898c5"
      },
      "source": [
        "batch_size = 32\n",
        "epochs = 40\n",
        "\n",
        "print('Training the model')\n",
        "model = audio_classifier.create(\n",
        "    train_data,\n",
        "    spec,\n",
        "    validation_data,\n",
        "    batch_size=batch_size,\n",
        "    epochs=epochs)"
      ],
      "execution_count": 17,
      "outputs": [
        {
          "output_type": "stream",
          "text": [
            "Training the model\n",
            "Model: \"sequential\"\n",
            "_________________________________________________________________\n",
            "Layer (type)                 Output Shape              Param #   \n",
            "=================================================================\n",
            "classification_head (Dense)  (None, 8)                 8200      \n",
            "=================================================================\n",
            "Total params: 8,200\n",
            "Trainable params: 8,200\n",
            "Non-trainable params: 0\n",
            "_________________________________________________________________\n",
            "Epoch 1/40\n",
            "183/183 [==============================] - 89s 463ms/step - loss: 2.0443 - acc: 0.2021 - val_loss: 1.9202 - val_acc: 0.3054\n",
            "Epoch 2/40\n",
            "183/183 [==============================] - 1s 7ms/step - loss: 1.9024 - acc: 0.2930 - val_loss: 1.8355 - val_acc: 0.3626\n",
            "Epoch 3/40\n",
            "183/183 [==============================] - 1s 7ms/step - loss: 1.8412 - acc: 0.3188 - val_loss: 1.7895 - val_acc: 0.3823\n",
            "Epoch 4/40\n",
            "183/183 [==============================] - 1s 8ms/step - loss: 1.7975 - acc: 0.3374 - val_loss: 1.7527 - val_acc: 0.3952\n",
            "Epoch 5/40\n",
            "183/183 [==============================] - 1s 7ms/step - loss: 1.7603 - acc: 0.3537 - val_loss: 1.7284 - val_acc: 0.4061\n",
            "Epoch 6/40\n",
            "183/183 [==============================] - 1s 8ms/step - loss: 1.7376 - acc: 0.3682 - val_loss: 1.7050 - val_acc: 0.4088\n",
            "Epoch 7/40\n",
            "183/183 [==============================] - 1s 7ms/step - loss: 1.7076 - acc: 0.3781 - val_loss: 1.6893 - val_acc: 0.4190\n",
            "Epoch 8/40\n",
            "183/183 [==============================] - 1s 8ms/step - loss: 1.6956 - acc: 0.3911 - val_loss: 1.6659 - val_acc: 0.4272\n",
            "Epoch 9/40\n",
            "183/183 [==============================] - 1s 7ms/step - loss: 1.6939 - acc: 0.3862 - val_loss: 1.6628 - val_acc: 0.4306\n",
            "Epoch 10/40\n",
            "183/183 [==============================] - 1s 7ms/step - loss: 1.6708 - acc: 0.3925 - val_loss: 1.6438 - val_acc: 0.4395\n",
            "Epoch 11/40\n",
            "183/183 [==============================] - 1s 8ms/step - loss: 1.6662 - acc: 0.3925 - val_loss: 1.6371 - val_acc: 0.4388\n",
            "Epoch 12/40\n",
            "183/183 [==============================] - 1s 7ms/step - loss: 1.6592 - acc: 0.3973 - val_loss: 1.6342 - val_acc: 0.4435\n",
            "Epoch 13/40\n",
            "183/183 [==============================] - 1s 7ms/step - loss: 1.6510 - acc: 0.4063 - val_loss: 1.6155 - val_acc: 0.4374\n",
            "Epoch 14/40\n",
            "183/183 [==============================] - 1s 8ms/step - loss: 1.6500 - acc: 0.4022 - val_loss: 1.6147 - val_acc: 0.4463\n",
            "Epoch 15/40\n",
            "183/183 [==============================] - 1s 7ms/step - loss: 1.6452 - acc: 0.4034 - val_loss: 1.6148 - val_acc: 0.4442\n",
            "Epoch 16/40\n",
            "183/183 [==============================] - 1s 7ms/step - loss: 1.6349 - acc: 0.4091 - val_loss: 1.6107 - val_acc: 0.4551\n",
            "Epoch 17/40\n",
            "183/183 [==============================] - 2s 8ms/step - loss: 1.6355 - acc: 0.4099 - val_loss: 1.5959 - val_acc: 0.4551\n",
            "Epoch 18/40\n",
            "183/183 [==============================] - 1s 8ms/step - loss: 1.6294 - acc: 0.4041 - val_loss: 1.5926 - val_acc: 0.4524\n",
            "Epoch 19/40\n",
            "183/183 [==============================] - 1s 7ms/step - loss: 1.6239 - acc: 0.4111 - val_loss: 1.5899 - val_acc: 0.4633\n",
            "Epoch 20/40\n",
            "183/183 [==============================] - 1s 7ms/step - loss: 1.6246 - acc: 0.4068 - val_loss: 1.5833 - val_acc: 0.4558\n",
            "Epoch 21/40\n",
            "183/183 [==============================] - 1s 7ms/step - loss: 1.6117 - acc: 0.4214 - val_loss: 1.5814 - val_acc: 0.4551\n",
            "Epoch 22/40\n",
            "183/183 [==============================] - 1s 7ms/step - loss: 1.6170 - acc: 0.4150 - val_loss: 1.5730 - val_acc: 0.4633\n",
            "Epoch 23/40\n",
            "183/183 [==============================] - 1s 7ms/step - loss: 1.6328 - acc: 0.4070 - val_loss: 1.5860 - val_acc: 0.4605\n",
            "Epoch 24/40\n",
            "183/183 [==============================] - 1s 7ms/step - loss: 1.6176 - acc: 0.4106 - val_loss: 1.5730 - val_acc: 0.4680\n",
            "Epoch 25/40\n",
            "183/183 [==============================] - 1s 8ms/step - loss: 1.6019 - acc: 0.4224 - val_loss: 1.5651 - val_acc: 0.4660\n",
            "Epoch 26/40\n",
            "183/183 [==============================] - 2s 8ms/step - loss: 1.6024 - acc: 0.4226 - val_loss: 1.5594 - val_acc: 0.4741\n",
            "Epoch 27/40\n",
            "183/183 [==============================] - 1s 8ms/step - loss: 1.6082 - acc: 0.4224 - val_loss: 1.5652 - val_acc: 0.4694\n",
            "Epoch 28/40\n",
            "183/183 [==============================] - 2s 8ms/step - loss: 1.6125 - acc: 0.4161 - val_loss: 1.5589 - val_acc: 0.4769\n",
            "Epoch 29/40\n",
            "183/183 [==============================] - 1s 8ms/step - loss: 1.6076 - acc: 0.4191 - val_loss: 1.5549 - val_acc: 0.4694\n",
            "Epoch 30/40\n",
            "183/183 [==============================] - 1s 7ms/step - loss: 1.6054 - acc: 0.4191 - val_loss: 1.5519 - val_acc: 0.4680\n",
            "Epoch 31/40\n",
            "183/183 [==============================] - 2s 8ms/step - loss: 1.5993 - acc: 0.4212 - val_loss: 1.5702 - val_acc: 0.4660\n",
            "Epoch 32/40\n",
            "183/183 [==============================] - 2s 8ms/step - loss: 1.6088 - acc: 0.4144 - val_loss: 1.5510 - val_acc: 0.4735\n",
            "Epoch 33/40\n",
            "183/183 [==============================] - 1s 8ms/step - loss: 1.5913 - acc: 0.4195 - val_loss: 1.5494 - val_acc: 0.4653\n",
            "Epoch 34/40\n",
            "183/183 [==============================] - 1s 7ms/step - loss: 1.5960 - acc: 0.4191 - val_loss: 1.5547 - val_acc: 0.4714\n",
            "Epoch 35/40\n",
            "183/183 [==============================] - 1s 7ms/step - loss: 1.5964 - acc: 0.4232 - val_loss: 1.5411 - val_acc: 0.4694\n",
            "Epoch 36/40\n",
            "183/183 [==============================] - 1s 7ms/step - loss: 1.6009 - acc: 0.4215 - val_loss: 1.5450 - val_acc: 0.4694\n",
            "Epoch 37/40\n",
            "183/183 [==============================] - 1s 7ms/step - loss: 1.6060 - acc: 0.4202 - val_loss: 1.5437 - val_acc: 0.4748\n",
            "Epoch 38/40\n",
            "183/183 [==============================] - 1s 7ms/step - loss: 1.5945 - acc: 0.4229 - val_loss: 1.5452 - val_acc: 0.4646\n",
            "Epoch 39/40\n",
            "183/183 [==============================] - 2s 8ms/step - loss: 1.5832 - acc: 0.4258 - val_loss: 1.5611 - val_acc: 0.4782\n",
            "Epoch 40/40\n",
            "183/183 [==============================] - 2s 8ms/step - loss: 1.6006 - acc: 0.4133 - val_loss: 1.5401 - val_acc: 0.4769\n"
          ],
          "name": "stdout"
        }
      ]
    },
    {
      "cell_type": "code",
      "metadata": {
        "colab": {
          "base_uri": "https://localhost:8080/"
        },
        "id": "bwdChw_Jc6iE",
        "outputId": "a01ca1dc-7bf2-4a8a-cf76-e966617074a9"
      },
      "source": [
        "print('Evaluating the model')\n",
        "model.evaluate(validation_data)"
      ],
      "execution_count": 19,
      "outputs": [
        {
          "output_type": "stream",
          "text": [
            "Evaluating the model\n",
            "46/46 [==============================] - 17s 342ms/step - loss: 1.5401 - acc: 0.4769\n"
          ],
          "name": "stdout"
        },
        {
          "output_type": "execute_result",
          "data": {
            "text/plain": [
              "[1.540062427520752, 0.47687074542045593]"
            ]
          },
          "metadata": {
            "tags": []
          },
          "execution_count": 19
        }
      ]
    },
    {
      "cell_type": "markdown",
      "metadata": {
        "id": "0fXVvmd1dNHh"
      },
      "source": [
        "## Understanding your model\n",
        "\n",
        "When training a classifier, it's useful to see the [confusion matrix](https://en.wikipedia.org/wiki/Confusion_matrix). The confusion matrix gives you detailed knowledge of how your classifier is performing on test data.\n",
        "\n",
        "Model Maker already creates the confusion matrix for you."
      ]
    },
    {
      "cell_type": "code",
      "metadata": {
        "colab": {
          "base_uri": "https://localhost:8080/",
          "height": 295
        },
        "id": "_4hifKMMdJuD",
        "outputId": "c9063b17-ca3c-4fef-b52e-04a56b5bbab5"
      },
      "source": [
        "def show_confusion_matrix(confusion, test_labels):\n",
        "  \"\"\"Compute confusion matrix and normalize.\"\"\"\n",
        "  confusion_normalized = confusion.astype(\"float\") / confusion.sum(axis=1)\n",
        "  axis_labels = test_labels\n",
        "  ax = sns.heatmap(\n",
        "      confusion_normalized, xticklabels=axis_labels, yticklabels=axis_labels,\n",
        "      cmap='Blues', annot=True, fmt='.2f', square=True)\n",
        "  plt.title(\"Confusion matrix\")\n",
        "  plt.ylabel(\"True label\")\n",
        "  plt.xlabel(\"Predicted label\")\n",
        "\n",
        "confusion_matrix = model.confusion_matrix(validation_data)\n",
        "show_confusion_matrix(confusion_matrix.numpy(), validation_data.index_to_label)"
      ],
      "execution_count": 23,
      "outputs": [
        {
          "output_type": "display_data",
          "data": {
            "image/png": "[encoded data removed]",
            "text/plain": [
              "<Figure size 432x288 with 2 Axes>"
            ]
          },
          "metadata": {
            "tags": [],
            "needs_background": "light"
          }
        }
      ]
    },
    {
      "cell_type": "code",
      "metadata": {
        "colab": {
          "base_uri": "https://localhost:8080/"
        },
        "id": "SHV9lsaAdQS0",
        "outputId": "1d7381b3-dbd1-4e86-d867-9dcf61c239b2"
      },
      "source": [
        "serving_model = model.create_serving_model()\n",
        "\n",
        "print(f'Model\\'s input shape and type: {serving_model.inputs}')\n",
        "print(f'Model\\'s output shape and type: {serving_model.outputs}')"
      ],
      "execution_count": 25,
      "outputs": [
        {
          "output_type": "stream",
          "text": [
            "Model's input shape and type: [<KerasTensor: shape=(None, 15600) dtype=float32 (created by layer 'audio')>]\n",
            "Model's output shape and type: [<KerasTensor: shape=(1, 521) dtype=float32 (created by layer 'keras_layer')>, <KerasTensor: shape=(1, 8) dtype=float32 (created by layer 'sequential')>]\n"
          ],
          "name": "stdout"
        }
      ]
    },
    {
      "cell_type": "code",
      "metadata": {
        "colab": {
          "base_uri": "https://localhost:8080/",
          "height": 369
        },
        "id": "rrK0XPVkeVqA",
        "outputId": "c70914ee-99a1-4ff5-ff9b-8bbae701fd80"
      },
      "source": [
        "tf.keras.utils.plot_model(serving_model)"
      ],
      "execution_count": 26,
      "outputs": [
        {
          "output_type": "execute_result",
          "data": {
            "image/png": "[encoded data removed]",
            "text/plain": [
              "<IPython.core.display.Image object>"
            ]
          },
          "metadata": {
            "tags": []
          },
          "execution_count": 26
        }
      ]
    },
    {
      "cell_type": "code",
      "metadata": {
        "colab": {
          "base_uri": "https://localhost:8080/"
        },
        "id": "euOQ52Dyedpn",
        "outputId": "7ef9e85d-c90d-434b-8557-fc030cd056b1"
      },
      "source": [
        "serving_model.summary()"
      ],
      "execution_count": 27,
      "outputs": [
        {
          "output_type": "stream",
          "text": [
            "Model: \"model\"\n",
            "_________________________________________________________________\n",
            "Layer (type)                 Output Shape              Param #   \n",
            "=================================================================\n",
            "audio (InputLayer)           [(None, 15600)]           0         \n",
            "_________________________________________________________________\n",
            "tf.reshape (TFOpLambda)      (15600,)                  0         \n",
            "_________________________________________________________________\n",
            "keras_layer (KerasLayer)     [(1, 521), (1, 1024), (96 0         \n",
            "_________________________________________________________________\n",
            "sequential (Sequential)      (None, 8)                 8200      \n",
            "=================================================================\n",
            "Total params: 8,200\n",
            "Trainable params: 8,200\n",
            "Non-trainable params: 0\n",
            "_________________________________________________________________\n"
          ],
          "name": "stdout"
        }
      ]
    },
    {
      "cell_type": "code",
      "metadata": {
        "colab": {
          "base_uri": "https://localhost:8080/"
        },
        "id": "x9I7HqpefHEX",
        "outputId": "f387ec96-3904-4b35-844c-2eb90c04b03f"
      },
      "source": [
        "saved_model_path = './yamnet_model_maker'\n",
        "serving_model.save(saved_model_path, include_optimizer=False)"
      ],
      "execution_count": 28,
      "outputs": [
        {
          "output_type": "stream",
          "text": [
            "WARNING:tensorflow:Compiled the loaded model, but the compiled metrics have yet to be built. `model.compile_metrics` will be empty until you train or evaluate the model.\n"
          ],
          "name": "stdout"
        },
        {
          "output_type": "stream",
          "text": [
            "WARNING:tensorflow:Compiled the loaded model, but the compiled metrics have yet to be built. `model.compile_metrics` will be empty until you train or evaluate the model.\n"
          ],
          "name": "stderr"
        },
        {
          "output_type": "stream",
          "text": [
            "INFO:tensorflow:Assets written to: ./yamnet_model_maker/assets\n"
          ],
          "name": "stdout"
        },
        {
          "output_type": "stream",
          "text": [
            "INFO:tensorflow:Assets written to: ./yamnet_model_maker/assets\n"
          ],
          "name": "stderr"
        }
      ]
    },
    {
      "cell_type": "code",
      "metadata": {
        "id": "UL0ZKyaWeiY6"
      },
      "source": [
        "# Use with TF 2.5.0 no quantization\n",
        "MODEL_PATH  = saved_model_path\n",
        "MODEL_SAVE_PATH = \"/content/yamnet_speech_commands.tflite\"\n",
        "converter = tf.lite.TFLiteConverter.from_saved_model(MODEL_PATH) #,signature_keys=['serving_default'])\n",
        "#converter.optimizations = [tf.lite.Optimize.DEFAULT]\n",
        "#converter.experimental_new_converter = True\n",
        "#converter.target_spec.supported_ops = [tf.lite.OpsSet.TFLITE_BUILTINS, tf.lite.OpsSet.SELECT_TF_OPS]\n",
        "\n",
        "tflite_model = converter.convert()\n",
        "with tf.io.gfile.GFile(MODEL_SAVE_PATH, 'wb') as f:\n",
        "  f.write(tflite_model)\n",
        "\n",
        "\n",
        "# OR \n",
        "'''\n",
        "models_path = '/content/yamnet_speech_commands'\n",
        "print(f'Exporing the TFLite model to {models_path}')\n",
        "\n",
        "model.export(models_path, tflite_filename='yamnet_speech_commands.tflite')\n",
        "'''"
      ],
      "execution_count": 29,
      "outputs": []
    }
  ]
}