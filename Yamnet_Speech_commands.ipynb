{
  "nbformat": 4,
  "nbformat_minor": 0,
  "metadata": {
    "colab": {
      "name": "Yamnet_Speech_commands.ipynb",
      "provenance": [],
      "collapsed_sections": []
    },
    "kernelspec": {
      "name": "python3",
      "display_name": "Python 3"
    },
    "language_info": {
      "name": "python"
    },
    "accelerator": "GPU"
  },
  "cells": [
    {
      "cell_type": "code",
      "metadata": {
        "id": "V4nBdvnZmbsL"
      },
      "source": [
        "import os\n",
        "import pathlib\n",
        "\n",
        "import matplotlib.pyplot as plt\n",
        "import numpy as np\n",
        "import pandas as pd\n",
        "import seaborn as sns\n",
        "import tensorflow as tf\n",
        "from tensorflow import keras as keras\n",
        "import tensorflow_hub as hub\n",
        "\n",
        "from tensorflow.keras.layers.experimental import preprocessing\n",
        "from tensorflow.keras import layers\n",
        "from tensorflow.keras import models\n",
        "from IPython import display\n",
        "\n",
        "\n",
        "# Set seed for experiment reproducibility\n",
        "seed = 42\n",
        "tf.random.set_seed(seed)\n",
        "np.random.seed(seed)"
      ],
      "execution_count": 1,
      "outputs": []
    },
    {
      "cell_type": "code",
      "metadata": {
        "colab": {
          "base_uri": "https://localhost:8080/"
        },
        "id": "hp27RunVmqAT",
        "outputId": "776278fd-3b52-4c20-963a-b1cd0973b1e9"
      },
      "source": [
        "print(tf.__version__)\n",
        "print(keras.__version__)"
      ],
      "execution_count": 2,
      "outputs": [
        {
          "output_type": "stream",
          "text": [
            "2.5.0\n",
            "2.5.0\n"
          ],
          "name": "stdout"
        }
      ]
    },
    {
      "cell_type": "markdown",
      "metadata": {
        "id": "zGdeekKddqip"
      },
      "source": [
        "### Connect to the TPU worker\n",
        "\n",
        "The following code connects to the TPU worker and changes TensorFlow's default device to the CPU device on the TPU worker. It also defines a TPU distribution strategy that you will use to distribute model training onto the 8 separate TPU cores available on this one TPU worker. See TensorFlow's [TPU guide](https://www.tensorflow.org/guide/tpu) for more information."
      ]
    },
    {
      "cell_type": "code",
      "metadata": {
        "colab": {
          "base_uri": "https://localhost:8080/"
        },
        "id": "NvyH5niYdo0I",
        "outputId": "370cd149-0bb6-4514-d233-97a2acfca3ad"
      },
      "source": [
        "if os.environ['COLAB_TPU_ADDR']:\n",
        "  cluster_resolver = tf.distribute.cluster_resolver.TPUClusterResolver(tpu='')\n",
        "  tf.config.experimental_connect_to_cluster(cluster_resolver)\n",
        "  tf.tpu.experimental.initialize_tpu_system(cluster_resolver)\n",
        "  strategy = tf.distribute.TPUStrategy(cluster_resolver)\n",
        "  print('Using TPU')\n",
        "elif tf.test.is_gpu_available():\n",
        "  strategy = tf.distribute.MirroredStrategy()\n",
        "  print('Using GPU')\n",
        "else:\n",
        "  raise ValueError('Running on CPU is not recommended.')"
      ],
      "execution_count": 3,
      "outputs": [
        {
          "output_type": "stream",
          "text": [
            "INFO:tensorflow:Initializing the TPU system: grpc://10.37.97.186:8470\n"
          ],
          "name": "stdout"
        },
        {
          "output_type": "stream",
          "text": [
            "INFO:tensorflow:Initializing the TPU system: grpc://10.37.97.186:8470\n"
          ],
          "name": "stderr"
        },
        {
          "output_type": "stream",
          "text": [
            "INFO:tensorflow:Clearing out eager caches\n"
          ],
          "name": "stdout"
        },
        {
          "output_type": "stream",
          "text": [
            "INFO:tensorflow:Clearing out eager caches\n"
          ],
          "name": "stderr"
        },
        {
          "output_type": "stream",
          "text": [
            "INFO:tensorflow:Finished initializing TPU system.\n"
          ],
          "name": "stdout"
        },
        {
          "output_type": "stream",
          "text": [
            "INFO:tensorflow:Finished initializing TPU system.\n"
          ],
          "name": "stderr"
        },
        {
          "output_type": "stream",
          "text": [
            "INFO:tensorflow:Found TPU system:\n"
          ],
          "name": "stdout"
        },
        {
          "output_type": "stream",
          "text": [
            "INFO:tensorflow:Found TPU system:\n"
          ],
          "name": "stderr"
        },
        {
          "output_type": "stream",
          "text": [
            "INFO:tensorflow:*** Num TPU Cores: 8\n"
          ],
          "name": "stdout"
        },
        {
          "output_type": "stream",
          "text": [
            "INFO:tensorflow:*** Num TPU Cores: 8\n"
          ],
          "name": "stderr"
        },
        {
          "output_type": "stream",
          "text": [
            "INFO:tensorflow:*** Num TPU Workers: 1\n"
          ],
          "name": "stdout"
        },
        {
          "output_type": "stream",
          "text": [
            "INFO:tensorflow:*** Num TPU Workers: 1\n"
          ],
          "name": "stderr"
        },
        {
          "output_type": "stream",
          "text": [
            "INFO:tensorflow:*** Num TPU Cores Per Worker: 8\n"
          ],
          "name": "stdout"
        },
        {
          "output_type": "stream",
          "text": [
            "INFO:tensorflow:*** Num TPU Cores Per Worker: 8\n"
          ],
          "name": "stderr"
        },
        {
          "output_type": "stream",
          "text": [
            "INFO:tensorflow:*** Available Device: _DeviceAttributes(/job:localhost/replica:0/task:0/device:CPU:0, CPU, 0, 0)\n"
          ],
          "name": "stdout"
        },
        {
          "output_type": "stream",
          "text": [
            "INFO:tensorflow:*** Available Device: _DeviceAttributes(/job:localhost/replica:0/task:0/device:CPU:0, CPU, 0, 0)\n"
          ],
          "name": "stderr"
        },
        {
          "output_type": "stream",
          "text": [
            "INFO:tensorflow:*** Available Device: _DeviceAttributes(/job:worker/replica:0/task:0/device:CPU:0, CPU, 0, 0)\n"
          ],
          "name": "stdout"
        },
        {
          "output_type": "stream",
          "text": [
            "INFO:tensorflow:*** Available Device: _DeviceAttributes(/job:worker/replica:0/task:0/device:CPU:0, CPU, 0, 0)\n"
          ],
          "name": "stderr"
        },
        {
          "output_type": "stream",
          "text": [
            "INFO:tensorflow:*** Available Device: _DeviceAttributes(/job:worker/replica:0/task:0/device:TPU:0, TPU, 0, 0)\n"
          ],
          "name": "stdout"
        },
        {
          "output_type": "stream",
          "text": [
            "INFO:tensorflow:*** Available Device: _DeviceAttributes(/job:worker/replica:0/task:0/device:TPU:0, TPU, 0, 0)\n"
          ],
          "name": "stderr"
        },
        {
          "output_type": "stream",
          "text": [
            "INFO:tensorflow:*** Available Device: _DeviceAttributes(/job:worker/replica:0/task:0/device:TPU:1, TPU, 0, 0)\n"
          ],
          "name": "stdout"
        },
        {
          "output_type": "stream",
          "text": [
            "INFO:tensorflow:*** Available Device: _DeviceAttributes(/job:worker/replica:0/task:0/device:TPU:1, TPU, 0, 0)\n"
          ],
          "name": "stderr"
        },
        {
          "output_type": "stream",
          "text": [
            "INFO:tensorflow:*** Available Device: _DeviceAttributes(/job:worker/replica:0/task:0/device:TPU:2, TPU, 0, 0)\n"
          ],
          "name": "stdout"
        },
        {
          "output_type": "stream",
          "text": [
            "INFO:tensorflow:*** Available Device: _DeviceAttributes(/job:worker/replica:0/task:0/device:TPU:2, TPU, 0, 0)\n"
          ],
          "name": "stderr"
        },
        {
          "output_type": "stream",
          "text": [
            "INFO:tensorflow:*** Available Device: _DeviceAttributes(/job:worker/replica:0/task:0/device:TPU:3, TPU, 0, 0)\n"
          ],
          "name": "stdout"
        },
        {
          "output_type": "stream",
          "text": [
            "INFO:tensorflow:*** Available Device: _DeviceAttributes(/job:worker/replica:0/task:0/device:TPU:3, TPU, 0, 0)\n"
          ],
          "name": "stderr"
        },
        {
          "output_type": "stream",
          "text": [
            "INFO:tensorflow:*** Available Device: _DeviceAttributes(/job:worker/replica:0/task:0/device:TPU:4, TPU, 0, 0)\n"
          ],
          "name": "stdout"
        },
        {
          "output_type": "stream",
          "text": [
            "INFO:tensorflow:*** Available Device: _DeviceAttributes(/job:worker/replica:0/task:0/device:TPU:4, TPU, 0, 0)\n"
          ],
          "name": "stderr"
        },
        {
          "output_type": "stream",
          "text": [
            "INFO:tensorflow:*** Available Device: _DeviceAttributes(/job:worker/replica:0/task:0/device:TPU:5, TPU, 0, 0)\n"
          ],
          "name": "stdout"
        },
        {
          "output_type": "stream",
          "text": [
            "INFO:tensorflow:*** Available Device: _DeviceAttributes(/job:worker/replica:0/task:0/device:TPU:5, TPU, 0, 0)\n"
          ],
          "name": "stderr"
        },
        {
          "output_type": "stream",
          "text": [
            "INFO:tensorflow:*** Available Device: _DeviceAttributes(/job:worker/replica:0/task:0/device:TPU:6, TPU, 0, 0)\n"
          ],
          "name": "stdout"
        },
        {
          "output_type": "stream",
          "text": [
            "INFO:tensorflow:*** Available Device: _DeviceAttributes(/job:worker/replica:0/task:0/device:TPU:6, TPU, 0, 0)\n"
          ],
          "name": "stderr"
        },
        {
          "output_type": "stream",
          "text": [
            "INFO:tensorflow:*** Available Device: _DeviceAttributes(/job:worker/replica:0/task:0/device:TPU:7, TPU, 0, 0)\n"
          ],
          "name": "stdout"
        },
        {
          "output_type": "stream",
          "text": [
            "INFO:tensorflow:*** Available Device: _DeviceAttributes(/job:worker/replica:0/task:0/device:TPU:7, TPU, 0, 0)\n"
          ],
          "name": "stderr"
        },
        {
          "output_type": "stream",
          "text": [
            "INFO:tensorflow:*** Available Device: _DeviceAttributes(/job:worker/replica:0/task:0/device:TPU_SYSTEM:0, TPU_SYSTEM, 0, 0)\n"
          ],
          "name": "stdout"
        },
        {
          "output_type": "stream",
          "text": [
            "INFO:tensorflow:*** Available Device: _DeviceAttributes(/job:worker/replica:0/task:0/device:TPU_SYSTEM:0, TPU_SYSTEM, 0, 0)\n"
          ],
          "name": "stderr"
        },
        {
          "output_type": "stream",
          "text": [
            "INFO:tensorflow:*** Available Device: _DeviceAttributes(/job:worker/replica:0/task:0/device:XLA_CPU:0, XLA_CPU, 0, 0)\n"
          ],
          "name": "stdout"
        },
        {
          "output_type": "stream",
          "text": [
            "INFO:tensorflow:*** Available Device: _DeviceAttributes(/job:worker/replica:0/task:0/device:XLA_CPU:0, XLA_CPU, 0, 0)\n"
          ],
          "name": "stderr"
        },
        {
          "output_type": "stream",
          "text": [
            "Using TPU\n"
          ],
          "name": "stdout"
        }
      ]
    },
    {
      "cell_type": "code",
      "metadata": {
        "colab": {
          "base_uri": "https://localhost:8080/"
        },
        "id": "4VOzK-SNdzak",
        "outputId": "195873a6-e12f-4175-e7bd-e75dba22b7dc"
      },
      "source": [
        "# View some info of the TPU in this colaboratory\n",
        "from tensorflow.python.profiler import profiler_client\n",
        "\n",
        "tpu_profile_service_address = os.environ['COLAB_TPU_ADDR'].replace('8470', '8466')\n",
        "print(profiler_client.monitor(tpu_profile_service_address, 100, 2))"
      ],
      "execution_count": 4,
      "outputs": [
        {
          "output_type": "stream",
          "text": [
            "  Timestamp: 04:25:13\n",
            "  TPU type: TPU v2\n",
            "  Utilization of TPU Matrix Units (higher is better): 0.000%\n",
            "\n",
            "\n"
          ],
          "name": "stdout"
        }
      ]
    },
    {
      "cell_type": "code",
      "metadata": {
        "colab": {
          "base_uri": "https://localhost:8080/"
        },
        "id": "bLUNrpLeeBvC",
        "outputId": "bebb623e-5eec-470a-963c-37ca918305bd"
      },
      "source": [
        "#To go fast on a TPU, increase the batch size. The rule of thumb is to use batches of 128 elements per core (ex: batch size of 128*8=1024 for a TPU with 8 cores). \n",
        "#At this size, the 128x128 hardware matrix multipliers of the TPU (see hardware section below) are most likely to be kept busy. \n",
        "#You start seeing interesting speedups from a batch size of 8 per core though. In the sample above, the batch size is scaled with the core count\n",
        "\n",
        "# mixed precision\n",
        "# On TPU, bfloat16/float32 mixed precision is automatically used in TPU computations.\n",
        "# Enabling it in Keras also stores relevant variables in bfloat16 format (memory optimization).\n",
        "# On GPU, specifically V100, mixed precision must be enabled for hardware TensorCores to be used.\n",
        "# XLA compilation must be enabled for this to work. (On TPU, XLA compilation is the default)\n",
        "MIXED_PRECISION = False\n",
        "if MIXED_PRECISION:\n",
        "    if tpu: \n",
        "        policy = tf.keras.mixed_precision.experimental.Policy('mixed_bfloat16')\n",
        "    else: #\n",
        "        policy = tf.keras.mixed_precision.experimental.Policy('mixed_float16')\n",
        "        tf.config.optimizer.set_jit(True) # XLA compilation\n",
        "    tf.keras.mixed_precision.experimental.set_policy(policy)\n",
        "    print('Mixed precision enabled')\n",
        "\n",
        "# batch and learning rate settings\n",
        "if strategy.num_replicas_in_sync == 8: # TPU or 8xGPU\n",
        "    BATCH_SIZE = 16 * strategy.num_replicas_in_sync\n",
        "    VALIDATION_BATCH_SIZE = 16 * strategy.num_replicas_in_sync\n",
        "    print('8')\n",
        "    \n",
        "elif strategy.num_replicas_in_sync == 1: # single GPU\n",
        "    BATCH_SIZE = 16\n",
        "    VALIDATION_BATCH_SIZE = 16\n",
        "    print('1')\n",
        "    \n",
        "else: # TPU pod\n",
        "    BATCH_SIZE = 8 * strategy.num_replicas_in_sync\n",
        "    VALIDATION_BATCH_SIZE = 8 * strategy.num_replicas_in_sync\n",
        "    print('else')"
      ],
      "execution_count": 5,
      "outputs": [
        {
          "output_type": "stream",
          "text": [
            "8\n"
          ],
          "name": "stdout"
        }
      ]
    },
    {
      "cell_type": "code",
      "metadata": {
        "colab": {
          "base_uri": "https://localhost:8080/"
        },
        "id": "muTu3WVDmtZ3",
        "outputId": "61721e35-4ca4-4987-a120-ef10b31a34e6"
      },
      "source": [
        "# Download folder and unzip it\n",
        "data_dir = pathlib.Path('data/mini_speech_commands')\n",
        "if not data_dir.exists():\n",
        "  tf.keras.utils.get_file(\n",
        "      'mini_speech_commands.zip',\n",
        "      origin=\"http://storage.googleapis.com/download.tensorflow.org/data/mini_speech_commands.zip\",\n",
        "      extract=True,\n",
        "      cache_dir='.', cache_subdir='data')\n"
      ],
      "execution_count": 3,
      "outputs": [
        {
          "output_type": "stream",
          "text": [
            "Downloading data from http://storage.googleapis.com/download.tensorflow.org/data/mini_speech_commands.zip\n",
            "182083584/182082353 [==============================] - 1s 0us/step\n"
          ],
          "name": "stdout"
        }
      ]
    },
    {
      "cell_type": "code",
      "metadata": {
        "colab": {
          "base_uri": "https://localhost:8080/"
        },
        "id": "fLtzkqMZoriw",
        "outputId": "576e168c-b008-467e-e319-87468c411495"
      },
      "source": [
        "# Print commands\n",
        "commands = np.array(tf.io.gfile.listdir(str(data_dir)))\n",
        "commands = commands[commands != 'README.md']\n",
        "print('Commands:', commands)\n",
        "\n",
        "# Shuffle audio samples and print some info\n",
        "filenames = tf.io.gfile.glob(str(data_dir) + '/*/*')\n",
        "filenames = tf.random.shuffle(filenames)\n",
        "print(type(filenames))\n",
        "num_samples = len(filenames)\n",
        "print('Number of total examples:', num_samples)\n",
        "print('Number of examples per label:', len(tf.io.gfile.listdir(str(data_dir/commands[0]))))\n",
        "print('Example file tensor:', filenames[0])"
      ],
      "execution_count": 4,
      "outputs": [
        {
          "output_type": "stream",
          "text": [
            "Commands: ['left' 'down' 'go' 'right' 'yes' 'up' 'no' 'stop']\n",
            "<class 'tensorflow.python.framework.ops.EagerTensor'>\n",
            "Number of total examples: 8000\n",
            "Number of examples per label: 1000\n",
            "Example file tensor: tf.Tensor(b'data/mini_speech_commands/no/07c5129e_nohash_0.wav', shape=(), dtype=string)\n"
          ],
          "name": "stdout"
        }
      ]
    },
    {
      "cell_type": "code",
      "metadata": {
        "colab": {
          "base_uri": "https://localhost:8080/"
        },
        "id": "zm7QL6DsqRhs",
        "outputId": "5c3f6d84-2519-4296-ec58-f03422ad24a7"
      },
      "source": [
        "# Split dataset\n",
        "train_files = filenames[:6400]\n",
        "val_files = filenames[6400: 6400 + 800]\n",
        "test_files = filenames[-800:]\n",
        "\n",
        "print('Training set size', len(train_files))\n",
        "print('Validation set size', len(val_files))\n",
        "print('Test set size', len(test_files))"
      ],
      "execution_count": 5,
      "outputs": [
        {
          "output_type": "stream",
          "text": [
            "Training set size 6400\n",
            "Validation set size 800\n",
            "Test set size 800\n"
          ],
          "name": "stdout"
        }
      ]
    },
    {
      "cell_type": "code",
      "metadata": {
        "id": "xplb9y16nWbV"
      },
      "source": [
        "'''\n",
        "The audio file will initially be read as a binary file, which you'll want to convert into a numerical tensor.\n",
        "To load an audio file, you will use tf.audio.decode_wav, which returns the WAV-encoded audio as a Tensor and the sample rate.\n",
        "A WAV file contains time series data with a set number of samples per second. Each sample represents the amplitude of the audio signal at that specific time.\n",
        "In a 16-bit system, like the files in mini_speech_commands, the values range from -32768 to 32767. The sample rate for this dataset is 16kHz. \n",
        "Note that tf.audio.decode_wav will normalize the values to the range [-1.0, 1.0].\n",
        "'''\n",
        "def decode_audio(audio_binary):\n",
        "  audio, _ = tf.audio.decode_wav(audio_binary)\n",
        "  return tf.squeeze(audio, axis=-1)\n",
        "\n",
        "def get_label(file_path):\n",
        "  parts = tf.strings.split(file_path, os.path.sep)\n",
        "\n",
        "  # Note: You'll use indexing here instead of tuple unpacking to enable this \n",
        "  # to work in a TensorFlow graph.\n",
        "  return parts[-2]\n",
        "\n",
        "def get_waveform_and_label(file_path):\n",
        "  label = get_label(file_path)\n",
        "  audio_binary = tf.io.read_file(file_path)\n",
        "  waveform = decode_audio(audio_binary)\n",
        "  return waveform, label\n"
      ],
      "execution_count": 6,
      "outputs": []
    },
    {
      "cell_type": "code",
      "metadata": {
        "id": "yLRC1F22p9Xl"
      },
      "source": [
        "'''\n",
        "You will now apply process_path to build your training set to extract the audio-label pairs and check the results. \n",
        "You'll build the validation and test sets using a similar procedure later on.\n",
        "'''\n",
        "AUTOTUNE = tf.data.AUTOTUNE\n",
        "files_ds = tf.data.Dataset.from_tensor_slices(train_files)\n",
        "waveform_ds = files_ds.map(get_waveform_and_label, num_parallel_calls=AUTOTUNE)"
      ],
      "execution_count": 7,
      "outputs": []
    },
    {
      "cell_type": "code",
      "metadata": {
        "colab": {
          "base_uri": "https://localhost:8080/"
        },
        "id": "Y-cQks5ZqZvD",
        "outputId": "fe2d4b53-c995-4590-9fd4-6261d5f57dfa"
      },
      "source": [
        "print(type(files_ds))\n",
        "print(files_ds)\n",
        "print(type(waveform_ds))\n",
        "print(waveform_ds.take(0))\n",
        "audio, label = waveform_ds.take(2)\n",
        "print(len(audio[0]))"
      ],
      "execution_count": 8,
      "outputs": [
        {
          "output_type": "stream",
          "text": [
            "<class 'tensorflow.python.data.ops.dataset_ops.TensorSliceDataset'>\n",
            "<TensorSliceDataset shapes: (), types: tf.string>\n",
            "<class 'tensorflow.python.data.ops.dataset_ops.ParallelMapDataset'>\n",
            "<TakeDataset shapes: ((None,), ()), types: (tf.float32, tf.string)>\n",
            "16000\n"
          ],
          "name": "stdout"
        }
      ]
    },
    {
      "cell_type": "code",
      "metadata": {
        "colab": {
          "base_uri": "https://localhost:8080/",
          "height": 716
        },
        "id": "KsAlEzCGqb0Y",
        "outputId": "61d604ec-f9e4-4c70-8451-49468b9c9764"
      },
      "source": [
        "# Do some ploting to view the dataset\n",
        "rows = 3\n",
        "cols = 3\n",
        "n = rows*cols\n",
        "fig, axes = plt.subplots(rows, cols, figsize=(10, 12))\n",
        "for i, (audio, label) in enumerate(waveform_ds.take(n)):\n",
        "  r = i // cols\n",
        "  c = i % cols\n",
        "  ax = axes[r][c]\n",
        "  ax.plot(audio.numpy())\n",
        "  ax.set_yticks(np.arange(-1.2, 1.2, 0.2))\n",
        "  label = label.numpy().decode('utf-8')\n",
        "  ax.set_title(label)\n",
        "\n",
        "plt.show()"
      ],
      "execution_count": 9,
      "outputs": [
        {
          "output_type": "display_data",
          "data": {
            "image/png": "[encoded data removed]",
            "text/plain": [
              "<Figure size 720x864 with 9 Axes>"
            ]
          },
          "metadata": {
            "tags": [],
            "needs_background": "light"
          }
        }
      ]
    },
    {
      "cell_type": "code",
      "metadata": {
        "id": "Ss8j1MnjrnnY"
      },
      "source": [
        "# We need the waveforms to have a similar length.\n",
        "# This can be done by simply zero padding the audio clips that are shorter than one second.\n",
        "\n",
        "def zero_pad_the_waveforms(waveform):\n",
        "  # Padding for files with less than 16000 samples\n",
        "  zero_padding = tf.zeros([16000] - tf.shape(waveform), dtype=tf.float32)\n",
        "\n",
        "  # Concatenate audio with padding so that all audio clips will be of the \n",
        "  # same length\n",
        "  waveform = tf.cast(waveform, tf.float32)\n",
        "  equal_length = tf.concat([waveform, zero_padding], 0)\n",
        "\n",
        "  return equal_length"
      ],
      "execution_count": 10,
      "outputs": []
    },
    {
      "cell_type": "code",
      "metadata": {
        "colab": {
          "base_uri": "https://localhost:8080/",
          "height": 194
        },
        "id": "Jcfoc6fCs9np",
        "outputId": "6a8aef75-7a2d-4a6c-9da1-a287c650836a"
      },
      "source": [
        "# Explore the data\n",
        "for waveform, label in waveform_ds.take(2000):\n",
        "  label = label.numpy().decode('utf-8')\n",
        "  audio_one = zero_pad_the_waveforms(waveform)\n",
        "\n",
        "print('Label:', label)\n",
        "print('Waveform shape:', waveform.shape)\n",
        "print('Audio one shape:', audio_one.shape)\n",
        "print('Audio playback')\n",
        "display.display(display.Audio(waveform, rate=16000))\n",
        "print(audio_one)"
      ],
      "execution_count": 11,
      "outputs": [
        {
          "output_type": "stream",
          "text": [
            "Label: down\n",
            "Waveform shape: (16000,)\n",
            "Audio one shape: (16000,)\n",
            "Audio playback\n"
          ],
          "name": "stdout"
        },
        {
          "output_type": "display_data",
          "data": {
            "text/html": [
              "\n",
              "                <audio controls=\"controls\" >\n",
              "                    <source src=\"data:audio/wav;base64,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\" type=\"audio/wav\" />\n",
              "                    Your browser does not support the audio element.\n",
              "                </audio>\n",
              "              "
            ],
            "text/plain": [
              "<IPython.lib.display.Audio object>"
            ]
          },
          "metadata": {
            "tags": []
          }
        },
        {
          "output_type": "stream",
          "text": [
            "tf.Tensor(\n",
            "[-0.00115967 -0.00094604 -0.00076294 ... -0.00161743 -0.00219727\n",
            " -0.00296021], shape=(16000,), dtype=float32)\n"
          ],
          "name": "stdout"
        }
      ]
    },
    {
      "cell_type": "code",
      "metadata": {
        "id": "aL7nuBkytu3y"
      },
      "source": [
        "def get_zero_padded_waveforms_and_label_id(audio, label):\n",
        "  audio_one = zero_pad_the_waveforms(audio)\n",
        "  label_id = tf.argmax(label == commands)\n",
        "  return audio_one, label_id\n",
        "\n",
        "audio_zero_padded_ds = waveform_ds.map(get_zero_padded_waveforms_and_label_id, num_parallel_calls=AUTOTUNE)"
      ],
      "execution_count": 12,
      "outputs": []
    },
    {
      "cell_type": "code",
      "metadata": {
        "id": "5G0BY2T0vs0_"
      },
      "source": [
        "# Helper function for dataset\n",
        "def preprocess_dataset(files):\n",
        "  files_ds = tf.data.Dataset.from_tensor_slices(files)\n",
        "  output_ds = files_ds.map(get_waveform_and_label, num_parallel_calls=AUTOTUNE)\n",
        "  output_ds = output_ds.map(get_zero_padded_waveforms_and_label_id,  num_parallel_calls=AUTOTUNE)\n",
        "  return output_ds\n",
        "\n",
        "train_ds = audio_zero_padded_ds\n",
        "val_ds = preprocess_dataset(val_files)\n",
        "test_ds = preprocess_dataset(test_files)"
      ],
      "execution_count": 13,
      "outputs": []
    },
    {
      "cell_type": "code",
      "metadata": {
        "id": "N5wqEeYIXIqD"
      },
      "source": [
        "#batch_size = 64\n",
        "#train_ds = train_ds.batch(batch_size)\n",
        "#val_ds = val_ds.batch(batch_size)\n",
        "\n",
        "#train_ds = train_ds.cache().prefetch(AUTOTUNE)\n",
        "#val_ds = val_ds.cache().prefetch(AUTOTUNE)"
      ],
      "execution_count": 14,
      "outputs": []
    },
    {
      "cell_type": "markdown",
      "metadata": {
        "id": "4O-t_navYRMz"
      },
      "source": [
        "# Yamnet"
      ]
    },
    {
      "cell_type": "code",
      "metadata": {
        "id": "YgVIlfJbYS7x"
      },
      "source": [
        "# Download the model from TFHub\n",
        "yamnet_model_handle = 'https://tfhub.dev/google/yamnet/1'\n",
        "yamnet_model = hub.load(yamnet_model_handle)"
      ],
      "execution_count": 14,
      "outputs": []
    },
    {
      "cell_type": "code",
      "metadata": {
        "colab": {
          "base_uri": "https://localhost:8080/"
        },
        "id": "uTaogiDRYTiT",
        "outputId": "afccf0a0-c352-4df7-a691-52d12a2f6f1f"
      },
      "source": [
        "# Print the classes\n",
        "class_map_path = yamnet_model.class_map_path().numpy().decode('utf-8')\n",
        "class_names =list(pd.read_csv(class_map_path)['display_name'])\n",
        "\n",
        "for name in class_names[:20]:\n",
        "  print(name)\n",
        "print('...')"
      ],
      "execution_count": 15,
      "outputs": [
        {
          "output_type": "stream",
          "text": [
            "Speech\n",
            "Child speech, kid speaking\n",
            "Conversation\n",
            "Narration, monologue\n",
            "Babbling\n",
            "Speech synthesizer\n",
            "Shout\n",
            "Bellow\n",
            "Whoop\n",
            "Yell\n",
            "Children shouting\n",
            "Screaming\n",
            "Whispering\n",
            "Laughter\n",
            "Baby laughter\n",
            "Giggle\n",
            "Snicker\n",
            "Belly laugh\n",
            "Chuckle, chortle\n",
            "Crying, sobbing\n",
            "...\n"
          ],
          "name": "stdout"
        }
      ]
    },
    {
      "cell_type": "code",
      "metadata": {
        "colab": {
          "base_uri": "https://localhost:8080/"
        },
        "id": "8Bg5059rZY44",
        "outputId": "8c610d61-a2a5-4a82-f626-84c8cfa5b9c6"
      },
      "source": [
        "# applies the embedding extraction model to a wav data\n",
        "def extract_embedding(wav_data, label):\n",
        "  ''' run YAMNet to extract embedding from the wav data '''\n",
        "  scores, embeddings, spectrogram = yamnet_model(wav_data)\n",
        "  num_embeddings = tf.shape(embeddings)[0]\n",
        "  return (embeddings,\n",
        "            tf.repeat(label, num_embeddings))\n",
        "  \n",
        "  # extract embedding\n",
        "train_ds = train_ds.map(extract_embedding).unbatch()\n",
        "train_ds.element_spec\n",
        "\n",
        "val_ds = val_ds.map(extract_embedding).unbatch()\n",
        "val_ds.element_spec"
      ],
      "execution_count": 16,
      "outputs": [
        {
          "output_type": "execute_result",
          "data": {
            "text/plain": [
              "(TensorSpec(shape=(1024,), dtype=tf.float32, name=None),\n",
              " TensorSpec(shape=(), dtype=tf.int64, name=None))"
            ]
          },
          "metadata": {
            "tags": []
          },
          "execution_count": 16
        }
      ]
    },
    {
      "cell_type": "code",
      "metadata": {
        "id": "_r7vioRlcEKc"
      },
      "source": [
        "train_ds = train_ds.cache().shuffle(1000).batch(32).prefetch(tf.data.AUTOTUNE)\n",
        "val_ds = val_ds.cache().batch(32).prefetch(tf.data.AUTOTUNE)"
      ],
      "execution_count": 17,
      "outputs": []
    },
    {
      "cell_type": "code",
      "metadata": {
        "colab": {
          "base_uri": "https://localhost:8080/"
        },
        "id": "nMtM8rRJcKv2",
        "outputId": "1954c52c-2b63-455b-8e3f-082a82965fe4"
      },
      "source": [
        "my_model = tf.keras.Sequential([\n",
        "    tf.keras.layers.Input(shape=(1024), dtype=tf.float32,\n",
        "                          name='input_embedding'),\n",
        "    tf.keras.layers.Dense(512, activation='relu'),\n",
        "    tf.keras.layers.Dense(len(commands))\n",
        "], name='my_model')\n",
        "\n",
        "my_model.summary()"
      ],
      "execution_count": 18,
      "outputs": [
        {
          "output_type": "stream",
          "text": [
            "WARNING:tensorflow:Please add `keras.layers.InputLayer` instead of `keras.Input` to Sequential model. `keras.Input` is intended to be used by Functional model.\n"
          ],
          "name": "stdout"
        },
        {
          "output_type": "stream",
          "text": [
            "WARNING:tensorflow:Please add `keras.layers.InputLayer` instead of `keras.Input` to Sequential model. `keras.Input` is intended to be used by Functional model.\n"
          ],
          "name": "stderr"
        },
        {
          "output_type": "stream",
          "text": [
            "Model: \"my_model\"\n",
            "_________________________________________________________________\n",
            "Layer (type)                 Output Shape              Param #   \n",
            "=================================================================\n",
            "dense (Dense)                (None, 512)               524800    \n",
            "_________________________________________________________________\n",
            "dense_1 (Dense)              (None, 8)                 4104      \n",
            "=================================================================\n",
            "Total params: 528,904\n",
            "Trainable params: 528,904\n",
            "Non-trainable params: 0\n",
            "_________________________________________________________________\n"
          ],
          "name": "stdout"
        }
      ]
    },
    {
      "cell_type": "code",
      "metadata": {
        "id": "U2NRLuW4cobr"
      },
      "source": [
        "my_model.compile(loss=tf.keras.losses.SparseCategoricalCrossentropy(from_logits=True),\n",
        "                 optimizer=\"adam\",\n",
        "                 metrics=['accuracy'])\n",
        "\n",
        "callback = tf.keras.callbacks.EarlyStopping(monitor='loss',\n",
        "                                            patience=3,\n",
        "                                            restore_best_weights=True)"
      ],
      "execution_count": 20,
      "outputs": []
    },
    {
      "cell_type": "code",
      "metadata": {
        "colab": {
          "base_uri": "https://localhost:8080/"
        },
        "id": "h6xPZ0iTctvK",
        "outputId": "f7eaa0c0-80bd-440b-ca5e-3ca11c04d533"
      },
      "source": [
        "history = my_model.fit(train_ds,\n",
        "                       epochs=20,\n",
        "                       validation_data=val_ds,\n",
        "                       callbacks=callback,\n",
        "                       verbose=1)"
      ],
      "execution_count": 21,
      "outputs": [
        {
          "output_type": "stream",
          "text": [
            "Epoch 1/20\n",
            "400/400 [==============================] - 123s 279ms/step - loss: 1.8068 - accuracy: 0.3280 - val_loss: 1.7141 - val_accuracy: 0.3506\n",
            "Epoch 2/20\n",
            "400/400 [==============================] - 1s 3ms/step - loss: 1.5711 - accuracy: 0.4184 - val_loss: 1.5887 - val_accuracy: 0.4206\n",
            "Epoch 3/20\n",
            "400/400 [==============================] - 1s 3ms/step - loss: 1.4788 - accuracy: 0.4470 - val_loss: 1.5640 - val_accuracy: 0.4300\n",
            "Epoch 4/20\n",
            "400/400 [==============================] - 1s 3ms/step - loss: 1.3909 - accuracy: 0.4898 - val_loss: 1.5330 - val_accuracy: 0.4419\n",
            "Epoch 5/20\n",
            "400/400 [==============================] - 1s 3ms/step - loss: 1.3315 - accuracy: 0.5088 - val_loss: 1.5351 - val_accuracy: 0.4250\n",
            "Epoch 6/20\n",
            "400/400 [==============================] - 1s 3ms/step - loss: 1.2514 - accuracy: 0.5345 - val_loss: 1.5181 - val_accuracy: 0.4381\n",
            "Epoch 7/20\n",
            "400/400 [==============================] - 1s 3ms/step - loss: 1.1825 - accuracy: 0.5679 - val_loss: 1.5248 - val_accuracy: 0.4381\n",
            "Epoch 8/20\n",
            "400/400 [==============================] - 1s 3ms/step - loss: 1.1151 - accuracy: 0.5995 - val_loss: 1.5308 - val_accuracy: 0.4306\n",
            "Epoch 9/20\n",
            "400/400 [==============================] - 1s 3ms/step - loss: 1.0529 - accuracy: 0.6231 - val_loss: 1.5539 - val_accuracy: 0.4431\n",
            "Epoch 10/20\n",
            "400/400 [==============================] - 1s 3ms/step - loss: 0.9956 - accuracy: 0.6444 - val_loss: 1.5731 - val_accuracy: 0.4550\n",
            "Epoch 11/20\n",
            "400/400 [==============================] - 1s 3ms/step - loss: 0.9274 - accuracy: 0.6732 - val_loss: 1.5870 - val_accuracy: 0.4475\n",
            "Epoch 12/20\n",
            "400/400 [==============================] - 1s 3ms/step - loss: 0.8640 - accuracy: 0.6987 - val_loss: 1.6096 - val_accuracy: 0.4538\n",
            "Epoch 13/20\n",
            "400/400 [==============================] - 1s 3ms/step - loss: 0.8011 - accuracy: 0.7266 - val_loss: 1.6354 - val_accuracy: 0.4538\n",
            "Epoch 14/20\n",
            "400/400 [==============================] - 1s 3ms/step - loss: 0.7545 - accuracy: 0.7467 - val_loss: 1.6422 - val_accuracy: 0.4669\n",
            "Epoch 15/20\n",
            "400/400 [==============================] - 1s 3ms/step - loss: 0.6913 - accuracy: 0.7677 - val_loss: 1.6800 - val_accuracy: 0.4606\n",
            "Epoch 16/20\n",
            "400/400 [==============================] - 1s 3ms/step - loss: 0.6424 - accuracy: 0.7888 - val_loss: 1.7184 - val_accuracy: 0.4569\n",
            "Epoch 17/20\n",
            "400/400 [==============================] - 1s 3ms/step - loss: 0.5848 - accuracy: 0.8131 - val_loss: 1.7774 - val_accuracy: 0.4650\n",
            "Epoch 18/20\n",
            "400/400 [==============================] - 1s 3ms/step - loss: 0.5411 - accuracy: 0.8282 - val_loss: 1.8013 - val_accuracy: 0.4475\n",
            "Epoch 19/20\n",
            "400/400 [==============================] - 1s 3ms/step - loss: 0.4957 - accuracy: 0.8446 - val_loss: 1.8478 - val_accuracy: 0.4450\n",
            "Epoch 20/20\n",
            "400/400 [==============================] - 1s 3ms/step - loss: 0.4512 - accuracy: 0.8644 - val_loss: 1.8831 - val_accuracy: 0.4594\n"
          ],
          "name": "stdout"
        }
      ]
    },
    {
      "cell_type": "code",
      "metadata": {
        "colab": {
          "base_uri": "https://localhost:8080/",
          "height": 265
        },
        "id": "hVc_95bRgKvQ",
        "outputId": "263f1670-b522-4ddf-8045-8b3085c94107"
      },
      "source": [
        "metrics = history.history\n",
        "plt.plot(history.epoch, metrics['loss'], metrics['val_loss'])\n",
        "plt.legend(['loss', 'val_loss'])\n",
        "plt.show()"
      ],
      "execution_count": 22,
      "outputs": [
        {
          "output_type": "display_data",
          "data": {
            "image/png": "[encoded data removed]",
            "text/plain": [
              "<Figure size 432x288 with 1 Axes>"
            ]
          },
          "metadata": {
            "tags": [],
            "needs_background": "light"
          }
        }
      ]
    },
    {
      "cell_type": "code",
      "metadata": {
        "colab": {
          "base_uri": "https://localhost:8080/"
        },
        "id": "DJ6LBJPdcx_q",
        "outputId": "394865d6-65e1-4bb4-c8cd-3efee87d5a76"
      },
      "source": [
        "scores, embeddings, spectrogram = yamnet_model(get_waveform_and_label('/content/data/mini_speech_commands/stop/012c8314_nohash_0.wav')[0])\n",
        "result = my_model(embeddings).numpy()\n",
        "\n",
        "infered_class = commands[result.mean(axis=0).argmax()]\n",
        "print(f'The main sound is: {infered_class}')"
      ],
      "execution_count": 24,
      "outputs": [
        {
          "output_type": "stream",
          "text": [
            "The main sound is: stop\n"
          ],
          "name": "stdout"
        }
      ]
    }
  ]
}